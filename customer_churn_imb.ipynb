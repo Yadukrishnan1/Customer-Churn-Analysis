{
  "nbformat": 4,
  "nbformat_minor": 0,
  "metadata": {
    "colab": {
      "name": "customer_churn_imb.ipynb",
      "provenance": [],
      "collapsed_sections": [],
      "mount_file_id": "1E-cQ0VbIqaDbPwQ1NJICQMcyvENxC5_3",
      "authorship_tag": "ABX9TyNIY/r/GCYGi9cdiuG/ps2y",
      "include_colab_link": true
    },
    "kernelspec": {
      "name": "python3",
      "display_name": "Python 3"
    },
    "language_info": {
      "name": "python"
    }
  },
  "cells": [
    {
      "cell_type": "markdown",
      "metadata": {
        "id": "view-in-github",
        "colab_type": "text"
      },
      "source": [
        "<a href=\"https://colab.research.google.com/github/Yadukrishnan1/Customer-Churn-Analysis/blob/main/customer_churn_imb.ipynb\" target=\"_parent\"><img src=\"https://colab.research.google.com/assets/colab-badge.svg\" alt=\"Open In Colab\"/></a>"
      ]
    },
    {
      "cell_type": "markdown",
      "metadata": {
        "id": "-8h_981lQ25m"
      },
      "source": [
        "# Imbalanced Data Analysis\n",
        "\n",
        "The objective of this notebook is to see how much value can be extracted while keeping the imbalance of the datset intact. "
      ]
    },
    {
      "cell_type": "markdown",
      "metadata": {
        "id": "Kx-kVMKougr2"
      },
      "source": [
        "**Loading packages...**\n",
        "\n",
        "\n"
      ]
    },
    {
      "cell_type": "code",
      "metadata": {
        "id": "bnFHRX90DcLt"
      },
      "source": [
        "import numpy as np\n",
        "import math\n",
        "import pandas as pd\n",
        "import matplotlib.pyplot as plt\n",
        "import seaborn as sns\n",
        "\n",
        "# Scikit-learn for ML prediction and modelling\n",
        "\n",
        "from sklearn.preprocessing import StandardScaler\n",
        "import sklearn\n",
        "from sklearn.metrics import mean_squared_error, f1_score, roc_curve, auc, roc_auc_score, confusion_matrix\n",
        "from sklearn.model_selection import train_test_split\n",
        "from sklearn import tree\n",
        "from mpl_toolkits import mplot3d\n",
        "from sklearn.preprocessing import OneHotEncoder, OrdinalEncoder, LabelEncoder\n",
        "from sklearn.linear_model import LinearRegression, LogisticRegression, LogisticRegressionCV\n",
        "from sklearn.tree import DecisionTreeClassifier\n",
        "from sklearn.ensemble import RandomForestClassifier\n",
        "from sklearn.model_selection import cross_val_score, GridSearchCV, train_test_split, KFold, RandomizedSearchCV\n",
        "\n",
        "from xgboost.sklearn import XGBRegressor, XGBClassifier\n",
        "import xgboost as xgb\n",
        "\n",
        "from os import path\n",
        "\n",
        "import warnings\n",
        "warnings.filterwarnings(\"ignore\")\n",
        "\n",
        "%matplotlib inline"
      ],
      "execution_count": 69,
      "outputs": []
    },
    {
      "cell_type": "code",
      "metadata": {
        "id": "m79Zmh-7EC20"
      },
      "source": [
        "feat_df=pd.read_csv(\"/content/drive/MyDrive/Colab Notebooks/Robinhood/features_data.csv\")\n",
        "eq_df=pd.read_csv(\"/content/drive/MyDrive/Colab Notebooks/Robinhood/equity_value_data.csv\")"
      ],
      "execution_count": 70,
      "outputs": []
    },
    {
      "cell_type": "markdown",
      "metadata": {
        "id": "fvrwp0Btvms_"
      },
      "source": [
        "# **Part 1**: Determine the user classes and find out the percentage of both."
      ]
    },
    {
      "cell_type": "markdown",
      "metadata": {
        "id": "xe0I6Zc2uuOf"
      },
      "source": [
        "## Exploratory Data Analysis (**EDA**) to determine the users who have churned."
      ]
    },
    {
      "cell_type": "code",
      "metadata": {
        "colab": {
          "base_uri": "https://localhost:8080/",
          "height": 241
        },
        "id": "IG96rGfFF1Ay",
        "outputId": "2fe55d88-4a1d-46f9-e84a-8e64ee89c678"
      },
      "source": [
        "print(eq_df.shape, '\\n')\n",
        "eq_df.head()"
      ],
      "execution_count": 71,
      "outputs": [
        {
          "output_type": "stream",
          "name": "stdout",
          "text": [
            "(1119158, 3) \n",
            "\n"
          ]
        },
        {
          "output_type": "execute_result",
          "data": {
            "text/html": [
              "<div>\n",
              "<style scoped>\n",
              "    .dataframe tbody tr th:only-of-type {\n",
              "        vertical-align: middle;\n",
              "    }\n",
              "\n",
              "    .dataframe tbody tr th {\n",
              "        vertical-align: top;\n",
              "    }\n",
              "\n",
              "    .dataframe thead th {\n",
              "        text-align: right;\n",
              "    }\n",
              "</style>\n",
              "<table border=\"1\" class=\"dataframe\">\n",
              "  <thead>\n",
              "    <tr style=\"text-align: right;\">\n",
              "      <th></th>\n",
              "      <th>timestamp</th>\n",
              "      <th>close_equity</th>\n",
              "      <th>user_id</th>\n",
              "    </tr>\n",
              "  </thead>\n",
              "  <tbody>\n",
              "    <tr>\n",
              "      <th>0</th>\n",
              "      <td>2016-11-16T00:00:00Z</td>\n",
              "      <td>48.16</td>\n",
              "      <td>bcef4fa9b0bdf22bcf7deae708decf03</td>\n",
              "    </tr>\n",
              "    <tr>\n",
              "      <th>1</th>\n",
              "      <td>2016-11-17T00:00:00Z</td>\n",
              "      <td>48.16</td>\n",
              "      <td>bcef4fa9b0bdf22bcf7deae708decf03</td>\n",
              "    </tr>\n",
              "    <tr>\n",
              "      <th>2</th>\n",
              "      <td>2016-11-18T00:00:00Z</td>\n",
              "      <td>48.16</td>\n",
              "      <td>bcef4fa9b0bdf22bcf7deae708decf03</td>\n",
              "    </tr>\n",
              "    <tr>\n",
              "      <th>3</th>\n",
              "      <td>2016-11-21T00:00:00Z</td>\n",
              "      <td>48.16</td>\n",
              "      <td>bcef4fa9b0bdf22bcf7deae708decf03</td>\n",
              "    </tr>\n",
              "    <tr>\n",
              "      <th>4</th>\n",
              "      <td>2016-11-22T00:00:00Z</td>\n",
              "      <td>48.16</td>\n",
              "      <td>bcef4fa9b0bdf22bcf7deae708decf03</td>\n",
              "    </tr>\n",
              "  </tbody>\n",
              "</table>\n",
              "</div>"
            ],
            "text/plain": [
              "              timestamp  close_equity                           user_id\n",
              "0  2016-11-16T00:00:00Z         48.16  bcef4fa9b0bdf22bcf7deae708decf03\n",
              "1  2016-11-17T00:00:00Z         48.16  bcef4fa9b0bdf22bcf7deae708decf03\n",
              "2  2016-11-18T00:00:00Z         48.16  bcef4fa9b0bdf22bcf7deae708decf03\n",
              "3  2016-11-21T00:00:00Z         48.16  bcef4fa9b0bdf22bcf7deae708decf03\n",
              "4  2016-11-22T00:00:00Z         48.16  bcef4fa9b0bdf22bcf7deae708decf03"
            ]
          },
          "metadata": {},
          "execution_count": 71
        }
      ]
    },
    {
      "cell_type": "code",
      "metadata": {
        "colab": {
          "base_uri": "https://localhost:8080/"
        },
        "id": "QCqG_YpEwCEA",
        "outputId": "ebd00c68-335e-4648-994a-5073bd1cd602"
      },
      "source": [
        "eq_df.info()"
      ],
      "execution_count": 72,
      "outputs": [
        {
          "output_type": "stream",
          "name": "stdout",
          "text": [
            "<class 'pandas.core.frame.DataFrame'>\n",
            "RangeIndex: 1119158 entries, 0 to 1119157\n",
            "Data columns (total 3 columns):\n",
            " #   Column        Non-Null Count    Dtype  \n",
            "---  ------        --------------    -----  \n",
            " 0   timestamp     1119158 non-null  object \n",
            " 1   close_equity  1119158 non-null  float64\n",
            " 2   user_id       1119158 non-null  object \n",
            "dtypes: float64(1), object(2)\n",
            "memory usage: 25.6+ MB\n"
          ]
        }
      ]
    },
    {
      "cell_type": "code",
      "metadata": {
        "colab": {
          "base_uri": "https://localhost:8080/"
        },
        "id": "zd8t-G6EGF1m",
        "outputId": "8efa3e46-c65f-467b-a705-5b7a2c8738da"
      },
      "source": [
        "eq_df.isna().sum()"
      ],
      "execution_count": 73,
      "outputs": [
        {
          "output_type": "execute_result",
          "data": {
            "text/plain": [
              "timestamp       0\n",
              "close_equity    0\n",
              "user_id         0\n",
              "dtype: int64"
            ]
          },
          "metadata": {},
          "execution_count": 73
        }
      ]
    },
    {
      "cell_type": "code",
      "metadata": {
        "colab": {
          "base_uri": "https://localhost:8080/"
        },
        "id": "_H9c897wHlBk",
        "outputId": "8d3d85ee-7ea0-41f8-88bb-3291f0b7937f"
      },
      "source": [
        "eq_df.timestamp=pd.to_datetime(eq_df.timestamp, errors='coerce')\n",
        "eq_df.nunique()"
      ],
      "execution_count": 74,
      "outputs": [
        {
          "output_type": "execute_result",
          "data": {
            "text/plain": [
              "timestamp          255\n",
              "close_equity    531483\n",
              "user_id           5584\n",
              "dtype: int64"
            ]
          },
          "metadata": {},
          "execution_count": 74
        }
      ]
    },
    {
      "cell_type": "markdown",
      "metadata": {
        "id": "8ZrLgZcnu82h"
      },
      "source": [
        "# Visualizing Equity Vs Days for a few users"
      ]
    },
    {
      "cell_type": "code",
      "metadata": {
        "colab": {
          "base_uri": "https://localhost:8080/",
          "height": 661
        },
        "id": "M0O6JOl0KV6X",
        "outputId": "1b71c0f8-53da-4190-95c4-8d58bbf731ac"
      },
      "source": [
        "for i in range(2):\n",
        "    user_eq_df=eq_df[eq_df['user_id']==eq_df[eq_df.columns[2]].unique()[i]]\n",
        "    \n",
        "    plt.figure(figsize=(10,5))\n",
        "    \n",
        "    ts=user_eq_df[\"close_equity\"]\n",
        "    time=user_eq_df[\"timestamp\"]\n",
        "    \n",
        "    plt.xlabel('Date')\n",
        "    plt.ylabel('Equity (Dollars)')\n",
        "    plt.plot(ts, '-', label='User {0}'.format(i));\n",
        "    plt.legend()\n",
        "plt.show()"
      ],
      "execution_count": 75,
      "outputs": [
        {
          "output_type": "display_data",
          "data": {
            "image/png": "[encoded data removed]",
            "text/plain": [
              "<Figure size 720x360 with 1 Axes>"
            ]
          },
          "metadata": {
            "needs_background": "light"
          }
        },
        {
          "output_type": "display_data",
          "data": {
            "image/png": "[encoded data removed]",
            "text/plain": [
              "<Figure size 720x360 with 1 Axes>"
            ]
          },
          "metadata": {
            "needs_background": "light"
          }
        }
      ]
    },
    {
      "cell_type": "markdown",
      "metadata": {
        "id": "tU2zdppTvJE1"
      },
      "source": [
        "# We determine the two classes of the users - **Churned** or **Not Churned**. \n",
        "---\n",
        "### To determine that, we make use of the condition that if the equity of a user is lower than $10 for 28 consecutive calendar days or longer.\n",
        "\n",
        "From preliminary analysis of the equity value time-series of each user, we find that the minimum recorded equity value across users is \\$10 and the maximum is ~\\$4,50,000. This means that whenever the equity vaue goes below $10, those data are excluded from the table. This gives us an oppotunity to simplify the detection of churned users by simply determining the length of the missing time-series data for each user. If the length is over 28+2 (considering the weekend), that user is churned.\n",
        "\n",
        "---\n",
        "\n",
        "## The missing days (gap_days) from the dataset can be determined as shown below."
      ]
    },
    {
      "cell_type": "code",
      "metadata": {
        "colab": {
          "base_uri": "https://localhost:8080/",
          "height": 362
        },
        "id": "MxxRX5htSCDD",
        "outputId": "703cf691-8231-4d88-eb58-a58dcd05481c"
      },
      "source": [
        "eq_df['gap_days'] = eq_df.timestamp.diff()\n",
        "eq_df.head(10)"
      ],
      "execution_count": 76,
      "outputs": [
        {
          "output_type": "execute_result",
          "data": {
            "text/html": [
              "<div>\n",
              "<style scoped>\n",
              "    .dataframe tbody tr th:only-of-type {\n",
              "        vertical-align: middle;\n",
              "    }\n",
              "\n",
              "    .dataframe tbody tr th {\n",
              "        vertical-align: top;\n",
              "    }\n",
              "\n",
              "    .dataframe thead th {\n",
              "        text-align: right;\n",
              "    }\n",
              "</style>\n",
              "<table border=\"1\" class=\"dataframe\">\n",
              "  <thead>\n",
              "    <tr style=\"text-align: right;\">\n",
              "      <th></th>\n",
              "      <th>timestamp</th>\n",
              "      <th>close_equity</th>\n",
              "      <th>user_id</th>\n",
              "      <th>gap_days</th>\n",
              "    </tr>\n",
              "  </thead>\n",
              "  <tbody>\n",
              "    <tr>\n",
              "      <th>0</th>\n",
              "      <td>2016-11-16 00:00:00+00:00</td>\n",
              "      <td>48.16</td>\n",
              "      <td>bcef4fa9b0bdf22bcf7deae708decf03</td>\n",
              "      <td>NaT</td>\n",
              "    </tr>\n",
              "    <tr>\n",
              "      <th>1</th>\n",
              "      <td>2016-11-17 00:00:00+00:00</td>\n",
              "      <td>48.16</td>\n",
              "      <td>bcef4fa9b0bdf22bcf7deae708decf03</td>\n",
              "      <td>1 days</td>\n",
              "    </tr>\n",
              "    <tr>\n",
              "      <th>2</th>\n",
              "      <td>2016-11-18 00:00:00+00:00</td>\n",
              "      <td>48.16</td>\n",
              "      <td>bcef4fa9b0bdf22bcf7deae708decf03</td>\n",
              "      <td>1 days</td>\n",
              "    </tr>\n",
              "    <tr>\n",
              "      <th>3</th>\n",
              "      <td>2016-11-21 00:00:00+00:00</td>\n",
              "      <td>48.16</td>\n",
              "      <td>bcef4fa9b0bdf22bcf7deae708decf03</td>\n",
              "      <td>3 days</td>\n",
              "    </tr>\n",
              "    <tr>\n",
              "      <th>4</th>\n",
              "      <td>2016-11-22 00:00:00+00:00</td>\n",
              "      <td>48.16</td>\n",
              "      <td>bcef4fa9b0bdf22bcf7deae708decf03</td>\n",
              "      <td>1 days</td>\n",
              "    </tr>\n",
              "    <tr>\n",
              "      <th>5</th>\n",
              "      <td>2016-11-23 00:00:00+00:00</td>\n",
              "      <td>48.16</td>\n",
              "      <td>bcef4fa9b0bdf22bcf7deae708decf03</td>\n",
              "      <td>1 days</td>\n",
              "    </tr>\n",
              "    <tr>\n",
              "      <th>6</th>\n",
              "      <td>2016-11-25 00:00:00+00:00</td>\n",
              "      <td>48.16</td>\n",
              "      <td>bcef4fa9b0bdf22bcf7deae708decf03</td>\n",
              "      <td>2 days</td>\n",
              "    </tr>\n",
              "    <tr>\n",
              "      <th>7</th>\n",
              "      <td>2016-11-28 00:00:00+00:00</td>\n",
              "      <td>48.16</td>\n",
              "      <td>bcef4fa9b0bdf22bcf7deae708decf03</td>\n",
              "      <td>3 days</td>\n",
              "    </tr>\n",
              "    <tr>\n",
              "      <th>8</th>\n",
              "      <td>2016-11-29 00:00:00+00:00</td>\n",
              "      <td>48.16</td>\n",
              "      <td>bcef4fa9b0bdf22bcf7deae708decf03</td>\n",
              "      <td>1 days</td>\n",
              "    </tr>\n",
              "    <tr>\n",
              "      <th>9</th>\n",
              "      <td>2016-11-30 00:00:00+00:00</td>\n",
              "      <td>48.16</td>\n",
              "      <td>bcef4fa9b0bdf22bcf7deae708decf03</td>\n",
              "      <td>1 days</td>\n",
              "    </tr>\n",
              "  </tbody>\n",
              "</table>\n",
              "</div>"
            ],
            "text/plain": [
              "                  timestamp  ...  gap_days\n",
              "0 2016-11-16 00:00:00+00:00  ...       NaT\n",
              "1 2016-11-17 00:00:00+00:00  ...    1 days\n",
              "2 2016-11-18 00:00:00+00:00  ...    1 days\n",
              "3 2016-11-21 00:00:00+00:00  ...    3 days\n",
              "4 2016-11-22 00:00:00+00:00  ...    1 days\n",
              "5 2016-11-23 00:00:00+00:00  ...    1 days\n",
              "6 2016-11-25 00:00:00+00:00  ...    2 days\n",
              "7 2016-11-28 00:00:00+00:00  ...    3 days\n",
              "8 2016-11-29 00:00:00+00:00  ...    1 days\n",
              "9 2016-11-30 00:00:00+00:00  ...    1 days\n",
              "\n",
              "[10 rows x 4 columns]"
            ]
          },
          "metadata": {},
          "execution_count": 76
        }
      ]
    },
    {
      "cell_type": "code",
      "metadata": {
        "colab": {
          "base_uri": "https://localhost:8080/"
        },
        "id": "uORdjFLnUOXT",
        "outputId": "01997ef9-48d8-49b1-a43a-4ba0cc078705"
      },
      "source": [
        "# The number of churned users is obtained by comparing the gap-days with a time-delta of 30 days.\n",
        "\n",
        "churned_user_count=eq_df[eq_df['gap_days']>=pd.Timedelta(\"30 days\")]['user_id'].nunique()\n",
        "churned_user_ids=eq_df[eq_df['gap_days']>=pd.Timedelta(\"30 days\")]['user_id'].unique()\n",
        "print(len(churned_user_ids))\n",
        "\n",
        "# Total users\n",
        "\n",
        "total_users=eq_df['user_id'].nunique()\n",
        "total_user_ids=eq_df['user_id'].unique()\n",
        "print(len(total_user_ids))\n"
      ],
      "execution_count": 77,
      "outputs": [
        {
          "output_type": "stream",
          "name": "stdout",
          "text": [
            "279\n",
            "5584\n"
          ]
        }
      ]
    },
    {
      "cell_type": "markdown",
      "metadata": {
        "id": "ynR1ClptPZUk"
      },
      "source": [
        "# **1. What fraction of the users have churned?**"
      ]
    },
    {
      "cell_type": "code",
      "metadata": {
        "colab": {
          "base_uri": "https://localhost:8080/"
        },
        "id": "uOBUMvISXCf0",
        "outputId": "5cc859e6-a8fe-4c6a-fbc8-86fb760cc585"
      },
      "source": [
        "frac=np.round(100.0*(churned_user_count/total_users), decimals=2)\n",
        "print('Fraction of churned users is {0}%'.format(frac))"
      ],
      "execution_count": 78,
      "outputs": [
        {
          "output_type": "stream",
          "name": "stdout",
          "text": [
            "Fraction of churned users is 5.0%\n"
          ]
        }
      ]
    },
    {
      "cell_type": "markdown",
      "metadata": {
        "id": "72GxWqR-vf-9"
      },
      "source": [
        "# **Part 2: EDA and ML Model bulding to predict customer churn**\n",
        "\n",
        "\n"
      ]
    },
    {
      "cell_type": "code",
      "metadata": {
        "colab": {
          "base_uri": "https://localhost:8080/",
          "height": 226
        },
        "id": "KyA8USz8Iodd",
        "outputId": "88d08d4d-11d7-4bff-aa6d-3ca5a44117b7"
      },
      "source": [
        "# The feature dataset\n",
        "feat_df.head()"
      ],
      "execution_count": 262,
      "outputs": [
        {
          "output_type": "execute_result",
          "data": {
            "text/html": [
              "<div>\n",
              "<style scoped>\n",
              "    .dataframe tbody tr th:only-of-type {\n",
              "        vertical-align: middle;\n",
              "    }\n",
              "\n",
              "    .dataframe tbody tr th {\n",
              "        vertical-align: top;\n",
              "    }\n",
              "\n",
              "    .dataframe thead th {\n",
              "        text-align: right;\n",
              "    }\n",
              "</style>\n",
              "<table border=\"1\" class=\"dataframe\">\n",
              "  <thead>\n",
              "    <tr style=\"text-align: right;\">\n",
              "      <th></th>\n",
              "      <th>risk_tolerance</th>\n",
              "      <th>investment_experience</th>\n",
              "      <th>liquidity_needs</th>\n",
              "      <th>platform</th>\n",
              "      <th>time_spent</th>\n",
              "      <th>instrument_type_first_traded</th>\n",
              "      <th>first_deposit_amount</th>\n",
              "      <th>time_horizon</th>\n",
              "      <th>user_id</th>\n",
              "    </tr>\n",
              "  </thead>\n",
              "  <tbody>\n",
              "    <tr>\n",
              "      <th>0</th>\n",
              "      <td>high_risk_tolerance</td>\n",
              "      <td>limited_investment_exp</td>\n",
              "      <td>very_important_liq_need</td>\n",
              "      <td>Android</td>\n",
              "      <td>33.129417</td>\n",
              "      <td>stock</td>\n",
              "      <td>40.0</td>\n",
              "      <td>med_time_horizon</td>\n",
              "      <td>895044c23edc821881e87da749c01034</td>\n",
              "    </tr>\n",
              "    <tr>\n",
              "      <th>1</th>\n",
              "      <td>med_risk_tolerance</td>\n",
              "      <td>limited_investment_exp</td>\n",
              "      <td>very_important_liq_need</td>\n",
              "      <td>Android</td>\n",
              "      <td>16.573517</td>\n",
              "      <td>stock</td>\n",
              "      <td>200.0</td>\n",
              "      <td>short_time_horizon</td>\n",
              "      <td>458b1d95441ced242949deefe8e4b638</td>\n",
              "    </tr>\n",
              "    <tr>\n",
              "      <th>2</th>\n",
              "      <td>med_risk_tolerance</td>\n",
              "      <td>limited_investment_exp</td>\n",
              "      <td>very_important_liq_need</td>\n",
              "      <td>iOS</td>\n",
              "      <td>10.008367</td>\n",
              "      <td>stock</td>\n",
              "      <td>25.0</td>\n",
              "      <td>long_time_horizon</td>\n",
              "      <td>c7936f653d293479e034865db9bb932f</td>\n",
              "    </tr>\n",
              "    <tr>\n",
              "      <th>3</th>\n",
              "      <td>med_risk_tolerance</td>\n",
              "      <td>limited_investment_exp</td>\n",
              "      <td>very_important_liq_need</td>\n",
              "      <td>Android</td>\n",
              "      <td>1.031633</td>\n",
              "      <td>stock</td>\n",
              "      <td>100.0</td>\n",
              "      <td>short_time_horizon</td>\n",
              "      <td>b255d4bd6c9ba194d3a350b3e76c6393</td>\n",
              "    </tr>\n",
              "    <tr>\n",
              "      <th>4</th>\n",
              "      <td>high_risk_tolerance</td>\n",
              "      <td>limited_investment_exp</td>\n",
              "      <td>very_important_liq_need</td>\n",
              "      <td>Android</td>\n",
              "      <td>8.187250</td>\n",
              "      <td>stock</td>\n",
              "      <td>20.0</td>\n",
              "      <td>long_time_horizon</td>\n",
              "      <td>4a168225e89375b8de605cbc0977ae91</td>\n",
              "    </tr>\n",
              "  </tbody>\n",
              "</table>\n",
              "</div>"
            ],
            "text/plain": [
              "        risk_tolerance  ...                           user_id\n",
              "0  high_risk_tolerance  ...  895044c23edc821881e87da749c01034\n",
              "1   med_risk_tolerance  ...  458b1d95441ced242949deefe8e4b638\n",
              "2   med_risk_tolerance  ...  c7936f653d293479e034865db9bb932f\n",
              "3   med_risk_tolerance  ...  b255d4bd6c9ba194d3a350b3e76c6393\n",
              "4  high_risk_tolerance  ...  4a168225e89375b8de605cbc0977ae91\n",
              "\n",
              "[5 rows x 9 columns]"
            ]
          },
          "metadata": {},
          "execution_count": 262
        }
      ]
    },
    {
      "cell_type": "code",
      "metadata": {
        "colab": {
          "base_uri": "https://localhost:8080/"
        },
        "id": "EJ6Uokde31aa",
        "outputId": "25861485-93b3-4a9d-c181-dd10ed8e8e09"
      },
      "source": [
        "feat_df.columns"
      ],
      "execution_count": 271,
      "outputs": [
        {
          "output_type": "execute_result",
          "data": {
            "text/plain": [
              "Index(['risk_tolerance', 'investment_experience', 'liquidity_needs',\n",
              "       'platform', 'time_spent', 'instrument_type_first_traded',\n",
              "       'first_deposit_amount', 'time_horizon', 'user_id'],\n",
              "      dtype='object')"
            ]
          },
          "metadata": {},
          "execution_count": 271
        }
      ]
    },
    {
      "cell_type": "code",
      "metadata": {
        "colab": {
          "base_uri": "https://localhost:8080/"
        },
        "id": "67HkUL0nKDjX",
        "outputId": "0ed557d0-12aa-4d5e-dfdf-f3870fec602d"
      },
      "source": [
        "feat_df.info()"
      ],
      "execution_count": 80,
      "outputs": [
        {
          "output_type": "stream",
          "name": "stdout",
          "text": [
            "<class 'pandas.core.frame.DataFrame'>\n",
            "RangeIndex: 5584 entries, 0 to 5583\n",
            "Data columns (total 9 columns):\n",
            " #   Column                        Non-Null Count  Dtype  \n",
            "---  ------                        --------------  -----  \n",
            " 0   risk_tolerance                5584 non-null   object \n",
            " 1   investment_experience         5584 non-null   object \n",
            " 2   liquidity_needs               5584 non-null   object \n",
            " 3   platform                      5584 non-null   object \n",
            " 4   time_spent                    5584 non-null   float64\n",
            " 5   instrument_type_first_traded  5584 non-null   object \n",
            " 6   first_deposit_amount          5584 non-null   float64\n",
            " 7   time_horizon                  5584 non-null   object \n",
            " 8   user_id                       5584 non-null   object \n",
            "dtypes: float64(2), object(7)\n",
            "memory usage: 392.8+ KB\n"
          ]
        }
      ]
    },
    {
      "cell_type": "code",
      "metadata": {
        "colab": {
          "base_uri": "https://localhost:8080/",
          "height": 206
        },
        "id": "TqfpajTIbT-K",
        "outputId": "51906048-132c-4e2f-ca46-e9f60d15c5c6"
      },
      "source": [
        "# Create a datset containing the class label(churn=1, no churn=0) by merging the churned user data with the 'feat_df'\n",
        "\n",
        "churned_df=pd.DataFrame(churned_user_ids, columns=['user_id'])\n",
        "churned_df['churn']=1\n",
        "churned_df.head()"
      ],
      "execution_count": 81,
      "outputs": [
        {
          "output_type": "execute_result",
          "data": {
            "text/html": [
              "<div>\n",
              "<style scoped>\n",
              "    .dataframe tbody tr th:only-of-type {\n",
              "        vertical-align: middle;\n",
              "    }\n",
              "\n",
              "    .dataframe tbody tr th {\n",
              "        vertical-align: top;\n",
              "    }\n",
              "\n",
              "    .dataframe thead th {\n",
              "        text-align: right;\n",
              "    }\n",
              "</style>\n",
              "<table border=\"1\" class=\"dataframe\">\n",
              "  <thead>\n",
              "    <tr style=\"text-align: right;\">\n",
              "      <th></th>\n",
              "      <th>user_id</th>\n",
              "      <th>churn</th>\n",
              "    </tr>\n",
              "  </thead>\n",
              "  <tbody>\n",
              "    <tr>\n",
              "      <th>0</th>\n",
              "      <td>270cda53a026bcf6c2b98492b23c1b99</td>\n",
              "      <td>1</td>\n",
              "    </tr>\n",
              "    <tr>\n",
              "      <th>1</th>\n",
              "      <td>319c069e77187c7e7e7c027eb00fd941</td>\n",
              "      <td>1</td>\n",
              "    </tr>\n",
              "    <tr>\n",
              "      <th>2</th>\n",
              "      <td>ec84f134c5b27c4f5702803e98eb3f40</td>\n",
              "      <td>1</td>\n",
              "    </tr>\n",
              "    <tr>\n",
              "      <th>3</th>\n",
              "      <td>6dbedf7f2972b4f6ea60a15d48cb292c</td>\n",
              "      <td>1</td>\n",
              "    </tr>\n",
              "    <tr>\n",
              "      <th>4</th>\n",
              "      <td>91837d41270b81b267fc205c3e03ee9b</td>\n",
              "      <td>1</td>\n",
              "    </tr>\n",
              "  </tbody>\n",
              "</table>\n",
              "</div>"
            ],
            "text/plain": [
              "                            user_id  churn\n",
              "0  270cda53a026bcf6c2b98492b23c1b99      1\n",
              "1  319c069e77187c7e7e7c027eb00fd941      1\n",
              "2  ec84f134c5b27c4f5702803e98eb3f40      1\n",
              "3  6dbedf7f2972b4f6ea60a15d48cb292c      1\n",
              "4  91837d41270b81b267fc205c3e03ee9b      1"
            ]
          },
          "metadata": {},
          "execution_count": 81
        }
      ]
    },
    {
      "cell_type": "code",
      "metadata": {
        "colab": {
          "base_uri": "https://localhost:8080/"
        },
        "id": "Htu7mKKVKJ92",
        "outputId": "09bbfaa1-d05a-4bd4-bef5-b9714ff44d1b"
      },
      "source": [
        "churned_df.info()"
      ],
      "execution_count": 82,
      "outputs": [
        {
          "output_type": "stream",
          "name": "stdout",
          "text": [
            "<class 'pandas.core.frame.DataFrame'>\n",
            "RangeIndex: 279 entries, 0 to 278\n",
            "Data columns (total 2 columns):\n",
            " #   Column   Non-Null Count  Dtype \n",
            "---  ------   --------------  ----- \n",
            " 0   user_id  279 non-null    object\n",
            " 1   churn    279 non-null    int64 \n",
            "dtypes: int64(1), object(1)\n",
            "memory usage: 4.5+ KB\n"
          ]
        }
      ]
    },
    {
      "cell_type": "code",
      "metadata": {
        "colab": {
          "base_uri": "https://localhost:8080/",
          "height": 206
        },
        "id": "xBBparZrbomM",
        "outputId": "ee99b39f-78b7-46fa-cad3-751fac6071b0"
      },
      "source": [
        "model_df=feat_df.merge(churned_df, how='left', on='user_id').fillna(0)\n",
        "model_df['churn']=model_df['churn'].astype(int)\n",
        "model_df=model_df.drop(['user_id'], axis=1)\n",
        "model_df.head()"
      ],
      "execution_count": 287,
      "outputs": [
        {
          "output_type": "execute_result",
          "data": {
            "text/html": [
              "<div>\n",
              "<style scoped>\n",
              "    .dataframe tbody tr th:only-of-type {\n",
              "        vertical-align: middle;\n",
              "    }\n",
              "\n",
              "    .dataframe tbody tr th {\n",
              "        vertical-align: top;\n",
              "    }\n",
              "\n",
              "    .dataframe thead th {\n",
              "        text-align: right;\n",
              "    }\n",
              "</style>\n",
              "<table border=\"1\" class=\"dataframe\">\n",
              "  <thead>\n",
              "    <tr style=\"text-align: right;\">\n",
              "      <th></th>\n",
              "      <th>risk_tolerance</th>\n",
              "      <th>investment_experience</th>\n",
              "      <th>liquidity_needs</th>\n",
              "      <th>platform</th>\n",
              "      <th>time_spent</th>\n",
              "      <th>instrument_type_first_traded</th>\n",
              "      <th>first_deposit_amount</th>\n",
              "      <th>time_horizon</th>\n",
              "      <th>churn</th>\n",
              "    </tr>\n",
              "  </thead>\n",
              "  <tbody>\n",
              "    <tr>\n",
              "      <th>0</th>\n",
              "      <td>high_risk_tolerance</td>\n",
              "      <td>limited_investment_exp</td>\n",
              "      <td>very_important_liq_need</td>\n",
              "      <td>Android</td>\n",
              "      <td>33.129417</td>\n",
              "      <td>stock</td>\n",
              "      <td>40.0</td>\n",
              "      <td>med_time_horizon</td>\n",
              "      <td>0</td>\n",
              "    </tr>\n",
              "    <tr>\n",
              "      <th>1</th>\n",
              "      <td>med_risk_tolerance</td>\n",
              "      <td>limited_investment_exp</td>\n",
              "      <td>very_important_liq_need</td>\n",
              "      <td>Android</td>\n",
              "      <td>16.573517</td>\n",
              "      <td>stock</td>\n",
              "      <td>200.0</td>\n",
              "      <td>short_time_horizon</td>\n",
              "      <td>0</td>\n",
              "    </tr>\n",
              "    <tr>\n",
              "      <th>2</th>\n",
              "      <td>med_risk_tolerance</td>\n",
              "      <td>limited_investment_exp</td>\n",
              "      <td>very_important_liq_need</td>\n",
              "      <td>iOS</td>\n",
              "      <td>10.008367</td>\n",
              "      <td>stock</td>\n",
              "      <td>25.0</td>\n",
              "      <td>long_time_horizon</td>\n",
              "      <td>0</td>\n",
              "    </tr>\n",
              "    <tr>\n",
              "      <th>3</th>\n",
              "      <td>med_risk_tolerance</td>\n",
              "      <td>limited_investment_exp</td>\n",
              "      <td>very_important_liq_need</td>\n",
              "      <td>Android</td>\n",
              "      <td>1.031633</td>\n",
              "      <td>stock</td>\n",
              "      <td>100.0</td>\n",
              "      <td>short_time_horizon</td>\n",
              "      <td>0</td>\n",
              "    </tr>\n",
              "    <tr>\n",
              "      <th>4</th>\n",
              "      <td>high_risk_tolerance</td>\n",
              "      <td>limited_investment_exp</td>\n",
              "      <td>very_important_liq_need</td>\n",
              "      <td>Android</td>\n",
              "      <td>8.187250</td>\n",
              "      <td>stock</td>\n",
              "      <td>20.0</td>\n",
              "      <td>long_time_horizon</td>\n",
              "      <td>0</td>\n",
              "    </tr>\n",
              "  </tbody>\n",
              "</table>\n",
              "</div>"
            ],
            "text/plain": [
              "        risk_tolerance   investment_experience  ...        time_horizon churn\n",
              "0  high_risk_tolerance  limited_investment_exp  ...    med_time_horizon     0\n",
              "1   med_risk_tolerance  limited_investment_exp  ...  short_time_horizon     0\n",
              "2   med_risk_tolerance  limited_investment_exp  ...   long_time_horizon     0\n",
              "3   med_risk_tolerance  limited_investment_exp  ...  short_time_horizon     0\n",
              "4  high_risk_tolerance  limited_investment_exp  ...   long_time_horizon     0\n",
              "\n",
              "[5 rows x 9 columns]"
            ]
          },
          "metadata": {},
          "execution_count": 287
        }
      ]
    },
    {
      "cell_type": "code",
      "metadata": {
        "colab": {
          "base_uri": "https://localhost:8080/"
        },
        "id": "0_Mk02cVc_da",
        "outputId": "2eb268ae-1ce7-4b52-d787-5f4f73c25322"
      },
      "source": [
        "model_df.info()"
      ],
      "execution_count": 288,
      "outputs": [
        {
          "output_type": "stream",
          "name": "stdout",
          "text": [
            "<class 'pandas.core.frame.DataFrame'>\n",
            "Int64Index: 5584 entries, 0 to 5583\n",
            "Data columns (total 9 columns):\n",
            " #   Column                        Non-Null Count  Dtype  \n",
            "---  ------                        --------------  -----  \n",
            " 0   risk_tolerance                5584 non-null   object \n",
            " 1   investment_experience         5584 non-null   object \n",
            " 2   liquidity_needs               5584 non-null   object \n",
            " 3   platform                      5584 non-null   object \n",
            " 4   time_spent                    5584 non-null   float64\n",
            " 5   instrument_type_first_traded  5584 non-null   object \n",
            " 6   first_deposit_amount          5584 non-null   float64\n",
            " 7   time_horizon                  5584 non-null   object \n",
            " 8   churn                         5584 non-null   int64  \n",
            "dtypes: float64(2), int64(1), object(6)\n",
            "memory usage: 436.2+ KB\n"
          ]
        }
      ]
    },
    {
      "cell_type": "code",
      "metadata": {
        "colab": {
          "base_uri": "https://localhost:8080/"
        },
        "id": "x2sMcqHS5Izd",
        "outputId": "38e6219a-ae1a-43ba-ab42-ccdba6cd3fc5"
      },
      "source": [
        "cat_df = model_df.select_dtypes(include=['object']).copy()\n",
        "\n",
        "for i in cat_df.columns:\n",
        "  print(i, ' : ',cat_df[i].unique())"
      ],
      "execution_count": 290,
      "outputs": [
        {
          "output_type": "stream",
          "name": "stdout",
          "text": [
            "risk_tolerance  :  ['high_risk_tolerance' 'med_risk_tolerance' 'low_risk_tolerance']\n",
            "investment_experience  :  ['limited_investment_exp' 'no_investment_exp' 'good_investment_exp'\n",
            " 'extensive_investment_exp']\n",
            "liquidity_needs  :  ['very_important_liq_need' 'not_important_liq_need'\n",
            " 'somewhat_important_liq_need']\n",
            "platform  :  ['Android' 'iOS' 'both']\n",
            "instrument_type_first_traded  :  ['stock' 'etp' 'adr' 'wrt' 'mlp' '0' 'lp' 'rlt' 'reit' 'cef' 'tracking']\n",
            "time_horizon  :  ['med_time_horizon' 'short_time_horizon' 'long_time_horizon']\n"
          ]
        }
      ]
    },
    {
      "cell_type": "code",
      "metadata": {
        "colab": {
          "base_uri": "https://localhost:8080/"
        },
        "id": "9M68sRLLfaqv",
        "outputId": "b77fa3bf-28cf-4b46-8743-9c774d8e5cc2"
      },
      "source": [
        "cat_df = model_df.select_dtypes(include=['object']).copy()\n",
        "\n",
        "# Creating the categories\n",
        "\n",
        "risk_categories=['low_risk_tolerance', 'med_risk_tolerance', 'high_risk_tolerance']\n",
        "exp_categories=['no_investment_exp', 'limited_investment_exp', 'good_investment_exp', 'extensive_investment_exp']\n",
        "liq_categories=['not_important_liq_need', 'somewhat_important_liq_need', 'very_important_liq_need' ]\n",
        "platform_categories=['Android', 'iOS', 'both']\n",
        "instrument_categories= ['stock', 'etp', 'adr', 'wrt', 'mlp', '0', 'lp', 'rlt', 'reit', 'cef', 'tracking']\n",
        "horizon_categories=['short_time_horizon', 'med_time_horizon', 'long_time_horizon']\n",
        "\n",
        "# Encoding the columns\n",
        "\n",
        "enc_make = OrdinalEncoder(categories=[risk_categories, exp_categories, liq_categories, platform_categories, instrument_categories, horizon_categories])\n",
        "\n",
        "cat_df_transformed = enc_make.fit_transform(cat_df[['risk_tolerance', 'investment_experience', 'liquidity_needs', 'platform', \n",
        "                                                    'instrument_type_first_traded','time_horizon']])\n",
        "\n",
        "for i,j in enumerate(cat_df.columns):\n",
        "  cat_df[j] = cat_df_transformed.transpose()[i]\n",
        "\n",
        "# Adding converted labels to df\n",
        "for i in model_df.columns:\n",
        "  if i in cat_df.columns:\n",
        "    model_df[i] = cat_df[i]\n",
        "\n",
        "for i in cat_df.columns:\n",
        "  print(i, ' : ',cat_df[i].unique())"
      ],
      "execution_count": 291,
      "outputs": [
        {
          "output_type": "stream",
          "name": "stdout",
          "text": [
            "risk_tolerance  :  [2. 1. 0.]\n",
            "investment_experience  :  [1. 0. 2. 3.]\n",
            "liquidity_needs  :  [2. 0. 1.]\n",
            "platform  :  [0. 1. 2.]\n",
            "instrument_type_first_traded  :  [ 0.  1.  2.  3.  4.  5.  6.  7.  8.  9. 10.]\n",
            "time_horizon  :  [1. 0. 2.]\n"
          ]
        }
      ]
    },
    {
      "cell_type": "code",
      "metadata": {
        "colab": {
          "base_uri": "https://localhost:8080/",
          "height": 206
        },
        "id": "M7V7wRet0e75",
        "outputId": "7470aef4-4620-4f29-b75f-902a8766ca7b"
      },
      "source": [
        "model_df.head()"
      ],
      "execution_count": 292,
      "outputs": [
        {
          "output_type": "execute_result",
          "data": {
            "text/html": [
              "<div>\n",
              "<style scoped>\n",
              "    .dataframe tbody tr th:only-of-type {\n",
              "        vertical-align: middle;\n",
              "    }\n",
              "\n",
              "    .dataframe tbody tr th {\n",
              "        vertical-align: top;\n",
              "    }\n",
              "\n",
              "    .dataframe thead th {\n",
              "        text-align: right;\n",
              "    }\n",
              "</style>\n",
              "<table border=\"1\" class=\"dataframe\">\n",
              "  <thead>\n",
              "    <tr style=\"text-align: right;\">\n",
              "      <th></th>\n",
              "      <th>risk_tolerance</th>\n",
              "      <th>investment_experience</th>\n",
              "      <th>liquidity_needs</th>\n",
              "      <th>platform</th>\n",
              "      <th>time_spent</th>\n",
              "      <th>instrument_type_first_traded</th>\n",
              "      <th>first_deposit_amount</th>\n",
              "      <th>time_horizon</th>\n",
              "      <th>churn</th>\n",
              "    </tr>\n",
              "  </thead>\n",
              "  <tbody>\n",
              "    <tr>\n",
              "      <th>0</th>\n",
              "      <td>2.0</td>\n",
              "      <td>1.0</td>\n",
              "      <td>2.0</td>\n",
              "      <td>0.0</td>\n",
              "      <td>33.129417</td>\n",
              "      <td>0.0</td>\n",
              "      <td>40.0</td>\n",
              "      <td>1.0</td>\n",
              "      <td>0</td>\n",
              "    </tr>\n",
              "    <tr>\n",
              "      <th>1</th>\n",
              "      <td>1.0</td>\n",
              "      <td>1.0</td>\n",
              "      <td>2.0</td>\n",
              "      <td>0.0</td>\n",
              "      <td>16.573517</td>\n",
              "      <td>0.0</td>\n",
              "      <td>200.0</td>\n",
              "      <td>0.0</td>\n",
              "      <td>0</td>\n",
              "    </tr>\n",
              "    <tr>\n",
              "      <th>2</th>\n",
              "      <td>1.0</td>\n",
              "      <td>1.0</td>\n",
              "      <td>2.0</td>\n",
              "      <td>1.0</td>\n",
              "      <td>10.008367</td>\n",
              "      <td>0.0</td>\n",
              "      <td>25.0</td>\n",
              "      <td>2.0</td>\n",
              "      <td>0</td>\n",
              "    </tr>\n",
              "    <tr>\n",
              "      <th>3</th>\n",
              "      <td>1.0</td>\n",
              "      <td>1.0</td>\n",
              "      <td>2.0</td>\n",
              "      <td>0.0</td>\n",
              "      <td>1.031633</td>\n",
              "      <td>0.0</td>\n",
              "      <td>100.0</td>\n",
              "      <td>0.0</td>\n",
              "      <td>0</td>\n",
              "    </tr>\n",
              "    <tr>\n",
              "      <th>4</th>\n",
              "      <td>2.0</td>\n",
              "      <td>1.0</td>\n",
              "      <td>2.0</td>\n",
              "      <td>0.0</td>\n",
              "      <td>8.187250</td>\n",
              "      <td>0.0</td>\n",
              "      <td>20.0</td>\n",
              "      <td>2.0</td>\n",
              "      <td>0</td>\n",
              "    </tr>\n",
              "  </tbody>\n",
              "</table>\n",
              "</div>"
            ],
            "text/plain": [
              "   risk_tolerance  investment_experience  ...  time_horizon  churn\n",
              "0             2.0                    1.0  ...           1.0      0\n",
              "1             1.0                    1.0  ...           0.0      0\n",
              "2             1.0                    1.0  ...           2.0      0\n",
              "3             1.0                    1.0  ...           0.0      0\n",
              "4             2.0                    1.0  ...           2.0      0\n",
              "\n",
              "[5 rows x 9 columns]"
            ]
          },
          "metadata": {},
          "execution_count": 292
        }
      ]
    },
    {
      "cell_type": "code",
      "metadata": {
        "colab": {
          "base_uri": "https://localhost:8080/",
          "height": 300
        },
        "id": "BsJQcFyH05X7",
        "outputId": "918de5bb-9b12-4cd9-919d-53bbdcee84c0"
      },
      "source": [
        "model_df.describe()"
      ],
      "execution_count": 293,
      "outputs": [
        {
          "output_type": "execute_result",
          "data": {
            "text/html": [
              "<div>\n",
              "<style scoped>\n",
              "    .dataframe tbody tr th:only-of-type {\n",
              "        vertical-align: middle;\n",
              "    }\n",
              "\n",
              "    .dataframe tbody tr th {\n",
              "        vertical-align: top;\n",
              "    }\n",
              "\n",
              "    .dataframe thead th {\n",
              "        text-align: right;\n",
              "    }\n",
              "</style>\n",
              "<table border=\"1\" class=\"dataframe\">\n",
              "  <thead>\n",
              "    <tr style=\"text-align: right;\">\n",
              "      <th></th>\n",
              "      <th>risk_tolerance</th>\n",
              "      <th>investment_experience</th>\n",
              "      <th>liquidity_needs</th>\n",
              "      <th>platform</th>\n",
              "      <th>time_spent</th>\n",
              "      <th>instrument_type_first_traded</th>\n",
              "      <th>first_deposit_amount</th>\n",
              "      <th>time_horizon</th>\n",
              "      <th>churn</th>\n",
              "    </tr>\n",
              "  </thead>\n",
              "  <tbody>\n",
              "    <tr>\n",
              "      <th>count</th>\n",
              "      <td>5584.000000</td>\n",
              "      <td>5584.000000</td>\n",
              "      <td>5584.000000</td>\n",
              "      <td>5584.000000</td>\n",
              "      <td>5584.000000</td>\n",
              "      <td>5584.000000</td>\n",
              "      <td>5584.000000</td>\n",
              "      <td>5584.000000</td>\n",
              "      <td>5584.000000</td>\n",
              "    </tr>\n",
              "    <tr>\n",
              "      <th>mean</th>\n",
              "      <td>1.595809</td>\n",
              "      <td>0.908668</td>\n",
              "      <td>1.708990</td>\n",
              "      <td>0.816619</td>\n",
              "      <td>34.509706</td>\n",
              "      <td>0.331483</td>\n",
              "      <td>633.566805</td>\n",
              "      <td>0.820917</td>\n",
              "      <td>0.049964</td>\n",
              "    </tr>\n",
              "    <tr>\n",
              "      <th>std</th>\n",
              "      <td>0.571385</td>\n",
              "      <td>0.755589</td>\n",
              "      <td>0.546611</td>\n",
              "      <td>0.575053</td>\n",
              "      <td>155.080551</td>\n",
              "      <td>1.187690</td>\n",
              "      <td>2118.323263</td>\n",
              "      <td>0.896479</td>\n",
              "      <td>0.217890</td>\n",
              "    </tr>\n",
              "    <tr>\n",
              "      <th>min</th>\n",
              "      <td>0.000000</td>\n",
              "      <td>0.000000</td>\n",
              "      <td>0.000000</td>\n",
              "      <td>0.000000</td>\n",
              "      <td>0.000000</td>\n",
              "      <td>0.000000</td>\n",
              "      <td>0.000000</td>\n",
              "      <td>0.000000</td>\n",
              "      <td>0.000000</td>\n",
              "    </tr>\n",
              "    <tr>\n",
              "      <th>25%</th>\n",
              "      <td>1.000000</td>\n",
              "      <td>0.000000</td>\n",
              "      <td>2.000000</td>\n",
              "      <td>0.000000</td>\n",
              "      <td>2.848908</td>\n",
              "      <td>0.000000</td>\n",
              "      <td>50.000000</td>\n",
              "      <td>0.000000</td>\n",
              "      <td>0.000000</td>\n",
              "    </tr>\n",
              "    <tr>\n",
              "      <th>50%</th>\n",
              "      <td>2.000000</td>\n",
              "      <td>1.000000</td>\n",
              "      <td>2.000000</td>\n",
              "      <td>1.000000</td>\n",
              "      <td>13.474708</td>\n",
              "      <td>0.000000</td>\n",
              "      <td>100.000000</td>\n",
              "      <td>0.000000</td>\n",
              "      <td>0.000000</td>\n",
              "    </tr>\n",
              "    <tr>\n",
              "      <th>75%</th>\n",
              "      <td>2.000000</td>\n",
              "      <td>1.000000</td>\n",
              "      <td>2.000000</td>\n",
              "      <td>1.000000</td>\n",
              "      <td>33.823829</td>\n",
              "      <td>0.000000</td>\n",
              "      <td>500.000000</td>\n",
              "      <td>2.000000</td>\n",
              "      <td>0.000000</td>\n",
              "    </tr>\n",
              "    <tr>\n",
              "      <th>max</th>\n",
              "      <td>2.000000</td>\n",
              "      <td>3.000000</td>\n",
              "      <td>2.000000</td>\n",
              "      <td>2.000000</td>\n",
              "      <td>8788.329450</td>\n",
              "      <td>10.000000</td>\n",
              "      <td>50000.000000</td>\n",
              "      <td>2.000000</td>\n",
              "      <td>1.000000</td>\n",
              "    </tr>\n",
              "  </tbody>\n",
              "</table>\n",
              "</div>"
            ],
            "text/plain": [
              "       risk_tolerance  investment_experience  ...  time_horizon        churn\n",
              "count     5584.000000            5584.000000  ...   5584.000000  5584.000000\n",
              "mean         1.595809               0.908668  ...      0.820917     0.049964\n",
              "std          0.571385               0.755589  ...      0.896479     0.217890\n",
              "min          0.000000               0.000000  ...      0.000000     0.000000\n",
              "25%          1.000000               0.000000  ...      0.000000     0.000000\n",
              "50%          2.000000               1.000000  ...      0.000000     0.000000\n",
              "75%          2.000000               1.000000  ...      2.000000     0.000000\n",
              "max          2.000000               3.000000  ...      2.000000     1.000000\n",
              "\n",
              "[8 rows x 9 columns]"
            ]
          },
          "metadata": {},
          "execution_count": 293
        }
      ]
    },
    {
      "cell_type": "code",
      "metadata": {
        "colab": {
          "base_uri": "https://localhost:8080/",
          "height": 736
        },
        "id": "c6cr-ukjq6y5",
        "outputId": "e7cf095b-abc2-461f-f274-069a3e6e9c28"
      },
      "source": [
        "# Outlier detection using seaborn boxplot\n",
        "\n",
        "model_df=model_df[(model_df['time_spent']<80) & (model_df['first_deposit_amount']<1000)] # Setting some realistic outlier bounds\n",
        "\n",
        "sns.set_theme(style=\"whitegrid\")\n",
        "fig, axes = plt.subplots(2, 4, figsize=(20, 12))\n",
        "\n",
        "count=0\n",
        "for i in range(2):\n",
        "    for j in range(4):\n",
        "        sns.boxplot(ax=axes[i, j],data=model_df, x='churn', y=model_df.columns[count])\n",
        "        axes[i,j].set_title(model_df.columns[count])\n",
        "        count+=1"
      ],
      "execution_count": 294,
      "outputs": [
        {
          "output_type": "display_data",
          "data": {
            "image/png": "[encoded data removed]",
            "text/plain": [
              "<Figure size 1440x864 with 8 Axes>"
            ]
          },
          "metadata": {}
        }
      ]
    },
    {
      "cell_type": "markdown",
      "metadata": {
        "id": "MoictvLOgB5t"
      },
      "source": [
        "# **Scaling of Data**"
      ]
    },
    {
      "cell_type": "code",
      "metadata": {
        "colab": {
          "base_uri": "https://localhost:8080/",
          "height": 300
        },
        "id": "wL6BIw59vl6T",
        "outputId": "66b658b2-ea0a-4627-f8cd-7bfc5414acd4"
      },
      "source": [
        "# Scaling of the non-objects\n",
        "\n",
        "from sklearn.preprocessing import StandardScaler, RobustScaler,MinMaxScaler\n",
        "\n",
        "mm_scaler = MinMaxScaler()\n",
        "std_scaler = StandardScaler()\n",
        "rob_scaler = RobustScaler()\n",
        "\n",
        "scaled_df=model_df.copy()\n",
        "# We will use Robust scaler because it's ideal if there are outliers\n",
        "for i in scaled_df.columns[:-1]: # -1 for not to scale the labels\n",
        "  scaled_df[i] = mm_scaler.fit_transform(model_df[i].values.reshape(-1,1))\n",
        "\n",
        "scaled_df.describe()"
      ],
      "execution_count": 295,
      "outputs": [
        {
          "output_type": "execute_result",
          "data": {
            "text/html": [
              "<div>\n",
              "<style scoped>\n",
              "    .dataframe tbody tr th:only-of-type {\n",
              "        vertical-align: middle;\n",
              "    }\n",
              "\n",
              "    .dataframe tbody tr th {\n",
              "        vertical-align: top;\n",
              "    }\n",
              "\n",
              "    .dataframe thead th {\n",
              "        text-align: right;\n",
              "    }\n",
              "</style>\n",
              "<table border=\"1\" class=\"dataframe\">\n",
              "  <thead>\n",
              "    <tr style=\"text-align: right;\">\n",
              "      <th></th>\n",
              "      <th>risk_tolerance</th>\n",
              "      <th>investment_experience</th>\n",
              "      <th>liquidity_needs</th>\n",
              "      <th>platform</th>\n",
              "      <th>time_spent</th>\n",
              "      <th>instrument_type_first_traded</th>\n",
              "      <th>first_deposit_amount</th>\n",
              "      <th>time_horizon</th>\n",
              "      <th>churn</th>\n",
              "    </tr>\n",
              "  </thead>\n",
              "  <tbody>\n",
              "    <tr>\n",
              "      <th>count</th>\n",
              "      <td>4184.000000</td>\n",
              "      <td>4184.000000</td>\n",
              "      <td>4184.00000</td>\n",
              "      <td>4184.000000</td>\n",
              "      <td>4184.000000</td>\n",
              "      <td>4184.000000</td>\n",
              "      <td>4184.000000</td>\n",
              "      <td>4184.000000</td>\n",
              "      <td>4184.000000</td>\n",
              "    </tr>\n",
              "    <tr>\n",
              "      <th>mean</th>\n",
              "      <td>0.793380</td>\n",
              "      <td>0.280115</td>\n",
              "      <td>0.85086</td>\n",
              "      <td>0.409656</td>\n",
              "      <td>0.220835</td>\n",
              "      <td>0.034082</td>\n",
              "      <td>0.155298</td>\n",
              "      <td>0.403681</td>\n",
              "      <td>0.055927</td>\n",
              "    </tr>\n",
              "    <tr>\n",
              "      <th>std</th>\n",
              "      <td>0.285571</td>\n",
              "      <td>0.246491</td>\n",
              "      <td>0.27591</td>\n",
              "      <td>0.279317</td>\n",
              "      <td>0.236346</td>\n",
              "      <td>0.124560</td>\n",
              "      <td>0.175764</td>\n",
              "      <td>0.450564</td>\n",
              "      <td>0.229809</td>\n",
              "    </tr>\n",
              "    <tr>\n",
              "      <th>min</th>\n",
              "      <td>0.000000</td>\n",
              "      <td>0.000000</td>\n",
              "      <td>0.00000</td>\n",
              "      <td>0.000000</td>\n",
              "      <td>0.000000</td>\n",
              "      <td>0.000000</td>\n",
              "      <td>0.000000</td>\n",
              "      <td>0.000000</td>\n",
              "      <td>0.000000</td>\n",
              "    </tr>\n",
              "    <tr>\n",
              "      <th>25%</th>\n",
              "      <td>0.500000</td>\n",
              "      <td>0.000000</td>\n",
              "      <td>0.50000</td>\n",
              "      <td>0.000000</td>\n",
              "      <td>0.029613</td>\n",
              "      <td>0.000000</td>\n",
              "      <td>0.025073</td>\n",
              "      <td>0.000000</td>\n",
              "      <td>0.000000</td>\n",
              "    </tr>\n",
              "    <tr>\n",
              "      <th>50%</th>\n",
              "      <td>1.000000</td>\n",
              "      <td>0.333333</td>\n",
              "      <td>1.00000</td>\n",
              "      <td>0.500000</td>\n",
              "      <td>0.144586</td>\n",
              "      <td>0.000000</td>\n",
              "      <td>0.100291</td>\n",
              "      <td>0.000000</td>\n",
              "      <td>0.000000</td>\n",
              "    </tr>\n",
              "    <tr>\n",
              "      <th>75%</th>\n",
              "      <td>1.000000</td>\n",
              "      <td>0.333333</td>\n",
              "      <td>1.00000</td>\n",
              "      <td>0.500000</td>\n",
              "      <td>0.328299</td>\n",
              "      <td>0.000000</td>\n",
              "      <td>0.200582</td>\n",
              "      <td>1.000000</td>\n",
              "      <td>0.000000</td>\n",
              "    </tr>\n",
              "    <tr>\n",
              "      <th>max</th>\n",
              "      <td>1.000000</td>\n",
              "      <td>1.000000</td>\n",
              "      <td>1.00000</td>\n",
              "      <td>1.000000</td>\n",
              "      <td>1.000000</td>\n",
              "      <td>1.000000</td>\n",
              "      <td>1.000000</td>\n",
              "      <td>1.000000</td>\n",
              "      <td>1.000000</td>\n",
              "    </tr>\n",
              "  </tbody>\n",
              "</table>\n",
              "</div>"
            ],
            "text/plain": [
              "       risk_tolerance  investment_experience  ...  time_horizon        churn\n",
              "count     4184.000000            4184.000000  ...   4184.000000  4184.000000\n",
              "mean         0.793380               0.280115  ...      0.403681     0.055927\n",
              "std          0.285571               0.246491  ...      0.450564     0.229809\n",
              "min          0.000000               0.000000  ...      0.000000     0.000000\n",
              "25%          0.500000               0.000000  ...      0.000000     0.000000\n",
              "50%          1.000000               0.333333  ...      0.000000     0.000000\n",
              "75%          1.000000               0.333333  ...      1.000000     0.000000\n",
              "max          1.000000               1.000000  ...      1.000000     1.000000\n",
              "\n",
              "[8 rows x 9 columns]"
            ]
          },
          "metadata": {},
          "execution_count": 295
        }
      ]
    },
    {
      "cell_type": "code",
      "metadata": {
        "colab": {
          "base_uri": "https://localhost:8080/",
          "height": 737
        },
        "id": "JanfulM1r7U7",
        "outputId": "2824a516-4533-43f7-c551-147e2788629d"
      },
      "source": [
        "fig, axes = plt.subplots(2, 3, figsize=(18, 12))\n",
        "\n",
        "sns.histplot(data=scaled_df, x=\"time_spent\", color='purple', hue='churn', ax=\n",
        "axes[0,0])\n",
        "axes[0,0].set_xlabel('Time Spent')\n",
        "axes[0,0].set_ylabel('Number of Users')\n",
        "# axes[0,0].legend(loc=7, fontsize='xx-large' )\n",
        "axes[0,0].set_title('Time Spent by Users', fontsize='large')\n",
        "axes[0,0].set_yscale('log')\n",
        "\n",
        "sns.histplot(data=scaled_df, x=\"risk_tolerance\", color='purple', hue='churn', ax=\n",
        "axes[0,1])\n",
        "axes[0,1].set_xlabel('Risk_Tolerance')\n",
        "axes[0,1].set_ylabel('Number of Users')\n",
        "axes[0,1].set_title('Risk Tolerance by Users', fontsize='large')\n",
        "axes[0,1].set_yscale('log')\n",
        "\n",
        "sns.histplot(data=scaled_df, x=\"investment_experience\", color='purple', hue='churn', ax=\n",
        "axes[1,0])\n",
        "axes[1,0].set_xlabel('Investment Experience')\n",
        "axes[1,0].set_ylabel('Number of Users')\n",
        "axes[1,0].set_title('Investment Experience by Users', fontsize='large')\n",
        "axes[1,0].set_yscale('log')\n",
        "\n",
        "sns.histplot(data=scaled_df, x=\"liquidity_needs\", color='purple', hue='churn', ax=\n",
        "axes[1,1])\n",
        "axes[1,1].set_xlabel('Liquidity Needs')\n",
        "axes[1,1].set_ylabel('Number of Users')\n",
        "axes[1,1].set_title('Liquidity Needs by Users', fontsize='large')\n",
        "axes[1,1].set_yscale('log')\n",
        "\n",
        "sns.histplot(data=scaled_df, x=\"time_horizon\", color='purple', hue='churn', ax=\n",
        "axes[0,2])\n",
        "axes[0,2].set_xlabel('Time Horizon')\n",
        "axes[0,2].set_ylabel('Number of Users')\n",
        "axes[0,2].set_title('Time Horizon by Users', fontsize='large')\n",
        "axes[0,2].set_yscale('log')\n",
        "\n",
        "sns.histplot(data=scaled_df, x=\"first_deposit_amount\", color='purple', hue='churn', ax=\n",
        "axes[1,2])\n",
        "axes[1,2].set_xlabel('First Deposit Amount')\n",
        "axes[1,2].set_ylabel('Number of Users')\n",
        "axes[1,2].set_title('First Deposit Amount by Users', fontsize='large')\n",
        "axes[1,2].set_yscale('log')\n",
        "\n",
        "fig.subplots_adjust(wspace=0.3, hspace = 0.3)\n",
        "plt.show()"
      ],
      "execution_count": 322,
      "outputs": [
        {
          "output_type": "display_data",
          "data": {
            "image/png": "[encoded data removed]",
            "text/plain": [
              "<Figure size 1296x864 with 6 Axes>"
            ]
          },
          "metadata": {}
        }
      ]
    },
    {
      "cell_type": "code",
      "metadata": {
        "colab": {
          "base_uri": "https://localhost:8080/",
          "height": 352
        },
        "id": "AjZUIMJZehXz",
        "outputId": "1d6a3d12-e32b-41db-9e03-070352996332"
      },
      "source": [
        "# Class Imbalance\n",
        "\n",
        "print('Churn events fraction in the data :',len(model_df[model_df['churn']==1])/len(model_df)*100)\n",
        "print('Non-churn events fraction in the data :',len(model_df[model_df['churn']==0])/len(model_df)*100)\n",
        "\n",
        "sns.set_theme(style=\"darkgrid\")\n",
        "g=sns.countplot(data=model_df, x='churn')\n",
        "\n",
        "plt.title('Class Distributions \\n (0: No Churn | 1: Churn)', fontsize=14)\n",
        "plt.show()\n",
        "\n",
        "# Class imbalance needs to be taken care before applying model"
      ],
      "execution_count": 306,
      "outputs": [
        {
          "output_type": "stream",
          "name": "stdout",
          "text": [
            "Churn events fraction in the data : 5.592734225621415\n",
            "Non-churn events fraction in the data : 94.40726577437859\n"
          ]
        },
        {
          "output_type": "display_data",
          "data": {
            "image/png": "[encoded data removed]",
            "text/plain": [
              "<Figure size 432x288 with 1 Axes>"
            ]
          },
          "metadata": {}
        }
      ]
    },
    {
      "cell_type": "code",
      "metadata": {
        "colab": {
          "base_uri": "https://localhost:8080/"
        },
        "id": "rQMlwkHihIF8",
        "outputId": "3951785a-924e-4085-b759-de5983d5c685"
      },
      "source": [
        "# Splitting the data\n",
        "\n",
        "X = scaled_df.drop(columns = ['churn'])\n",
        "y = scaled_df['churn']\n",
        "\n",
        "X_train, X_test, y_train, y_test = train_test_split(X, y, test_size=0.3, random_state=42)\n",
        "\n",
        "print('X shape -', X_train.shape)\n",
        "print('y shape -', y_train.shape)"
      ],
      "execution_count": 307,
      "outputs": [
        {
          "output_type": "stream",
          "name": "stdout",
          "text": [
            "X shape - (2928, 8)\n",
            "y shape - (2928,)\n"
          ]
        }
      ]
    },
    {
      "cell_type": "markdown",
      "metadata": {
        "id": "I6oLtgFO7GHU"
      },
      "source": [
        "## Mutual Information to see feature importance"
      ]
    },
    {
      "cell_type": "code",
      "metadata": {
        "colab": {
          "base_uri": "https://localhost:8080/",
          "height": 267
        },
        "id": "m2tHH3uT3HQm",
        "outputId": "632a3c9e-a475-4c10-a232-cbc02a84d317"
      },
      "source": [
        "yy=sklearn.feature_selection.mutual_info_classif(X, y, discrete_features='auto', n_neighbors=20, copy=True, random_state=42)\n",
        "xx=np.arange(len(yy))\n",
        "plt.bar(xx, yy, color='black')\n",
        "# plt.yscale('log')\n",
        "plt.show()"
      ],
      "execution_count": 325,
      "outputs": [
        {
          "output_type": "display_data",
          "data": {
            "image/png": "[encoded data removed]",
            "text/plain": [
              "<Figure size 432x288 with 1 Axes>"
            ]
          },
          "metadata": {}
        }
      ]
    },
    {
      "cell_type": "markdown",
      "metadata": {
        "id": "TCxqU6Ztmibm"
      },
      "source": [
        "# Feature selection using Chi-square for original, imbalanced data"
      ]
    },
    {
      "cell_type": "code",
      "metadata": {
        "colab": {
          "base_uri": "https://localhost:8080/",
          "height": 407
        },
        "id": "ppgy0pRJmOhw",
        "outputId": "5ac478a9-470c-4717-b7b2-4fbbf98ec350"
      },
      "source": [
        "# Chi squared feature selection for categorical data\n",
        "from sklearn.feature_selection import SelectKBest\n",
        "from sklearn.feature_selection import chi2\n",
        "\n",
        "# feature selection\n",
        "def select_features(X_train, y_train, X_test):\n",
        "\tfs = SelectKBest(score_func=chi2, k='all')\n",
        "\tfs.fit(X_train, y_train)\n",
        "\tX_train_fs = fs.transform(X_train)\n",
        "\tX_test_fs = fs.transform(X_test)\n",
        "\treturn X_train_fs, X_test_fs, fs\n",
        "\n",
        "# feature selection\n",
        "X_train_fs, X_test_fs, fs = select_features(X_train, y_train, X_test)\n",
        "\n",
        "# what are scores for the features\n",
        "for i in range(len(fs.scores_)):\n",
        "\tprint('Feature %d: %f' % (i, fs.scores_[i]))\n",
        " \n",
        "# plot the scores\n",
        "plt.bar([i for i in range(len(fs.scores_))], fs.scores_)\n",
        "plt.yscale('log')\n",
        "plt.show()"
      ],
      "execution_count": 326,
      "outputs": [
        {
          "output_type": "stream",
          "name": "stdout",
          "text": [
            "Feature 0: 4.295383\n",
            "Feature 1: 0.054584\n",
            "Feature 2: 0.171005\n",
            "Feature 3: 0.143262\n",
            "Feature 4: 12.097400\n",
            "Feature 5: 0.103881\n",
            "Feature 6: 1638.272402\n",
            "Feature 7: 1.845807\n"
          ]
        },
        {
          "output_type": "display_data",
          "data": {
            "image/png": "[encoded data removed]",
            "text/plain": [
              "<Figure size 432x288 with 1 Axes>"
            ]
          },
          "metadata": {}
        }
      ]
    },
    {
      "cell_type": "markdown",
      "metadata": {
        "id": "eF7n2IQh5Pfu"
      },
      "source": [
        "### Random Forest with a single validation data"
      ]
    },
    {
      "cell_type": "code",
      "metadata": {
        "colab": {
          "base_uri": "https://localhost:8080/"
        },
        "id": "VxpA7XRlkXWX",
        "outputId": "61cd551b-a631-4fec-a799-d778b9e6d39a"
      },
      "source": [
        "from sklearn import tree\n",
        "from sklearn.metrics import f1_score\n",
        "from sklearn.metrics import confusion_matrix\n",
        "from sklearn.metrics import plot_confusion_matrix\n",
        "from sklearn.metrics import precision_recall_fscore_support\n",
        "from sklearn.metrics import r2_score\n",
        "from sklearn.ensemble import RandomForestClassifier\n",
        "\n",
        "clf = RandomForestClassifier(n_estimators=200)\n",
        "clf = clf.fit(X_train_fs, y_train)\n",
        "\n",
        "print(\"Accuracy (in %):\", clf.score(X_test_fs, y_test)*100)\n",
        "\n",
        "# The class determining probability was changed to 0.15 from 0.5 due to imbalance\n",
        "y_pred = (clf.predict_proba(X_test_fs)[:,1] >= 0.15).astype(bool)\n",
        "print('F1 score', f1_score(y_test, y_pred))\n",
        "\n",
        "print('AUC Score = ', roc_auc_score(y_test, clf.predict_proba(X_test_fs)[:, 1]))\n"
      ],
      "execution_count": 330,
      "outputs": [
        {
          "output_type": "stream",
          "name": "stdout",
          "text": [
            "Accuracy (in %): 94.5859872611465\n",
            "F1 score 0.09794628751974724\n",
            "AUC Score =  0.5561373539314717\n"
          ]
        }
      ]
    },
    {
      "cell_type": "markdown",
      "metadata": {
        "id": "VW8il8C5LTnE"
      },
      "source": [
        "\n",
        "\n",
        "## Poor performance from imbalanced data. No surprises here.\n",
        "Let's check the feature importance for the classifier\n",
        "\n",
        "\n",
        "\n"
      ]
    },
    {
      "cell_type": "code",
      "metadata": {
        "colab": {
          "base_uri": "https://localhost:8080/",
          "height": 593
        },
        "id": "Huw8sMbB5DjW",
        "outputId": "149aab1b-10b8-4aaf-ef1f-ca59be295a61"
      },
      "source": [
        "# Plot the feature importance\n",
        "\n",
        "feat_scores = pd.DataFrame({'Fraction of Samples Affected' : clf.feature_importances_}, index=model_df.columns[:-1])\n",
        "feat_scores = feat_scores.sort_values(by='Fraction of Samples Affected')\n",
        "feat_scores.plot(kind='barh', figsize=(10,10), colormap='RdGy')\n",
        "sns.despine()"
      ],
      "execution_count": 332,
      "outputs": [
        {
          "output_type": "display_data",
          "data": {
            "image/png": "[encoded data removed]",
            "text/plain": [
              "<Figure size 720x720 with 1 Axes>"
            ]
          },
          "metadata": {}
        }
      ]
    },
    {
      "cell_type": "markdown",
      "metadata": {
        "id": "AAPMCn9spxBq"
      },
      "source": [
        "K-Fold Cross Validation using Decision Tree"
      ]
    },
    {
      "cell_type": "code",
      "metadata": {
        "id": "4aI7wL8Kw8qj",
        "colab": {
          "base_uri": "https://localhost:8080/"
        },
        "outputId": "24f362b9-1301-4f46-85c5-87fede8bec42"
      },
      "source": [
        "from sklearn.metrics import mean_squared_error\n",
        "from sklearn.model_selection import StratifiedKFold\n",
        "from sklearn.model_selection import KFold\n",
        "from sklearn.linear_model import LinearRegression, LogisticRegression\n",
        "\n",
        "df=model_df\n",
        "\n",
        "FEATURES=list(df.columns[0:8]) \n",
        "TARGET='churn'\n",
        "f1score=[]\n",
        "skf = StratifiedKFold(n_splits=3, shuffle=True, random_state=None)\n",
        "\n",
        "for fold, (train_idx, valid_idx) in enumerate(skf.split(df[FEATURES], df[TARGET])):\n",
        "    X_train, X_valid = df.iloc[train_idx], df.iloc[valid_idx]\n",
        "    y_train = X_train[TARGET]\n",
        "    y_valid = X_valid[TARGET]\n",
        "    X_train = X_train.drop(TARGET, axis=1)\n",
        "    X_valid = X_valid.drop(TARGET, axis=1)\n",
        "    \n",
        "    cbr = tree.DecisionTreeClassifier()\n",
        "\n",
        "    cbr =  cbr.fit(X_train, y_train)\n",
        "    y_pred = (cbr.predict_proba(X_valid)[:,1] >= 0.3).astype(bool)\n",
        "    f1score.append(f1_score(y_valid, y_pred))\n",
        "    print(f'Fold {fold}: F1: ', f1_score(y_valid, y_pred))"
      ],
      "execution_count": 316,
      "outputs": [
        {
          "output_type": "stream",
          "name": "stdout",
          "text": [
            "Fold 0: F1:  0.03703703703703704\n",
            "Fold 1: F1:  0.10062893081761007\n",
            "Fold 2: F1:  0.11627906976744187\n"
          ]
        }
      ]
    },
    {
      "cell_type": "markdown",
      "metadata": {
        "id": "MpS6_4carkmC"
      },
      "source": [
        "# Hyper-parameter tuning using grid-search CV"
      ]
    },
    {
      "cell_type": "code",
      "metadata": {
        "colab": {
          "base_uri": "https://localhost:8080/"
        },
        "id": "iUzqYi5cLCp9",
        "outputId": "f94bfc01-0866-42ac-ae0b-3009a745175c"
      },
      "source": [
        "from sklearn import svm, datasets\n",
        "from sklearn.model_selection import GridSearchCV\n",
        "param_grid = {\"max_depth\": np.arange(2, 4, 6)}\n",
        "parameters = {'n_estimators': [100, 200], \n",
        "              # 'max_features': ['log2', 'sqrt','auto'], \n",
        "              'criterion': ['entropy', 'gini'],\n",
        "              # 'max_depth': [2, 3, 5, 10], \n",
        "              # 'min_samples_split': [2, 3, 5],\n",
        "              # 'min_samples_leaf': [1,5,8]\n",
        "             }\n",
        "\n",
        "cbr = RandomForestClassifier()\n",
        "clf = GridSearchCV(cbr, parameters, scoring='f1')\n",
        "clf.fit(X_train, y_train)"
      ],
      "execution_count": 317,
      "outputs": [
        {
          "output_type": "execute_result",
          "data": {
            "text/plain": [
              "GridSearchCV(cv=None, error_score=nan,\n",
              "             estimator=RandomForestClassifier(bootstrap=True, ccp_alpha=0.0,\n",
              "                                              class_weight=None,\n",
              "                                              criterion='gini', max_depth=None,\n",
              "                                              max_features='auto',\n",
              "                                              max_leaf_nodes=None,\n",
              "                                              max_samples=None,\n",
              "                                              min_impurity_decrease=0.0,\n",
              "                                              min_impurity_split=None,\n",
              "                                              min_samples_leaf=1,\n",
              "                                              min_samples_split=2,\n",
              "                                              min_weight_fraction_leaf=0.0,\n",
              "                                              n_estimators=100, n_jobs=None,\n",
              "                                              oob_score=False,\n",
              "                                              random_state=None, verbose=0,\n",
              "                                              warm_start=False),\n",
              "             iid='deprecated', n_jobs=None,\n",
              "             param_grid={'criterion': ['entropy', 'gini'],\n",
              "                         'n_estimators': [100, 200]},\n",
              "             pre_dispatch='2*n_jobs', refit=True, return_train_score=False,\n",
              "             scoring='f1', verbose=0)"
            ]
          },
          "metadata": {},
          "execution_count": 317
        }
      ]
    },
    {
      "cell_type": "code",
      "metadata": {
        "colab": {
          "base_uri": "https://localhost:8080/",
          "height": 403
        },
        "id": "3Q83-bUfS3T7",
        "outputId": "db044034-3bac-465d-85bd-a8520209e500"
      },
      "source": [
        "pd.DataFrame(clf.cv_results_)"
      ],
      "execution_count": 318,
      "outputs": [
        {
          "output_type": "execute_result",
          "data": {
            "text/html": [
              "<div>\n",
              "<style scoped>\n",
              "    .dataframe tbody tr th:only-of-type {\n",
              "        vertical-align: middle;\n",
              "    }\n",
              "\n",
              "    .dataframe tbody tr th {\n",
              "        vertical-align: top;\n",
              "    }\n",
              "\n",
              "    .dataframe thead th {\n",
              "        text-align: right;\n",
              "    }\n",
              "</style>\n",
              "<table border=\"1\" class=\"dataframe\">\n",
              "  <thead>\n",
              "    <tr style=\"text-align: right;\">\n",
              "      <th></th>\n",
              "      <th>mean_fit_time</th>\n",
              "      <th>std_fit_time</th>\n",
              "      <th>mean_score_time</th>\n",
              "      <th>std_score_time</th>\n",
              "      <th>param_criterion</th>\n",
              "      <th>param_n_estimators</th>\n",
              "      <th>params</th>\n",
              "      <th>split0_test_score</th>\n",
              "      <th>split1_test_score</th>\n",
              "      <th>split2_test_score</th>\n",
              "      <th>split3_test_score</th>\n",
              "      <th>split4_test_score</th>\n",
              "      <th>mean_test_score</th>\n",
              "      <th>std_test_score</th>\n",
              "      <th>rank_test_score</th>\n",
              "    </tr>\n",
              "  </thead>\n",
              "  <tbody>\n",
              "    <tr>\n",
              "      <th>0</th>\n",
              "      <td>0.322264</td>\n",
              "      <td>0.010943</td>\n",
              "      <td>0.019592</td>\n",
              "      <td>0.001055</td>\n",
              "      <td>entropy</td>\n",
              "      <td>100</td>\n",
              "      <td>{'criterion': 'entropy', 'n_estimators': 100}</td>\n",
              "      <td>0.000000</td>\n",
              "      <td>0.0</td>\n",
              "      <td>0.0</td>\n",
              "      <td>0.000000</td>\n",
              "      <td>0.0</td>\n",
              "      <td>0.000000</td>\n",
              "      <td>0.000000</td>\n",
              "      <td>3</td>\n",
              "    </tr>\n",
              "    <tr>\n",
              "      <th>1</th>\n",
              "      <td>0.623948</td>\n",
              "      <td>0.012250</td>\n",
              "      <td>0.035859</td>\n",
              "      <td>0.001021</td>\n",
              "      <td>entropy</td>\n",
              "      <td>200</td>\n",
              "      <td>{'criterion': 'entropy', 'n_estimators': 200}</td>\n",
              "      <td>0.000000</td>\n",
              "      <td>0.0</td>\n",
              "      <td>0.0</td>\n",
              "      <td>0.000000</td>\n",
              "      <td>0.0</td>\n",
              "      <td>0.000000</td>\n",
              "      <td>0.000000</td>\n",
              "      <td>3</td>\n",
              "    </tr>\n",
              "    <tr>\n",
              "      <th>2</th>\n",
              "      <td>0.263478</td>\n",
              "      <td>0.007139</td>\n",
              "      <td>0.019333</td>\n",
              "      <td>0.000649</td>\n",
              "      <td>gini</td>\n",
              "      <td>100</td>\n",
              "      <td>{'criterion': 'gini', 'n_estimators': 100}</td>\n",
              "      <td>0.060606</td>\n",
              "      <td>0.0</td>\n",
              "      <td>0.0</td>\n",
              "      <td>0.055556</td>\n",
              "      <td>0.0</td>\n",
              "      <td>0.023232</td>\n",
              "      <td>0.028498</td>\n",
              "      <td>1</td>\n",
              "    </tr>\n",
              "    <tr>\n",
              "      <th>3</th>\n",
              "      <td>0.518836</td>\n",
              "      <td>0.004065</td>\n",
              "      <td>0.036303</td>\n",
              "      <td>0.000766</td>\n",
              "      <td>gini</td>\n",
              "      <td>200</td>\n",
              "      <td>{'criterion': 'gini', 'n_estimators': 200}</td>\n",
              "      <td>0.060606</td>\n",
              "      <td>0.0</td>\n",
              "      <td>0.0</td>\n",
              "      <td>0.000000</td>\n",
              "      <td>0.0</td>\n",
              "      <td>0.012121</td>\n",
              "      <td>0.024242</td>\n",
              "      <td>2</td>\n",
              "    </tr>\n",
              "  </tbody>\n",
              "</table>\n",
              "</div>"
            ],
            "text/plain": [
              "   mean_fit_time  std_fit_time  ...  std_test_score  rank_test_score\n",
              "0       0.322264      0.010943  ...        0.000000                3\n",
              "1       0.623948      0.012250  ...        0.000000                3\n",
              "2       0.263478      0.007139  ...        0.028498                1\n",
              "3       0.518836      0.004065  ...        0.024242                2\n",
              "\n",
              "[4 rows x 15 columns]"
            ]
          },
          "metadata": {},
          "execution_count": 318
        }
      ]
    },
    {
      "cell_type": "markdown",
      "metadata": {
        "id": "sq3Z7tInBNIC"
      },
      "source": [
        "# Boosted Algorithms?"
      ]
    },
    {
      "cell_type": "code",
      "metadata": {
        "colab": {
          "base_uri": "https://localhost:8080/",
          "height": 337
        },
        "id": "0qIVd3GKWXXI",
        "outputId": "f161f203-6c69-4aaa-ff9a-4e9b9a0eeb72"
      },
      "source": [
        "from sklearn.datasets import make_hastie_10_2\n",
        "from sklearn.ensemble import GradientBoostingClassifier\n",
        "\n",
        "clf = GradientBoostingClassifier(n_estimators=200, learning_rate=0.1, max_depth=2, random_state=42).fit(X_train, y_train)\n",
        "\n",
        "print(\"Accuracy (in %):\",clf.score(X_test, y_test)*100)\n",
        "\n",
        "y_pred = (clf.predict_proba(X_test)[:,1] >= 0.15).astype(bool)\n",
        "print('F1 score', f1_score(y_test, y_pred))\n",
        "\n",
        "plot_confusion_matrix(clf, X_test, y_test)  \n",
        "print(precision_recall_fscore_support(y_test, y_pred, average='binary'))\n",
        "\n",
        "\n",
        "plt.show()"
      ],
      "execution_count": 340,
      "outputs": [
        {
          "output_type": "stream",
          "name": "stdout",
          "text": [
            "Accuracy (in %): 93.15286624203821\n",
            "F1 score 0.1435897435897436\n",
            "(0.11023622047244094, 0.20588235294117646, 0.1435897435897436, None)\n"
          ]
        },
        {
          "output_type": "display_data",
          "data": {
            "image/png": "[encoded data removed]",
            "text/plain": [
              "<Figure size 432x288 with 2 Axes>"
            ]
          },
          "metadata": {}
        }
      ]
    },
    {
      "cell_type": "code",
      "metadata": {
        "id": "QFCFhpY7BS7k"
      },
      "source": [
        "Q4: write code to trim outliers (defined as >/< mean+/-2std) in a df that has ID, \n",
        "50 columns of numeric variables (col1, col2, ... col50), \n",
        "and one target variable target 1/0\n",
        "\n",
        "for i in df.columns:\n",
        "    df=df[df>(df.mean() - 2*df.std()) & df<(df.mean() + 2*df.std())]\n",
        "\n",
        "for i in df.index:\n",
        "    df.loc[i]=df.loc[i][df.loc[i]>(df.mean()-2*df.std()) & df.loc[i]<(df.mean()+2*df.std())]"
      ],
      "execution_count": null,
      "outputs": []
    },
    {
      "cell_type": "markdown",
      "metadata": {
        "id": "loVs5REXBNSa"
      },
      "source": [
        ""
      ]
    }
  ]
}