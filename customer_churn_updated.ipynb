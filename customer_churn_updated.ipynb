{
  "nbformat": 4,
  "nbformat_minor": 0,
  "metadata": {
    "colab": {
      "name": "customer_churn.ipynb",
      "provenance": [],
      "collapsed_sections": [],
      "mount_file_id": "1OgfdhSuDlaEBFvA6puDBya2Xwqgd2SKd",
      "authorship_tag": "ABX9TyMmitZO89oor6quXCxrULEL",
      "include_colab_link": true
    },
    "kernelspec": {
      "name": "python3",
      "display_name": "Python 3"
    },
    "language_info": {
      "name": "python"
    }
  },
  "cells": [
    {
      "cell_type": "markdown",
      "metadata": {
        "id": "view-in-github",
        "colab_type": "text"
      },
      "source": [
        "<a href=\"https://colab.research.google.com/github/Yadukrishnan1/Customer-Churn-Analysis/blob/main/customer_churn_updated.ipynb\" target=\"_parent\"><img src=\"https://colab.research.google.com/assets/colab-badge.svg\" alt=\"Open In Colab\"/></a>"
      ]
    },
    {
      "cell_type": "markdown",
      "metadata": {
        "id": "-8h_981lQ25m"
      },
      "source": [
        "# What is Churn?\n",
        "\n",
        "Churn rate is calculated by dividing the number of customer cancellations within a time period by the number of active customers at the start of that period. Very valuable insights can be gathered from this simple analysis — for example, the overall churn rate can provide a benchmark against which to measure the impact of a model. And knowing how churn rate varies by time of the week or month, product line, or customer cohort can help inform simple customer segments for targeting as well.\n",
        "\n",
        "The output of a predictive churn model is a measure of the immediate or future risk of a customer cancellation. This is what the term \"churn modeling\" most often refers to, and is the definition we will adhere to in this post."
      ]
    },
    {
      "cell_type": "markdown",
      "metadata": {
        "id": "Kx-kVMKougr2"
      },
      "source": [
        "**Loading packages...**\n",
        "\n",
        "\n"
      ]
    },
    {
      "cell_type": "code",
      "metadata": {
        "id": "bnFHRX90DcLt"
      },
      "source": [
        "import numpy as np\n",
        "import math\n",
        "import pandas as pd\n",
        "import matplotlib.pyplot as plt\n",
        "import seaborn as sns\n",
        "\n",
        "# Scikit-learn for ML prediction and modelling\n",
        "\n",
        "from sklearn.preprocessing import StandardScaler\n",
        "import sklearn\n",
        "from sklearn.metrics import mean_squared_error, f1_score, roc_curve, auc, roc_auc_score, confusion_matrix\n",
        "from sklearn.model_selection import train_test_split\n",
        "from sklearn import tree\n",
        "from mpl_toolkits import mplot3d\n",
        "from sklearn.preprocessing import OneHotEncoder, OrdinalEncoder, LabelEncoder\n",
        "from sklearn.linear_model import LinearRegression, LogisticRegression, LogisticRegressionCV\n",
        "from sklearn.tree import DecisionTreeClassifier\n",
        "from sklearn.ensemble import RandomForestClassifier\n",
        "from sklearn.model_selection import cross_val_score, GridSearchCV, train_test_split, KFold, RandomizedSearchCV\n",
        "\n",
        "from xgboost.sklearn import XGBRegressor, XGBClassifier\n",
        "import xgboost as xgb\n",
        "\n",
        "from os import path\n",
        "\n",
        "import warnings\n",
        "warnings.filterwarnings(\"ignore\")\n",
        "\n",
        "%matplotlib inline"
      ],
      "execution_count": 118,
      "outputs": []
    },
    {
      "cell_type": "code",
      "metadata": {
        "id": "m79Zmh-7EC20"
      },
      "source": [
        "feat_df=pd.read_csv(\"/content/drive/MyDrive/Colab Notebooks/Robinhood/features_data.csv\")\n",
        "eq_df=pd.read_csv(\"/content/drive/MyDrive/Colab Notebooks/Robinhood/equity_value_data.csv\")"
      ],
      "execution_count": 3,
      "outputs": []
    },
    {
      "cell_type": "markdown",
      "metadata": {
        "id": "fvrwp0Btvms_"
      },
      "source": [
        "# **Part 1**: Determine the user classes and find out the percentage of both."
      ]
    },
    {
      "cell_type": "markdown",
      "metadata": {
        "id": "xe0I6Zc2uuOf"
      },
      "source": [
        "## Exploratory Data Analysis (**EDA**) to determine the users who have churned."
      ]
    },
    {
      "cell_type": "code",
      "metadata": {
        "colab": {
          "base_uri": "https://localhost:8080/",
          "height": 241
        },
        "id": "IG96rGfFF1Ay",
        "outputId": "198067b6-712f-4614-dd66-1ea93e5638c6"
      },
      "source": [
        "print(eq_df.shape, '\\n')\n",
        "eq_df.head()"
      ],
      "execution_count": 4,
      "outputs": [
        {
          "output_type": "stream",
          "name": "stdout",
          "text": [
            "(1119158, 3) \n",
            "\n"
          ]
        },
        {
          "output_type": "execute_result",
          "data": {
            "text/html": [
              "<div>\n",
              "<style scoped>\n",
              "    .dataframe tbody tr th:only-of-type {\n",
              "        vertical-align: middle;\n",
              "    }\n",
              "\n",
              "    .dataframe tbody tr th {\n",
              "        vertical-align: top;\n",
              "    }\n",
              "\n",
              "    .dataframe thead th {\n",
              "        text-align: right;\n",
              "    }\n",
              "</style>\n",
              "<table border=\"1\" class=\"dataframe\">\n",
              "  <thead>\n",
              "    <tr style=\"text-align: right;\">\n",
              "      <th></th>\n",
              "      <th>timestamp</th>\n",
              "      <th>close_equity</th>\n",
              "      <th>user_id</th>\n",
              "    </tr>\n",
              "  </thead>\n",
              "  <tbody>\n",
              "    <tr>\n",
              "      <th>0</th>\n",
              "      <td>2016-11-16T00:00:00Z</td>\n",
              "      <td>48.16</td>\n",
              "      <td>bcef4fa9b0bdf22bcf7deae708decf03</td>\n",
              "    </tr>\n",
              "    <tr>\n",
              "      <th>1</th>\n",
              "      <td>2016-11-17T00:00:00Z</td>\n",
              "      <td>48.16</td>\n",
              "      <td>bcef4fa9b0bdf22bcf7deae708decf03</td>\n",
              "    </tr>\n",
              "    <tr>\n",
              "      <th>2</th>\n",
              "      <td>2016-11-18T00:00:00Z</td>\n",
              "      <td>48.16</td>\n",
              "      <td>bcef4fa9b0bdf22bcf7deae708decf03</td>\n",
              "    </tr>\n",
              "    <tr>\n",
              "      <th>3</th>\n",
              "      <td>2016-11-21T00:00:00Z</td>\n",
              "      <td>48.16</td>\n",
              "      <td>bcef4fa9b0bdf22bcf7deae708decf03</td>\n",
              "    </tr>\n",
              "    <tr>\n",
              "      <th>4</th>\n",
              "      <td>2016-11-22T00:00:00Z</td>\n",
              "      <td>48.16</td>\n",
              "      <td>bcef4fa9b0bdf22bcf7deae708decf03</td>\n",
              "    </tr>\n",
              "  </tbody>\n",
              "</table>\n",
              "</div>"
            ],
            "text/plain": [
              "              timestamp  close_equity                           user_id\n",
              "0  2016-11-16T00:00:00Z         48.16  bcef4fa9b0bdf22bcf7deae708decf03\n",
              "1  2016-11-17T00:00:00Z         48.16  bcef4fa9b0bdf22bcf7deae708decf03\n",
              "2  2016-11-18T00:00:00Z         48.16  bcef4fa9b0bdf22bcf7deae708decf03\n",
              "3  2016-11-21T00:00:00Z         48.16  bcef4fa9b0bdf22bcf7deae708decf03\n",
              "4  2016-11-22T00:00:00Z         48.16  bcef4fa9b0bdf22bcf7deae708decf03"
            ]
          },
          "metadata": {},
          "execution_count": 4
        }
      ]
    },
    {
      "cell_type": "code",
      "metadata": {
        "colab": {
          "base_uri": "https://localhost:8080/"
        },
        "id": "QCqG_YpEwCEA",
        "outputId": "94dadb5a-fc53-4ea7-e315-c1d5c782a792"
      },
      "source": [
        "eq_df.info()"
      ],
      "execution_count": 5,
      "outputs": [
        {
          "output_type": "stream",
          "name": "stdout",
          "text": [
            "<class 'pandas.core.frame.DataFrame'>\n",
            "RangeIndex: 1119158 entries, 0 to 1119157\n",
            "Data columns (total 3 columns):\n",
            " #   Column        Non-Null Count    Dtype  \n",
            "---  ------        --------------    -----  \n",
            " 0   timestamp     1119158 non-null  object \n",
            " 1   close_equity  1119158 non-null  float64\n",
            " 2   user_id       1119158 non-null  object \n",
            "dtypes: float64(1), object(2)\n",
            "memory usage: 25.6+ MB\n"
          ]
        }
      ]
    },
    {
      "cell_type": "code",
      "metadata": {
        "colab": {
          "base_uri": "https://localhost:8080/"
        },
        "id": "zd8t-G6EGF1m",
        "outputId": "f95ea959-e892-4282-fc2a-7e5482a1a604"
      },
      "source": [
        "eq_df.isna().sum()"
      ],
      "execution_count": 6,
      "outputs": [
        {
          "output_type": "execute_result",
          "data": {
            "text/plain": [
              "timestamp       0\n",
              "close_equity    0\n",
              "user_id         0\n",
              "dtype: int64"
            ]
          },
          "metadata": {},
          "execution_count": 6
        }
      ]
    },
    {
      "cell_type": "code",
      "metadata": {
        "colab": {
          "base_uri": "https://localhost:8080/"
        },
        "id": "_H9c897wHlBk",
        "outputId": "f1432643-8b0a-4413-940d-0ef906b24051"
      },
      "source": [
        "eq_df.timestamp=pd.to_datetime(eq_df.timestamp, errors='coerce')\n",
        "eq_df.nunique()"
      ],
      "execution_count": 7,
      "outputs": [
        {
          "output_type": "execute_result",
          "data": {
            "text/plain": [
              "timestamp          255\n",
              "close_equity    531483\n",
              "user_id           5584\n",
              "dtype: int64"
            ]
          },
          "metadata": {},
          "execution_count": 7
        }
      ]
    },
    {
      "cell_type": "markdown",
      "metadata": {
        "id": "8ZrLgZcnu82h"
      },
      "source": [
        "# Visualizing Equity Vs Days for a few users"
      ]
    },
    {
      "cell_type": "code",
      "metadata": {
        "colab": {
          "base_uri": "https://localhost:8080/",
          "height": 651
        },
        "id": "M0O6JOl0KV6X",
        "outputId": "b1031a0e-917f-4694-96e4-62a21903ed44"
      },
      "source": [
        "for i in range(2):\n",
        "    user_eq_df=eq_df[eq_df['user_id']==eq_df[eq_df.columns[2]].unique()[i]]\n",
        "    \n",
        "    plt.figure(figsize=(10,5))\n",
        "    \n",
        "    ts=user_eq_df[\"close_equity\"]\n",
        "    time=user_eq_df[\"timestamp\"]\n",
        "    \n",
        "    plt.xlabel('Date')\n",
        "    plt.ylabel('Equity (Dollars)')\n",
        "    plt.plot(ts, '-', label='User {0}'.format(i));\n",
        "    plt.legend()\n",
        "plt.show()"
      ],
      "execution_count": 8,
      "outputs": [
        {
          "output_type": "display_data",
          "data": {
            "image/png": "[encoded data removed]",
            "text/plain": [
              "<Figure size 720x360 with 1 Axes>"
            ]
          },
          "metadata": {
            "needs_background": "light"
          }
        },
        {
          "output_type": "display_data",
          "data": {
            "image/png": "[encoded data removed]",
            "text/plain": [
              "<Figure size 720x360 with 1 Axes>"
            ]
          },
          "metadata": {
            "needs_background": "light"
          }
        }
      ]
    },
    {
      "cell_type": "markdown",
      "metadata": {
        "id": "tU2zdppTvJE1"
      },
      "source": [
        "# We determine the two classes of the users - **Churned** or **Not Churned**. \n",
        "---\n",
        "### To determine that, we make use of the condition that if the equity of a user is lower than $10 for 28 consecutive calendar days or longer.\n",
        "\n",
        "From preliminary analysis of the equity value time-series of each user, we find that the minimum recorded equity value across users is \\$10 and the maximum is ~\\$4,50,000. This means that whenever the equity vaue goes below $10, those data are excluded from the table. This gives us an oppotunity to simplify the detection of churned users by simply determining the length of the missing time-series data for each user. If the length is over 28+2 (considering the weekend), that user is churned.\n",
        "\n",
        "---\n",
        "\n",
        "## The missing days (gap_days) from the dataset can be determined as shown below."
      ]
    },
    {
      "cell_type": "code",
      "metadata": {
        "colab": {
          "base_uri": "https://localhost:8080/",
          "height": 362
        },
        "id": "MxxRX5htSCDD",
        "outputId": "c095a079-b98f-446e-b1a9-52b57f624ccf"
      },
      "source": [
        "eq_df['gap_days'] = eq_df.timestamp.diff()\n",
        "eq_df.head(10)"
      ],
      "execution_count": 9,
      "outputs": [
        {
          "output_type": "execute_result",
          "data": {
            "text/html": [
              "<div>\n",
              "<style scoped>\n",
              "    .dataframe tbody tr th:only-of-type {\n",
              "        vertical-align: middle;\n",
              "    }\n",
              "\n",
              "    .dataframe tbody tr th {\n",
              "        vertical-align: top;\n",
              "    }\n",
              "\n",
              "    .dataframe thead th {\n",
              "        text-align: right;\n",
              "    }\n",
              "</style>\n",
              "<table border=\"1\" class=\"dataframe\">\n",
              "  <thead>\n",
              "    <tr style=\"text-align: right;\">\n",
              "      <th></th>\n",
              "      <th>timestamp</th>\n",
              "      <th>close_equity</th>\n",
              "      <th>user_id</th>\n",
              "      <th>gap_days</th>\n",
              "    </tr>\n",
              "  </thead>\n",
              "  <tbody>\n",
              "    <tr>\n",
              "      <th>0</th>\n",
              "      <td>2016-11-16 00:00:00+00:00</td>\n",
              "      <td>48.16</td>\n",
              "      <td>bcef4fa9b0bdf22bcf7deae708decf03</td>\n",
              "      <td>NaT</td>\n",
              "    </tr>\n",
              "    <tr>\n",
              "      <th>1</th>\n",
              "      <td>2016-11-17 00:00:00+00:00</td>\n",
              "      <td>48.16</td>\n",
              "      <td>bcef4fa9b0bdf22bcf7deae708decf03</td>\n",
              "      <td>1 days</td>\n",
              "    </tr>\n",
              "    <tr>\n",
              "      <th>2</th>\n",
              "      <td>2016-11-18 00:00:00+00:00</td>\n",
              "      <td>48.16</td>\n",
              "      <td>bcef4fa9b0bdf22bcf7deae708decf03</td>\n",
              "      <td>1 days</td>\n",
              "    </tr>\n",
              "    <tr>\n",
              "      <th>3</th>\n",
              "      <td>2016-11-21 00:00:00+00:00</td>\n",
              "      <td>48.16</td>\n",
              "      <td>bcef4fa9b0bdf22bcf7deae708decf03</td>\n",
              "      <td>3 days</td>\n",
              "    </tr>\n",
              "    <tr>\n",
              "      <th>4</th>\n",
              "      <td>2016-11-22 00:00:00+00:00</td>\n",
              "      <td>48.16</td>\n",
              "      <td>bcef4fa9b0bdf22bcf7deae708decf03</td>\n",
              "      <td>1 days</td>\n",
              "    </tr>\n",
              "    <tr>\n",
              "      <th>5</th>\n",
              "      <td>2016-11-23 00:00:00+00:00</td>\n",
              "      <td>48.16</td>\n",
              "      <td>bcef4fa9b0bdf22bcf7deae708decf03</td>\n",
              "      <td>1 days</td>\n",
              "    </tr>\n",
              "    <tr>\n",
              "      <th>6</th>\n",
              "      <td>2016-11-25 00:00:00+00:00</td>\n",
              "      <td>48.16</td>\n",
              "      <td>bcef4fa9b0bdf22bcf7deae708decf03</td>\n",
              "      <td>2 days</td>\n",
              "    </tr>\n",
              "    <tr>\n",
              "      <th>7</th>\n",
              "      <td>2016-11-28 00:00:00+00:00</td>\n",
              "      <td>48.16</td>\n",
              "      <td>bcef4fa9b0bdf22bcf7deae708decf03</td>\n",
              "      <td>3 days</td>\n",
              "    </tr>\n",
              "    <tr>\n",
              "      <th>8</th>\n",
              "      <td>2016-11-29 00:00:00+00:00</td>\n",
              "      <td>48.16</td>\n",
              "      <td>bcef4fa9b0bdf22bcf7deae708decf03</td>\n",
              "      <td>1 days</td>\n",
              "    </tr>\n",
              "    <tr>\n",
              "      <th>9</th>\n",
              "      <td>2016-11-30 00:00:00+00:00</td>\n",
              "      <td>48.16</td>\n",
              "      <td>bcef4fa9b0bdf22bcf7deae708decf03</td>\n",
              "      <td>1 days</td>\n",
              "    </tr>\n",
              "  </tbody>\n",
              "</table>\n",
              "</div>"
            ],
            "text/plain": [
              "                  timestamp  ...  gap_days\n",
              "0 2016-11-16 00:00:00+00:00  ...       NaT\n",
              "1 2016-11-17 00:00:00+00:00  ...    1 days\n",
              "2 2016-11-18 00:00:00+00:00  ...    1 days\n",
              "3 2016-11-21 00:00:00+00:00  ...    3 days\n",
              "4 2016-11-22 00:00:00+00:00  ...    1 days\n",
              "5 2016-11-23 00:00:00+00:00  ...    1 days\n",
              "6 2016-11-25 00:00:00+00:00  ...    2 days\n",
              "7 2016-11-28 00:00:00+00:00  ...    3 days\n",
              "8 2016-11-29 00:00:00+00:00  ...    1 days\n",
              "9 2016-11-30 00:00:00+00:00  ...    1 days\n",
              "\n",
              "[10 rows x 4 columns]"
            ]
          },
          "metadata": {},
          "execution_count": 9
        }
      ]
    },
    {
      "cell_type": "code",
      "metadata": {
        "colab": {
          "base_uri": "https://localhost:8080/"
        },
        "id": "uORdjFLnUOXT",
        "outputId": "1cbf229c-4e87-48ba-a8fe-4caa3ac0862d"
      },
      "source": [
        "# The number of churned users is obtained by comparing the gap-days with a time-delta of 30 days.\n",
        "\n",
        "churned_user_count=eq_df[eq_df['gap_days']>=pd.Timedelta(\"30 days\")]['user_id'].nunique()\n",
        "churned_user_ids=eq_df[eq_df['gap_days']>=pd.Timedelta(\"30 days\")]['user_id'].unique()\n",
        "print(len(churned_user_ids))\n",
        "\n",
        "# Total users\n",
        "\n",
        "total_users=eq_df['user_id'].nunique()\n",
        "total_user_ids=eq_df['user_id'].unique()\n",
        "print(len(total_user_ids))\n"
      ],
      "execution_count": 10,
      "outputs": [
        {
          "output_type": "stream",
          "name": "stdout",
          "text": [
            "279\n",
            "5584\n"
          ]
        }
      ]
    },
    {
      "cell_type": "markdown",
      "metadata": {
        "id": "ynR1ClptPZUk"
      },
      "source": [
        "# **1. What fraction of the users have churned?**"
      ]
    },
    {
      "cell_type": "code",
      "metadata": {
        "colab": {
          "base_uri": "https://localhost:8080/"
        },
        "id": "uOBUMvISXCf0",
        "outputId": "815b5fc8-073a-48f1-9abf-b20539f9bddb"
      },
      "source": [
        "frac=np.round(100.0*(churned_user_count/total_users), decimals=2)\n",
        "print('Fraction of churned users is {0}%'.format(frac))"
      ],
      "execution_count": 11,
      "outputs": [
        {
          "output_type": "stream",
          "name": "stdout",
          "text": [
            "Fraction of churned users is 5.0%\n"
          ]
        }
      ]
    },
    {
      "cell_type": "markdown",
      "metadata": {
        "id": "72GxWqR-vf-9"
      },
      "source": [
        "# **Part 2: EDA and ML Model bulding to predict customer churn**\n",
        "\n",
        "\n"
      ]
    },
    {
      "cell_type": "code",
      "metadata": {
        "colab": {
          "base_uri": "https://localhost:8080/",
          "height": 226
        },
        "id": "KyA8USz8Iodd",
        "outputId": "f1a7031c-fa59-448f-ca72-3a1fdf5ae4ec"
      },
      "source": [
        "# The feature dataset\n",
        "\n",
        "feat_df.head()"
      ],
      "execution_count": 12,
      "outputs": [
        {
          "output_type": "execute_result",
          "data": {
            "text/html": [
              "<div>\n",
              "<style scoped>\n",
              "    .dataframe tbody tr th:only-of-type {\n",
              "        vertical-align: middle;\n",
              "    }\n",
              "\n",
              "    .dataframe tbody tr th {\n",
              "        vertical-align: top;\n",
              "    }\n",
              "\n",
              "    .dataframe thead th {\n",
              "        text-align: right;\n",
              "    }\n",
              "</style>\n",
              "<table border=\"1\" class=\"dataframe\">\n",
              "  <thead>\n",
              "    <tr style=\"text-align: right;\">\n",
              "      <th></th>\n",
              "      <th>risk_tolerance</th>\n",
              "      <th>investment_experience</th>\n",
              "      <th>liquidity_needs</th>\n",
              "      <th>platform</th>\n",
              "      <th>time_spent</th>\n",
              "      <th>instrument_type_first_traded</th>\n",
              "      <th>first_deposit_amount</th>\n",
              "      <th>time_horizon</th>\n",
              "      <th>user_id</th>\n",
              "    </tr>\n",
              "  </thead>\n",
              "  <tbody>\n",
              "    <tr>\n",
              "      <th>0</th>\n",
              "      <td>high_risk_tolerance</td>\n",
              "      <td>limited_investment_exp</td>\n",
              "      <td>very_important_liq_need</td>\n",
              "      <td>Android</td>\n",
              "      <td>33.129417</td>\n",
              "      <td>stock</td>\n",
              "      <td>40.0</td>\n",
              "      <td>med_time_horizon</td>\n",
              "      <td>895044c23edc821881e87da749c01034</td>\n",
              "    </tr>\n",
              "    <tr>\n",
              "      <th>1</th>\n",
              "      <td>med_risk_tolerance</td>\n",
              "      <td>limited_investment_exp</td>\n",
              "      <td>very_important_liq_need</td>\n",
              "      <td>Android</td>\n",
              "      <td>16.573517</td>\n",
              "      <td>stock</td>\n",
              "      <td>200.0</td>\n",
              "      <td>short_time_horizon</td>\n",
              "      <td>458b1d95441ced242949deefe8e4b638</td>\n",
              "    </tr>\n",
              "    <tr>\n",
              "      <th>2</th>\n",
              "      <td>med_risk_tolerance</td>\n",
              "      <td>limited_investment_exp</td>\n",
              "      <td>very_important_liq_need</td>\n",
              "      <td>iOS</td>\n",
              "      <td>10.008367</td>\n",
              "      <td>stock</td>\n",
              "      <td>25.0</td>\n",
              "      <td>long_time_horizon</td>\n",
              "      <td>c7936f653d293479e034865db9bb932f</td>\n",
              "    </tr>\n",
              "    <tr>\n",
              "      <th>3</th>\n",
              "      <td>med_risk_tolerance</td>\n",
              "      <td>limited_investment_exp</td>\n",
              "      <td>very_important_liq_need</td>\n",
              "      <td>Android</td>\n",
              "      <td>1.031633</td>\n",
              "      <td>stock</td>\n",
              "      <td>100.0</td>\n",
              "      <td>short_time_horizon</td>\n",
              "      <td>b255d4bd6c9ba194d3a350b3e76c6393</td>\n",
              "    </tr>\n",
              "    <tr>\n",
              "      <th>4</th>\n",
              "      <td>high_risk_tolerance</td>\n",
              "      <td>limited_investment_exp</td>\n",
              "      <td>very_important_liq_need</td>\n",
              "      <td>Android</td>\n",
              "      <td>8.187250</td>\n",
              "      <td>stock</td>\n",
              "      <td>20.0</td>\n",
              "      <td>long_time_horizon</td>\n",
              "      <td>4a168225e89375b8de605cbc0977ae91</td>\n",
              "    </tr>\n",
              "  </tbody>\n",
              "</table>\n",
              "</div>"
            ],
            "text/plain": [
              "        risk_tolerance  ...                           user_id\n",
              "0  high_risk_tolerance  ...  895044c23edc821881e87da749c01034\n",
              "1   med_risk_tolerance  ...  458b1d95441ced242949deefe8e4b638\n",
              "2   med_risk_tolerance  ...  c7936f653d293479e034865db9bb932f\n",
              "3   med_risk_tolerance  ...  b255d4bd6c9ba194d3a350b3e76c6393\n",
              "4  high_risk_tolerance  ...  4a168225e89375b8de605cbc0977ae91\n",
              "\n",
              "[5 rows x 9 columns]"
            ]
          },
          "metadata": {},
          "execution_count": 12
        }
      ]
    },
    {
      "cell_type": "code",
      "metadata": {
        "colab": {
          "base_uri": "https://localhost:8080/"
        },
        "id": "67HkUL0nKDjX",
        "outputId": "0441a4e5-899e-4561-9903-cd8ecf0a136c"
      },
      "source": [
        "feat_df.info()"
      ],
      "execution_count": 13,
      "outputs": [
        {
          "output_type": "stream",
          "name": "stdout",
          "text": [
            "<class 'pandas.core.frame.DataFrame'>\n",
            "RangeIndex: 5584 entries, 0 to 5583\n",
            "Data columns (total 9 columns):\n",
            " #   Column                        Non-Null Count  Dtype  \n",
            "---  ------                        --------------  -----  \n",
            " 0   risk_tolerance                5584 non-null   object \n",
            " 1   investment_experience         5584 non-null   object \n",
            " 2   liquidity_needs               5584 non-null   object \n",
            " 3   platform                      5584 non-null   object \n",
            " 4   time_spent                    5584 non-null   float64\n",
            " 5   instrument_type_first_traded  5584 non-null   object \n",
            " 6   first_deposit_amount          5584 non-null   float64\n",
            " 7   time_horizon                  5584 non-null   object \n",
            " 8   user_id                       5584 non-null   object \n",
            "dtypes: float64(2), object(7)\n",
            "memory usage: 392.8+ KB\n"
          ]
        }
      ]
    },
    {
      "cell_type": "code",
      "metadata": {
        "colab": {
          "base_uri": "https://localhost:8080/",
          "height": 206
        },
        "id": "TqfpajTIbT-K",
        "outputId": "6cca2295-9fe0-40cb-869b-39e358daae43"
      },
      "source": [
        "# Create a datset containing the class label(churn=1, no churn=0) by merging the churned user data with the 'feat_df'\n",
        "\n",
        "churned_df=pd.DataFrame(churned_user_ids, columns=['user_id'])\n",
        "churned_df['churn']=1\n",
        "churned_df.head()"
      ],
      "execution_count": 15,
      "outputs": [
        {
          "output_type": "execute_result",
          "data": {
            "text/html": [
              "<div>\n",
              "<style scoped>\n",
              "    .dataframe tbody tr th:only-of-type {\n",
              "        vertical-align: middle;\n",
              "    }\n",
              "\n",
              "    .dataframe tbody tr th {\n",
              "        vertical-align: top;\n",
              "    }\n",
              "\n",
              "    .dataframe thead th {\n",
              "        text-align: right;\n",
              "    }\n",
              "</style>\n",
              "<table border=\"1\" class=\"dataframe\">\n",
              "  <thead>\n",
              "    <tr style=\"text-align: right;\">\n",
              "      <th></th>\n",
              "      <th>user_id</th>\n",
              "      <th>churn</th>\n",
              "    </tr>\n",
              "  </thead>\n",
              "  <tbody>\n",
              "    <tr>\n",
              "      <th>0</th>\n",
              "      <td>270cda53a026bcf6c2b98492b23c1b99</td>\n",
              "      <td>1</td>\n",
              "    </tr>\n",
              "    <tr>\n",
              "      <th>1</th>\n",
              "      <td>319c069e77187c7e7e7c027eb00fd941</td>\n",
              "      <td>1</td>\n",
              "    </tr>\n",
              "    <tr>\n",
              "      <th>2</th>\n",
              "      <td>ec84f134c5b27c4f5702803e98eb3f40</td>\n",
              "      <td>1</td>\n",
              "    </tr>\n",
              "    <tr>\n",
              "      <th>3</th>\n",
              "      <td>6dbedf7f2972b4f6ea60a15d48cb292c</td>\n",
              "      <td>1</td>\n",
              "    </tr>\n",
              "    <tr>\n",
              "      <th>4</th>\n",
              "      <td>91837d41270b81b267fc205c3e03ee9b</td>\n",
              "      <td>1</td>\n",
              "    </tr>\n",
              "  </tbody>\n",
              "</table>\n",
              "</div>"
            ],
            "text/plain": [
              "                            user_id  churn\n",
              "0  270cda53a026bcf6c2b98492b23c1b99      1\n",
              "1  319c069e77187c7e7e7c027eb00fd941      1\n",
              "2  ec84f134c5b27c4f5702803e98eb3f40      1\n",
              "3  6dbedf7f2972b4f6ea60a15d48cb292c      1\n",
              "4  91837d41270b81b267fc205c3e03ee9b      1"
            ]
          },
          "metadata": {},
          "execution_count": 15
        }
      ]
    },
    {
      "cell_type": "code",
      "metadata": {
        "colab": {
          "base_uri": "https://localhost:8080/"
        },
        "id": "Htu7mKKVKJ92",
        "outputId": "1d9b0fdf-0dfa-48ca-d784-5c5cfc4f1832"
      },
      "source": [
        "churned_df.info()"
      ],
      "execution_count": 16,
      "outputs": [
        {
          "output_type": "stream",
          "name": "stdout",
          "text": [
            "<class 'pandas.core.frame.DataFrame'>\n",
            "RangeIndex: 279 entries, 0 to 278\n",
            "Data columns (total 2 columns):\n",
            " #   Column   Non-Null Count  Dtype \n",
            "---  ------   --------------  ----- \n",
            " 0   user_id  279 non-null    object\n",
            " 1   churn    279 non-null    int64 \n",
            "dtypes: int64(1), object(1)\n",
            "memory usage: 4.5+ KB\n"
          ]
        }
      ]
    },
    {
      "cell_type": "code",
      "metadata": {
        "colab": {
          "base_uri": "https://localhost:8080/",
          "height": 206
        },
        "id": "xBBparZrbomM",
        "outputId": "4279f159-345b-442f-e37f-496e81527554"
      },
      "source": [
        "model_df=feat_df.merge(churned_df, how='left', on='user_id').fillna(0)\n",
        "model_df['churn']=model_df['churn'].astype(int)\n",
        "model_df=model_df.drop(['user_id'], axis=1)\n",
        "model_df.head()"
      ],
      "execution_count": 262,
      "outputs": [
        {
          "output_type": "execute_result",
          "data": {
            "text/html": [
              "<div>\n",
              "<style scoped>\n",
              "    .dataframe tbody tr th:only-of-type {\n",
              "        vertical-align: middle;\n",
              "    }\n",
              "\n",
              "    .dataframe tbody tr th {\n",
              "        vertical-align: top;\n",
              "    }\n",
              "\n",
              "    .dataframe thead th {\n",
              "        text-align: right;\n",
              "    }\n",
              "</style>\n",
              "<table border=\"1\" class=\"dataframe\">\n",
              "  <thead>\n",
              "    <tr style=\"text-align: right;\">\n",
              "      <th></th>\n",
              "      <th>risk_tolerance</th>\n",
              "      <th>investment_experience</th>\n",
              "      <th>liquidity_needs</th>\n",
              "      <th>platform</th>\n",
              "      <th>time_spent</th>\n",
              "      <th>instrument_type_first_traded</th>\n",
              "      <th>first_deposit_amount</th>\n",
              "      <th>time_horizon</th>\n",
              "      <th>churn</th>\n",
              "    </tr>\n",
              "  </thead>\n",
              "  <tbody>\n",
              "    <tr>\n",
              "      <th>0</th>\n",
              "      <td>high_risk_tolerance</td>\n",
              "      <td>limited_investment_exp</td>\n",
              "      <td>very_important_liq_need</td>\n",
              "      <td>Android</td>\n",
              "      <td>33.129417</td>\n",
              "      <td>stock</td>\n",
              "      <td>40.0</td>\n",
              "      <td>med_time_horizon</td>\n",
              "      <td>0</td>\n",
              "    </tr>\n",
              "    <tr>\n",
              "      <th>1</th>\n",
              "      <td>med_risk_tolerance</td>\n",
              "      <td>limited_investment_exp</td>\n",
              "      <td>very_important_liq_need</td>\n",
              "      <td>Android</td>\n",
              "      <td>16.573517</td>\n",
              "      <td>stock</td>\n",
              "      <td>200.0</td>\n",
              "      <td>short_time_horizon</td>\n",
              "      <td>0</td>\n",
              "    </tr>\n",
              "    <tr>\n",
              "      <th>2</th>\n",
              "      <td>med_risk_tolerance</td>\n",
              "      <td>limited_investment_exp</td>\n",
              "      <td>very_important_liq_need</td>\n",
              "      <td>iOS</td>\n",
              "      <td>10.008367</td>\n",
              "      <td>stock</td>\n",
              "      <td>25.0</td>\n",
              "      <td>long_time_horizon</td>\n",
              "      <td>0</td>\n",
              "    </tr>\n",
              "    <tr>\n",
              "      <th>3</th>\n",
              "      <td>med_risk_tolerance</td>\n",
              "      <td>limited_investment_exp</td>\n",
              "      <td>very_important_liq_need</td>\n",
              "      <td>Android</td>\n",
              "      <td>1.031633</td>\n",
              "      <td>stock</td>\n",
              "      <td>100.0</td>\n",
              "      <td>short_time_horizon</td>\n",
              "      <td>0</td>\n",
              "    </tr>\n",
              "    <tr>\n",
              "      <th>4</th>\n",
              "      <td>high_risk_tolerance</td>\n",
              "      <td>limited_investment_exp</td>\n",
              "      <td>very_important_liq_need</td>\n",
              "      <td>Android</td>\n",
              "      <td>8.187250</td>\n",
              "      <td>stock</td>\n",
              "      <td>20.0</td>\n",
              "      <td>long_time_horizon</td>\n",
              "      <td>0</td>\n",
              "    </tr>\n",
              "  </tbody>\n",
              "</table>\n",
              "</div>"
            ],
            "text/plain": [
              "        risk_tolerance   investment_experience  ...        time_horizon churn\n",
              "0  high_risk_tolerance  limited_investment_exp  ...    med_time_horizon     0\n",
              "1   med_risk_tolerance  limited_investment_exp  ...  short_time_horizon     0\n",
              "2   med_risk_tolerance  limited_investment_exp  ...   long_time_horizon     0\n",
              "3   med_risk_tolerance  limited_investment_exp  ...  short_time_horizon     0\n",
              "4  high_risk_tolerance  limited_investment_exp  ...   long_time_horizon     0\n",
              "\n",
              "[5 rows x 9 columns]"
            ]
          },
          "metadata": {},
          "execution_count": 262
        }
      ]
    },
    {
      "cell_type": "code",
      "metadata": {
        "colab": {
          "base_uri": "https://localhost:8080/"
        },
        "id": "0_Mk02cVc_da",
        "outputId": "f1d2601b-1c0f-43cf-f423-afa3b481f58d"
      },
      "source": [
        "model_df.info()"
      ],
      "execution_count": 235,
      "outputs": [
        {
          "output_type": "stream",
          "name": "stdout",
          "text": [
            "<class 'pandas.core.frame.DataFrame'>\n",
            "Int64Index: 5584 entries, 0 to 5583\n",
            "Data columns (total 9 columns):\n",
            " #   Column                        Non-Null Count  Dtype  \n",
            "---  ------                        --------------  -----  \n",
            " 0   risk_tolerance                5584 non-null   object \n",
            " 1   investment_experience         5584 non-null   object \n",
            " 2   liquidity_needs               5584 non-null   object \n",
            " 3   platform                      5584 non-null   object \n",
            " 4   time_spent                    5584 non-null   float64\n",
            " 5   instrument_type_first_traded  5584 non-null   object \n",
            " 6   first_deposit_amount          5584 non-null   float64\n",
            " 7   time_horizon                  5584 non-null   object \n",
            " 8   churn                         5584 non-null   int64  \n",
            "dtypes: float64(2), int64(1), object(6)\n",
            "memory usage: 436.2+ KB\n"
          ]
        }
      ]
    },
    {
      "cell_type": "code",
      "metadata": {
        "colab": {
          "base_uri": "https://localhost:8080/"
        },
        "id": "SH2FeZbTdOcL",
        "outputId": "a200313d-33c8-4e3f-ed60-ac222f8c41a6"
      },
      "source": [
        "model_df.nunique()"
      ],
      "execution_count": 236,
      "outputs": [
        {
          "output_type": "execute_result",
          "data": {
            "text/plain": [
              "risk_tolerance                     3\n",
              "investment_experience              4\n",
              "liquidity_needs                    3\n",
              "platform                           3\n",
              "time_spent                      4502\n",
              "instrument_type_first_traded      11\n",
              "first_deposit_amount             317\n",
              "time_horizon                       3\n",
              "churn                              2\n",
              "dtype: int64"
            ]
          },
          "metadata": {},
          "execution_count": 236
        }
      ]
    },
    {
      "cell_type": "code",
      "metadata": {
        "colab": {
          "base_uri": "https://localhost:8080/",
          "height": 206
        },
        "id": "9M68sRLLfaqv",
        "outputId": "17d10452-65cf-464d-b354-fb1ee9c51cfd"
      },
      "source": [
        "cat_df = model_df.select_dtypes(include=['object']).copy()\n",
        "\n",
        "# Encoding the columns\n",
        "\n",
        "enc_make = OrdinalEncoder()\n",
        "\n",
        "cat_df_transformed = enc_make.fit_transform(cat_df)\n",
        "\n",
        "for i,j in enumerate(cat_df.columns):\n",
        "  cat_df[j] = cat_df_transformed.transpose()[i]\n",
        "\n",
        "# Adding converted labels to df\n",
        "for i in model_df.columns:\n",
        "  if i in cat_df.columns:\n",
        "    model_df[i] = cat_df[i]\n",
        "\n",
        "model_df.head()"
      ],
      "execution_count": 263,
      "outputs": [
        {
          "output_type": "execute_result",
          "data": {
            "text/html": [
              "<div>\n",
              "<style scoped>\n",
              "    .dataframe tbody tr th:only-of-type {\n",
              "        vertical-align: middle;\n",
              "    }\n",
              "\n",
              "    .dataframe tbody tr th {\n",
              "        vertical-align: top;\n",
              "    }\n",
              "\n",
              "    .dataframe thead th {\n",
              "        text-align: right;\n",
              "    }\n",
              "</style>\n",
              "<table border=\"1\" class=\"dataframe\">\n",
              "  <thead>\n",
              "    <tr style=\"text-align: right;\">\n",
              "      <th></th>\n",
              "      <th>risk_tolerance</th>\n",
              "      <th>investment_experience</th>\n",
              "      <th>liquidity_needs</th>\n",
              "      <th>platform</th>\n",
              "      <th>time_spent</th>\n",
              "      <th>instrument_type_first_traded</th>\n",
              "      <th>first_deposit_amount</th>\n",
              "      <th>time_horizon</th>\n",
              "      <th>churn</th>\n",
              "    </tr>\n",
              "  </thead>\n",
              "  <tbody>\n",
              "    <tr>\n",
              "      <th>0</th>\n",
              "      <td>0.0</td>\n",
              "      <td>2.0</td>\n",
              "      <td>2.0</td>\n",
              "      <td>0.0</td>\n",
              "      <td>33.129417</td>\n",
              "      <td>8.0</td>\n",
              "      <td>40.0</td>\n",
              "      <td>1.0</td>\n",
              "      <td>0</td>\n",
              "    </tr>\n",
              "    <tr>\n",
              "      <th>1</th>\n",
              "      <td>2.0</td>\n",
              "      <td>2.0</td>\n",
              "      <td>2.0</td>\n",
              "      <td>0.0</td>\n",
              "      <td>16.573517</td>\n",
              "      <td>8.0</td>\n",
              "      <td>200.0</td>\n",
              "      <td>2.0</td>\n",
              "      <td>0</td>\n",
              "    </tr>\n",
              "    <tr>\n",
              "      <th>2</th>\n",
              "      <td>2.0</td>\n",
              "      <td>2.0</td>\n",
              "      <td>2.0</td>\n",
              "      <td>2.0</td>\n",
              "      <td>10.008367</td>\n",
              "      <td>8.0</td>\n",
              "      <td>25.0</td>\n",
              "      <td>0.0</td>\n",
              "      <td>0</td>\n",
              "    </tr>\n",
              "    <tr>\n",
              "      <th>3</th>\n",
              "      <td>2.0</td>\n",
              "      <td>2.0</td>\n",
              "      <td>2.0</td>\n",
              "      <td>0.0</td>\n",
              "      <td>1.031633</td>\n",
              "      <td>8.0</td>\n",
              "      <td>100.0</td>\n",
              "      <td>2.0</td>\n",
              "      <td>0</td>\n",
              "    </tr>\n",
              "    <tr>\n",
              "      <th>4</th>\n",
              "      <td>0.0</td>\n",
              "      <td>2.0</td>\n",
              "      <td>2.0</td>\n",
              "      <td>0.0</td>\n",
              "      <td>8.187250</td>\n",
              "      <td>8.0</td>\n",
              "      <td>20.0</td>\n",
              "      <td>0.0</td>\n",
              "      <td>0</td>\n",
              "    </tr>\n",
              "  </tbody>\n",
              "</table>\n",
              "</div>"
            ],
            "text/plain": [
              "   risk_tolerance  investment_experience  ...  time_horizon  churn\n",
              "0             0.0                    2.0  ...           1.0      0\n",
              "1             2.0                    2.0  ...           2.0      0\n",
              "2             2.0                    2.0  ...           0.0      0\n",
              "3             2.0                    2.0  ...           2.0      0\n",
              "4             0.0                    2.0  ...           0.0      0\n",
              "\n",
              "[5 rows x 9 columns]"
            ]
          },
          "metadata": {},
          "execution_count": 263
        }
      ]
    },
    {
      "cell_type": "code",
      "metadata": {
        "colab": {
          "base_uri": "https://localhost:8080/",
          "height": 300
        },
        "id": "BsJQcFyH05X7",
        "outputId": "8cb1225a-0c5e-4929-ba32-f974f423c972"
      },
      "source": [
        "model_df.describe()"
      ],
      "execution_count": 264,
      "outputs": [
        {
          "output_type": "execute_result",
          "data": {
            "text/html": [
              "<div>\n",
              "<style scoped>\n",
              "    .dataframe tbody tr th:only-of-type {\n",
              "        vertical-align: middle;\n",
              "    }\n",
              "\n",
              "    .dataframe tbody tr th {\n",
              "        vertical-align: top;\n",
              "    }\n",
              "\n",
              "    .dataframe thead th {\n",
              "        text-align: right;\n",
              "    }\n",
              "</style>\n",
              "<table border=\"1\" class=\"dataframe\">\n",
              "  <thead>\n",
              "    <tr style=\"text-align: right;\">\n",
              "      <th></th>\n",
              "      <th>risk_tolerance</th>\n",
              "      <th>investment_experience</th>\n",
              "      <th>liquidity_needs</th>\n",
              "      <th>platform</th>\n",
              "      <th>time_spent</th>\n",
              "      <th>instrument_type_first_traded</th>\n",
              "      <th>first_deposit_amount</th>\n",
              "      <th>time_horizon</th>\n",
              "      <th>churn</th>\n",
              "    </tr>\n",
              "  </thead>\n",
              "  <tbody>\n",
              "    <tr>\n",
              "      <th>count</th>\n",
              "      <td>5584.000000</td>\n",
              "      <td>5584.000000</td>\n",
              "      <td>5584.000000</td>\n",
              "      <td>5584.000000</td>\n",
              "      <td>5584.000000</td>\n",
              "      <td>5584.000000</td>\n",
              "      <td>5584.000000</td>\n",
              "      <td>5584.000000</td>\n",
              "      <td>5584.000000</td>\n",
              "    </tr>\n",
              "    <tr>\n",
              "      <th>mean</th>\n",
              "      <td>0.679979</td>\n",
              "      <td>2.091332</td>\n",
              "      <td>1.708990</td>\n",
              "      <td>1.361927</td>\n",
              "      <td>34.509706</td>\n",
              "      <td>7.319305</td>\n",
              "      <td>633.566805</td>\n",
              "      <td>1.179083</td>\n",
              "      <td>0.049964</td>\n",
              "    </tr>\n",
              "    <tr>\n",
              "      <th>std</th>\n",
              "      <td>0.924629</td>\n",
              "      <td>0.755589</td>\n",
              "      <td>0.546611</td>\n",
              "      <td>0.882446</td>\n",
              "      <td>155.080551</td>\n",
              "      <td>1.850090</td>\n",
              "      <td>2118.323263</td>\n",
              "      <td>0.896479</td>\n",
              "      <td>0.217890</td>\n",
              "    </tr>\n",
              "    <tr>\n",
              "      <th>min</th>\n",
              "      <td>0.000000</td>\n",
              "      <td>0.000000</td>\n",
              "      <td>0.000000</td>\n",
              "      <td>0.000000</td>\n",
              "      <td>0.000000</td>\n",
              "      <td>0.000000</td>\n",
              "      <td>0.000000</td>\n",
              "      <td>0.000000</td>\n",
              "      <td>0.000000</td>\n",
              "    </tr>\n",
              "    <tr>\n",
              "      <th>25%</th>\n",
              "      <td>0.000000</td>\n",
              "      <td>2.000000</td>\n",
              "      <td>2.000000</td>\n",
              "      <td>0.000000</td>\n",
              "      <td>2.848908</td>\n",
              "      <td>8.000000</td>\n",
              "      <td>50.000000</td>\n",
              "      <td>0.000000</td>\n",
              "      <td>0.000000</td>\n",
              "    </tr>\n",
              "    <tr>\n",
              "      <th>50%</th>\n",
              "      <td>0.000000</td>\n",
              "      <td>2.000000</td>\n",
              "      <td>2.000000</td>\n",
              "      <td>2.000000</td>\n",
              "      <td>13.474708</td>\n",
              "      <td>8.000000</td>\n",
              "      <td>100.000000</td>\n",
              "      <td>2.000000</td>\n",
              "      <td>0.000000</td>\n",
              "    </tr>\n",
              "    <tr>\n",
              "      <th>75%</th>\n",
              "      <td>2.000000</td>\n",
              "      <td>3.000000</td>\n",
              "      <td>2.000000</td>\n",
              "      <td>2.000000</td>\n",
              "      <td>33.823829</td>\n",
              "      <td>8.000000</td>\n",
              "      <td>500.000000</td>\n",
              "      <td>2.000000</td>\n",
              "      <td>0.000000</td>\n",
              "    </tr>\n",
              "    <tr>\n",
              "      <th>max</th>\n",
              "      <td>2.000000</td>\n",
              "      <td>3.000000</td>\n",
              "      <td>2.000000</td>\n",
              "      <td>2.000000</td>\n",
              "      <td>8788.329450</td>\n",
              "      <td>10.000000</td>\n",
              "      <td>50000.000000</td>\n",
              "      <td>2.000000</td>\n",
              "      <td>1.000000</td>\n",
              "    </tr>\n",
              "  </tbody>\n",
              "</table>\n",
              "</div>"
            ],
            "text/plain": [
              "       risk_tolerance  investment_experience  ...  time_horizon        churn\n",
              "count     5584.000000            5584.000000  ...   5584.000000  5584.000000\n",
              "mean         0.679979               2.091332  ...      1.179083     0.049964\n",
              "std          0.924629               0.755589  ...      0.896479     0.217890\n",
              "min          0.000000               0.000000  ...      0.000000     0.000000\n",
              "25%          0.000000               2.000000  ...      0.000000     0.000000\n",
              "50%          0.000000               2.000000  ...      2.000000     0.000000\n",
              "75%          2.000000               3.000000  ...      2.000000     0.000000\n",
              "max          2.000000               3.000000  ...      2.000000     1.000000\n",
              "\n",
              "[8 rows x 9 columns]"
            ]
          },
          "metadata": {},
          "execution_count": 264
        }
      ]
    },
    {
      "cell_type": "code",
      "metadata": {
        "colab": {
          "base_uri": "https://localhost:8080/",
          "height": 736
        },
        "id": "c6cr-ukjq6y5",
        "outputId": "1399895d-7646-4ee6-8889-563871c46ed3"
      },
      "source": [
        "# Outlier detection using seaborn boxplot\n",
        "\n",
        "model_df=model_df[(model_df['time_spent']<80) & (model_df['first_deposit_amount']<1000)] # Setting realistic outlier bounds\n",
        "\n",
        "sns.set_theme(style=\"whitegrid\")\n",
        "fig, axes = plt.subplots(2, 4, figsize=(20, 12))\n",
        "\n",
        "count=0\n",
        "for i in range(2):\n",
        "    for j in range(4):\n",
        "        sns.boxplot(ax=axes[i, j],data=model_df, x='churn', y=model_df.columns[count])\n",
        "        axes[i,j].set_title(model_df.columns[count])\n",
        "        count+=1"
      ],
      "execution_count": 265,
      "outputs": [
        {
          "output_type": "display_data",
          "data": {
            "image/png": "[encoded data removed]",
            "text/plain": [
              "<Figure size 1440x864 with 8 Axes>"
            ]
          },
          "metadata": {}
        }
      ]
    },
    {
      "cell_type": "markdown",
      "metadata": {
        "id": "MoictvLOgB5t"
      },
      "source": [
        "# **Scaling of Data**"
      ]
    },
    {
      "cell_type": "code",
      "metadata": {
        "colab": {
          "base_uri": "https://localhost:8080/",
          "height": 300
        },
        "id": "wL6BIw59vl6T",
        "outputId": "657de43e-fa18-4a82-f4e2-78f41eba3f33"
      },
      "source": [
        "# Scaling of the non-objects\n",
        "\n",
        "from sklearn.preprocessing import StandardScaler, RobustScaler,MinMaxScaler\n",
        "\n",
        "mm_scaler = MinMaxScaler()\n",
        "std_scaler = StandardScaler()\n",
        "rob_scaler = RobustScaler()\n",
        "\n",
        "# We will use Robust scaler because it's ideal if there are outliers\n",
        "for i in model_df.columns[:-1]:\n",
        "  model_df[i] = mm_scaler.fit_transform(model_df[i].values.reshape(-1,1))\n",
        "  # model_df[\"first_deposit_amount\"] = mm_scaler.fit_transform(model_df[\"first_deposit_amount\"].values.reshape(-1,1))\n",
        "\n",
        "model_df.describe()"
      ],
      "execution_count": 266,
      "outputs": [
        {
          "output_type": "execute_result",
          "data": {
            "text/html": [
              "<div>\n",
              "<style scoped>\n",
              "    .dataframe tbody tr th:only-of-type {\n",
              "        vertical-align: middle;\n",
              "    }\n",
              "\n",
              "    .dataframe tbody tr th {\n",
              "        vertical-align: top;\n",
              "    }\n",
              "\n",
              "    .dataframe thead th {\n",
              "        text-align: right;\n",
              "    }\n",
              "</style>\n",
              "<table border=\"1\" class=\"dataframe\">\n",
              "  <thead>\n",
              "    <tr style=\"text-align: right;\">\n",
              "      <th></th>\n",
              "      <th>risk_tolerance</th>\n",
              "      <th>investment_experience</th>\n",
              "      <th>liquidity_needs</th>\n",
              "      <th>platform</th>\n",
              "      <th>time_spent</th>\n",
              "      <th>instrument_type_first_traded</th>\n",
              "      <th>first_deposit_amount</th>\n",
              "      <th>time_horizon</th>\n",
              "      <th>churn</th>\n",
              "    </tr>\n",
              "  </thead>\n",
              "  <tbody>\n",
              "    <tr>\n",
              "      <th>count</th>\n",
              "      <td>4184.000000</td>\n",
              "      <td>4184.000000</td>\n",
              "      <td>4184.00000</td>\n",
              "      <td>4184.000000</td>\n",
              "      <td>4184.000000</td>\n",
              "      <td>4184.000000</td>\n",
              "      <td>4184.000000</td>\n",
              "      <td>4184.000000</td>\n",
              "      <td>4184.000000</td>\n",
              "    </tr>\n",
              "    <tr>\n",
              "      <th>mean</th>\n",
              "      <td>0.350502</td>\n",
              "      <td>0.719885</td>\n",
              "      <td>0.85086</td>\n",
              "      <td>0.696343</td>\n",
              "      <td>0.220835</td>\n",
              "      <td>0.735803</td>\n",
              "      <td>0.155298</td>\n",
              "      <td>0.596319</td>\n",
              "      <td>0.055927</td>\n",
              "    </tr>\n",
              "    <tr>\n",
              "      <th>std</th>\n",
              "      <td>0.466096</td>\n",
              "      <td>0.246491</td>\n",
              "      <td>0.27591</td>\n",
              "      <td>0.437036</td>\n",
              "      <td>0.236346</td>\n",
              "      <td>0.180390</td>\n",
              "      <td>0.175764</td>\n",
              "      <td>0.450564</td>\n",
              "      <td>0.229809</td>\n",
              "    </tr>\n",
              "    <tr>\n",
              "      <th>min</th>\n",
              "      <td>0.000000</td>\n",
              "      <td>0.000000</td>\n",
              "      <td>0.00000</td>\n",
              "      <td>0.000000</td>\n",
              "      <td>0.000000</td>\n",
              "      <td>0.000000</td>\n",
              "      <td>0.000000</td>\n",
              "      <td>0.000000</td>\n",
              "      <td>0.000000</td>\n",
              "    </tr>\n",
              "    <tr>\n",
              "      <th>25%</th>\n",
              "      <td>0.000000</td>\n",
              "      <td>0.666667</td>\n",
              "      <td>0.50000</td>\n",
              "      <td>0.000000</td>\n",
              "      <td>0.029613</td>\n",
              "      <td>0.800000</td>\n",
              "      <td>0.025073</td>\n",
              "      <td>0.000000</td>\n",
              "      <td>0.000000</td>\n",
              "    </tr>\n",
              "    <tr>\n",
              "      <th>50%</th>\n",
              "      <td>0.000000</td>\n",
              "      <td>0.666667</td>\n",
              "      <td>1.00000</td>\n",
              "      <td>1.000000</td>\n",
              "      <td>0.144586</td>\n",
              "      <td>0.800000</td>\n",
              "      <td>0.100291</td>\n",
              "      <td>1.000000</td>\n",
              "      <td>0.000000</td>\n",
              "    </tr>\n",
              "    <tr>\n",
              "      <th>75%</th>\n",
              "      <td>1.000000</td>\n",
              "      <td>1.000000</td>\n",
              "      <td>1.00000</td>\n",
              "      <td>1.000000</td>\n",
              "      <td>0.328299</td>\n",
              "      <td>0.800000</td>\n",
              "      <td>0.200582</td>\n",
              "      <td>1.000000</td>\n",
              "      <td>0.000000</td>\n",
              "    </tr>\n",
              "    <tr>\n",
              "      <th>max</th>\n",
              "      <td>1.000000</td>\n",
              "      <td>1.000000</td>\n",
              "      <td>1.00000</td>\n",
              "      <td>1.000000</td>\n",
              "      <td>1.000000</td>\n",
              "      <td>1.000000</td>\n",
              "      <td>1.000000</td>\n",
              "      <td>1.000000</td>\n",
              "      <td>1.000000</td>\n",
              "    </tr>\n",
              "  </tbody>\n",
              "</table>\n",
              "</div>"
            ],
            "text/plain": [
              "       risk_tolerance  investment_experience  ...  time_horizon        churn\n",
              "count     4184.000000            4184.000000  ...   4184.000000  4184.000000\n",
              "mean         0.350502               0.719885  ...      0.596319     0.055927\n",
              "std          0.466096               0.246491  ...      0.450564     0.229809\n",
              "min          0.000000               0.000000  ...      0.000000     0.000000\n",
              "25%          0.000000               0.666667  ...      0.000000     0.000000\n",
              "50%          0.000000               0.666667  ...      1.000000     0.000000\n",
              "75%          1.000000               1.000000  ...      1.000000     0.000000\n",
              "max          1.000000               1.000000  ...      1.000000     1.000000\n",
              "\n",
              "[8 rows x 9 columns]"
            ]
          },
          "metadata": {},
          "execution_count": 266
        }
      ]
    },
    {
      "cell_type": "code",
      "metadata": {
        "colab": {
          "base_uri": "https://localhost:8080/",
          "height": 712
        },
        "id": "JanfulM1r7U7",
        "outputId": "f2e2ee35-f02e-4014-9ac8-618ac8dfaf24"
      },
      "source": [
        "sns.displot(data=model_df, x=\"time_spent\")\n",
        "# plt.xlim(0,250)\n",
        "\n",
        "sns.displot(data=model_df, x=\"first_deposit_amount\")\n",
        "# plt.xlim(0,2500)\n",
        "\n",
        "plt.show()\n"
      ],
      "execution_count": 267,
      "outputs": [
        {
          "output_type": "display_data",
          "data": {
            "image/png": "[encoded data removed]",
            "text/plain": [
              "<Figure size 360x360 with 1 Axes>"
            ]
          },
          "metadata": {}
        },
        {
          "output_type": "display_data",
          "data": {
            "image/png": "[encoded data removed]",
            "text/plain": [
              "<Figure size 360x360 with 1 Axes>"
            ]
          },
          "metadata": {}
        }
      ]
    },
    {
      "cell_type": "markdown",
      "metadata": {
        "id": "ZAYHMgrDhC2_"
      },
      "source": [
        "## **Without removing the imbalance of the classes**"
      ]
    },
    {
      "cell_type": "code",
      "metadata": {
        "colab": {
          "base_uri": "https://localhost:8080/",
          "height": 352
        },
        "id": "AjZUIMJZehXz",
        "outputId": "5d054509-a461-40cb-a052-faa04e58a145"
      },
      "source": [
        "# Class balance\n",
        "\n",
        "print('Churn events fraction in the data :',len(model_df[model_df['churn']==1])/len(model_df)*100)\n",
        "print('Non-churn events fraction in the data :',len(model_df[model_df['churn']==0])/len(model_df)*100)\n",
        "\n",
        "sns.set_theme(style=\"darkgrid\")\n",
        "g=sns.countplot(data=model_df, x='churn')\n",
        "\n",
        "plt.title('Class Distributions \\n (0: No Churn | 1: Churn)', fontsize=14)\n",
        "plt.show()\n",
        "\n",
        "# Class imbalance needs to be taken care before applying model"
      ],
      "execution_count": 268,
      "outputs": [
        {
          "output_type": "stream",
          "name": "stdout",
          "text": [
            "Churn events fraction in the data : 5.592734225621415\n",
            "Non-churn events fraction in the data : 94.40726577437859\n"
          ]
        },
        {
          "output_type": "display_data",
          "data": {
            "image/png": "[encoded data removed]",
            "text/plain": [
              "<Figure size 432x288 with 1 Axes>"
            ]
          },
          "metadata": {}
        }
      ]
    },
    {
      "cell_type": "code",
      "metadata": {
        "colab": {
          "base_uri": "https://localhost:8080/"
        },
        "id": "rQMlwkHihIF8",
        "outputId": "f0e53865-0682-4e73-997a-d906dfd606d8"
      },
      "source": [
        "# Splitting the data\n",
        "\n",
        "X = model_df.drop(columns = ['churn']) # 'user_id'\n",
        "y = model_df['churn']\n",
        "\n",
        "X_train, X_test, y_train, y_test = train_test_split(X, y, test_size=0.2, random_state=42)\n",
        "\n",
        "print('X shape -', X_train.shape)\n",
        "print('y shape -', y_train.shape)"
      ],
      "execution_count": 269,
      "outputs": [
        {
          "output_type": "stream",
          "name": "stdout",
          "text": [
            "X shape - (3347, 8)\n",
            "y shape - (3347,)\n"
          ]
        }
      ]
    },
    {
      "cell_type": "markdown",
      "metadata": {
        "id": "TCxqU6Ztmibm"
      },
      "source": [
        "# Feature selection using Chi-square for original, imbalanced data"
      ]
    },
    {
      "cell_type": "code",
      "metadata": {
        "colab": {
          "base_uri": "https://localhost:8080/",
          "height": 407
        },
        "id": "ppgy0pRJmOhw",
        "outputId": "a91572ec-805f-4a18-a9b0-31e00e9228d2"
      },
      "source": [
        "# Chi squared feature selection for categorical data\n",
        "from sklearn.feature_selection import SelectKBest\n",
        "from sklearn.feature_selection import chi2\n",
        "\n",
        "# feature selection\n",
        "def select_features(X_train, y_train, X_test):\n",
        "\tfs = SelectKBest(score_func=chi2, k='all')\n",
        "\tfs.fit(X_train, y_train)\n",
        "\tX_train_fs = fs.transform(X_train)\n",
        "\tX_test_fs = fs.transform(X_test)\n",
        "\treturn X_train_fs, X_test_fs, fs\n",
        "\n",
        "# feature selection\n",
        "X_train_fs, X_test_fs, fs = select_features(X_train, y_train, X_test)\n",
        "\n",
        "# what are scores for the features\n",
        "for i in range(len(fs.scores_)):\n",
        "\tprint('Feature %d: %f' % (i, fs.scores_[i]))\n",
        " \n",
        "# plot the scores\n",
        "plt.bar([i for i in range(len(fs.scores_))], fs.scores_)\n",
        "plt.yscale('log')\n",
        "plt.show()"
      ],
      "execution_count": 270,
      "outputs": [
        {
          "output_type": "stream",
          "name": "stdout",
          "text": [
            "Feature 0: 9.503448\n",
            "Feature 1: 0.000200\n",
            "Feature 2: 0.047427\n",
            "Feature 3: 0.005039\n",
            "Feature 4: 0.005776\n",
            "Feature 5: 0.000598\n",
            "Feature 6: 1.218599\n",
            "Feature 7: 0.902191\n"
          ]
        },
        {
          "output_type": "display_data",
          "data": {
            "image/png": "[encoded data removed]",
            "text/plain": [
              "<Figure size 432x288 with 1 Axes>"
            ]
          },
          "metadata": {}
        }
      ]
    },
    {
      "cell_type": "markdown",
      "metadata": {
        "id": "eF7n2IQh5Pfu"
      },
      "source": [
        "### Random Forest with a single validation data"
      ]
    },
    {
      "cell_type": "code",
      "metadata": {
        "colab": {
          "base_uri": "https://localhost:8080/"
        },
        "id": "VxpA7XRlkXWX",
        "outputId": "9e837aa7-9256-488f-e37a-697048171a09"
      },
      "source": [
        "from sklearn import tree\n",
        "from sklearn.metrics import f1_score\n",
        "from sklearn.metrics import confusion_matrix\n",
        "from sklearn.metrics import plot_confusion_matrix\n",
        "from sklearn.metrics import precision_recall_fscore_support\n",
        "from sklearn.metrics import r2_score\n",
        "from sklearn.ensemble import RandomForestClassifier\n",
        "\n",
        "clf = RandomForestClassifier(n_estimators=200)\n",
        "clf = clf.fit(X_train, y_train)\n",
        "\n",
        "print(\"Accuracy (in %):\", clf.score(X_test, y_test)*100)\n",
        "\n",
        "# y_pred = clf.predict(X_test)\n",
        "y_pred = (clf.predict_proba(X_test)[:,1] >= 0.1).astype(bool)\n",
        "print('F1 score', f1_score(y_test, y_pred))\n",
        "\n",
        "print('AUC Score = ', roc_auc_score(y_test, clf.predict_proba(X_test)[:, 1]))\n",
        "\n",
        "plt.show()"
      ],
      "execution_count": 271,
      "outputs": [
        {
          "output_type": "stream",
          "name": "stdout",
          "text": [
            "Accuracy (in %): 93.78733572281959\n",
            "F1 score 0.0891089108910891\n",
            "AUC Score =  0.569157275845174\n"
          ]
        }
      ]
    },
    {
      "cell_type": "markdown",
      "metadata": {
        "id": "VW8il8C5LTnE"
      },
      "source": [
        "\n",
        "\n",
        "## Poor performance from imbalanced data. No surprises here.\n",
        "Let's check the feature importance for the classifier\n",
        "\n",
        "\n",
        "\n"
      ]
    },
    {
      "cell_type": "code",
      "metadata": {
        "colab": {
          "base_uri": "https://localhost:8080/",
          "height": 267
        },
        "id": "Huw8sMbB5DjW",
        "outputId": "7aa97b45-2b3d-4bf1-cfd3-7959646993f3"
      },
      "source": [
        "importance=clf.feature_importances_\n",
        "plt.bar([x for x in range(len(importance))], importance)\n",
        "plt.show()"
      ],
      "execution_count": 272,
      "outputs": [
        {
          "output_type": "display_data",
          "data": {
            "image/png": "[encoded data removed]",
            "text/plain": [
              "<Figure size 432x288 with 1 Axes>"
            ]
          },
          "metadata": {}
        }
      ]
    },
    {
      "cell_type": "markdown",
      "metadata": {
        "id": "P-PJKnyIhIln"
      },
      "source": [
        "# Balancing the classes by **undersampling**"
      ]
    },
    {
      "cell_type": "code",
      "metadata": {
        "colab": {
          "base_uri": "https://localhost:8080/",
          "height": 206
        },
        "id": "vgNFdf8SnYO3",
        "outputId": "835a7953-e49f-41e0-fa4e-67d6c1759b4f"
      },
      "source": [
        "from sklearn.model_selection import train_test_split\n",
        "from sklearn.model_selection import StratifiedKFold\n",
        "\n",
        "# Number of fraud classes are fraud_len\n",
        "\n",
        "churn_df = model_df[model_df['churn'] == 1]\n",
        "churn_len=len(churn_df)\n",
        "non_churn_df = model_df[model_df['churn'] == 0][:churn_len]\n",
        "\n",
        "balanced_df = pd.concat([churn_df, non_churn_df])\n",
        "\n",
        "# Shuffle \n",
        "new_df = balanced_df.sample(frac=1, random_state=None)\n",
        "\n",
        "new_df.head()"
      ],
      "execution_count": 273,
      "outputs": [
        {
          "output_type": "execute_result",
          "data": {
            "text/html": [
              "<div>\n",
              "<style scoped>\n",
              "    .dataframe tbody tr th:only-of-type {\n",
              "        vertical-align: middle;\n",
              "    }\n",
              "\n",
              "    .dataframe tbody tr th {\n",
              "        vertical-align: top;\n",
              "    }\n",
              "\n",
              "    .dataframe thead th {\n",
              "        text-align: right;\n",
              "    }\n",
              "</style>\n",
              "<table border=\"1\" class=\"dataframe\">\n",
              "  <thead>\n",
              "    <tr style=\"text-align: right;\">\n",
              "      <th></th>\n",
              "      <th>risk_tolerance</th>\n",
              "      <th>investment_experience</th>\n",
              "      <th>liquidity_needs</th>\n",
              "      <th>platform</th>\n",
              "      <th>time_spent</th>\n",
              "      <th>instrument_type_first_traded</th>\n",
              "      <th>first_deposit_amount</th>\n",
              "      <th>time_horizon</th>\n",
              "      <th>churn</th>\n",
              "    </tr>\n",
              "  </thead>\n",
              "  <tbody>\n",
              "    <tr>\n",
              "      <th>313</th>\n",
              "      <td>0.0</td>\n",
              "      <td>0.333333</td>\n",
              "      <td>0.0</td>\n",
              "      <td>1.0</td>\n",
              "      <td>0.098158</td>\n",
              "      <td>0.8</td>\n",
              "      <td>0.100291</td>\n",
              "      <td>1.0</td>\n",
              "      <td>0</td>\n",
              "    </tr>\n",
              "    <tr>\n",
              "      <th>5244</th>\n",
              "      <td>1.0</td>\n",
              "      <td>0.666667</td>\n",
              "      <td>1.0</td>\n",
              "      <td>0.5</td>\n",
              "      <td>0.020123</td>\n",
              "      <td>0.8</td>\n",
              "      <td>0.010029</td>\n",
              "      <td>0.0</td>\n",
              "      <td>1</td>\n",
              "    </tr>\n",
              "    <tr>\n",
              "      <th>169</th>\n",
              "      <td>0.0</td>\n",
              "      <td>0.666667</td>\n",
              "      <td>1.0</td>\n",
              "      <td>1.0</td>\n",
              "      <td>0.109469</td>\n",
              "      <td>0.8</td>\n",
              "      <td>0.200582</td>\n",
              "      <td>1.0</td>\n",
              "      <td>0</td>\n",
              "    </tr>\n",
              "    <tr>\n",
              "      <th>311</th>\n",
              "      <td>0.5</td>\n",
              "      <td>0.333333</td>\n",
              "      <td>0.0</td>\n",
              "      <td>1.0</td>\n",
              "      <td>0.034451</td>\n",
              "      <td>0.8</td>\n",
              "      <td>0.100291</td>\n",
              "      <td>1.0</td>\n",
              "      <td>0</td>\n",
              "    </tr>\n",
              "    <tr>\n",
              "      <th>26</th>\n",
              "      <td>0.0</td>\n",
              "      <td>0.333333</td>\n",
              "      <td>1.0</td>\n",
              "      <td>0.0</td>\n",
              "      <td>0.239516</td>\n",
              "      <td>0.8</td>\n",
              "      <td>0.010029</td>\n",
              "      <td>0.0</td>\n",
              "      <td>0</td>\n",
              "    </tr>\n",
              "  </tbody>\n",
              "</table>\n",
              "</div>"
            ],
            "text/plain": [
              "      risk_tolerance  investment_experience  ...  time_horizon  churn\n",
              "313              0.0               0.333333  ...           1.0      0\n",
              "5244             1.0               0.666667  ...           0.0      1\n",
              "169              0.0               0.666667  ...           1.0      0\n",
              "311              0.5               0.333333  ...           1.0      0\n",
              "26               0.0               0.333333  ...           0.0      0\n",
              "\n",
              "[5 rows x 9 columns]"
            ]
          },
          "metadata": {},
          "execution_count": 273
        }
      ]
    },
    {
      "cell_type": "code",
      "metadata": {
        "colab": {
          "base_uri": "https://localhost:8080/",
          "height": 317
        },
        "id": "4bebBrovnvzU",
        "outputId": "def4bfed-7858-4102-9ed0-2cb78193f4d6"
      },
      "source": [
        "# Classes balanced\n",
        "\n",
        "sns.set_theme(style=\"darkgrid\")\n",
        "sns.countplot(data=new_df, x='churn')\n",
        "plt.title('Class Distributions \\n (0: No Churn | 1: Churn)', fontsize=14)\n",
        "plt.show()"
      ],
      "execution_count": 274,
      "outputs": [
        {
          "output_type": "display_data",
          "data": {
            "image/png": "[encoded data removed]",
            "text/plain": [
              "<Figure size 432x288 with 1 Axes>"
            ]
          },
          "metadata": {}
        }
      ]
    },
    {
      "cell_type": "code",
      "metadata": {
        "colab": {
          "base_uri": "https://localhost:8080/"
        },
        "id": "bWqkfjjnn6QJ",
        "outputId": "8445ce2c-90a5-4699-d978-bbb35bff199e"
      },
      "source": [
        "X=new_df.drop(columns = ['churn'], axis=1)\n",
        "y=new_df['churn']\n",
        "\n",
        "X_train, X_test, y_train, y_test = train_test_split(X, y, test_size=0.2, random_state=0)\n",
        "\n",
        "print(X_train.shape)\n",
        "print(X_test.shape)"
      ],
      "execution_count": 275,
      "outputs": [
        {
          "output_type": "stream",
          "name": "stdout",
          "text": [
            "(374, 8)\n",
            "(94, 8)\n"
          ]
        }
      ]
    },
    {
      "cell_type": "code",
      "metadata": {
        "colab": {
          "base_uri": "https://localhost:8080/",
          "height": 407
        },
        "id": "CxRwAEnnm52D",
        "outputId": "25bffa1f-f3d6-4269-ee4b-194c9541b55f"
      },
      "source": [
        "# Chi squared feature selection for categorical data\n",
        "\n",
        "from sklearn.feature_selection import SelectKBest\n",
        "from sklearn.feature_selection import chi2\n",
        "\n",
        "# feature selection\n",
        "def select_features(X_train, y_train, X_test):\n",
        "\tfs = SelectKBest(score_func=chi2, k='all')\n",
        "\tfs.fit(X_train, y_train)\n",
        "\tX_train_fs = fs.transform(X_train)\n",
        "\tX_test_fs = fs.transform(X_test)\n",
        "\treturn X_train_fs, X_test_fs, fs\n",
        "\n",
        "# feature selection\n",
        "X_train_fs, X_test_fs, fs = select_features(X_train, y_train, X_test)\n",
        "\n",
        "# what are scores for the features\n",
        "for i in range(len(fs.scores_)):\n",
        "\tprint('Feature %d: %f' % (i, fs.scores_[i]))\n",
        " \n",
        "# plot the scores\n",
        "plt.bar([i for i in range(len(fs.scores_))], fs.scores_)\n",
        "plt.yscale('log')\n",
        "plt.show()"
      ],
      "execution_count": 276,
      "outputs": [
        {
          "output_type": "stream",
          "name": "stdout",
          "text": [
            "Feature 0: 4.573275\n",
            "Feature 1: 0.051420\n",
            "Feature 2: 0.000778\n",
            "Feature 3: 0.012974\n",
            "Feature 4: 0.007506\n",
            "Feature 5: 0.007685\n",
            "Feature 6: 0.331475\n",
            "Feature 7: 0.048129\n"
          ]
        },
        {
          "output_type": "display_data",
          "data": {
            "image/png": "[encoded data removed]",
            "text/plain": [
              "<Figure size 432x288 with 1 Axes>"
            ]
          },
          "metadata": {}
        }
      ]
    },
    {
      "cell_type": "code",
      "metadata": {
        "colab": {
          "base_uri": "https://localhost:8080/",
          "height": 337
        },
        "id": "_UMFReD39XVS",
        "outputId": "95f23950-b184-4bdc-f938-89c4e87af0b6"
      },
      "source": [
        "from sklearn.ensemble import RandomForestClassifier\n",
        "\n",
        "clf = RandomForestClassifier(n_estimators=200)\n",
        "clf = clf.fit(X_train, y_train)\n",
        "\n",
        "print(\"Accuracy (in %):\",clf.score(X_test, y_test)*100)\n",
        "\n",
        "y_pred = clf.predict(X_test)\n",
        "print('F1 score', f1_score(y_test, y_pred))\n",
        "\n",
        "plot_confusion_matrix(clf, X_test, y_test)  \n",
        "\n",
        "print('AUC Score = ', roc_auc_score(y_test, clf.predict_proba(X_test)[:, 1]))\n",
        "\n",
        "plt.show()"
      ],
      "execution_count": 277,
      "outputs": [
        {
          "output_type": "stream",
          "name": "stdout",
          "text": [
            "Accuracy (in %): 56.38297872340425\n",
            "F1 score 0.5591397849462365\n",
            "AUC Score =  0.550595238095238\n"
          ]
        },
        {
          "output_type": "display_data",
          "data": {
            "image/png": "[encoded data removed]",
            "text/plain": [
              "<Figure size 432x288 with 2 Axes>"
            ]
          },
          "metadata": {}
        }
      ]
    },
    {
      "cell_type": "code",
      "metadata": {
        "colab": {
          "base_uri": "https://localhost:8080/",
          "height": 303
        },
        "id": "skSctytiQuk4",
        "outputId": "1825afc2-93ee-4c7e-9287-2e3be4dbf95e"
      },
      "source": [
        "# Let's check the feature importance\n",
        "\n",
        "importance=clf.feature_importances_\n",
        "print(importance)\n",
        "plt.bar([x for x in range(len(importance))], importance)\n",
        "plt.show()"
      ],
      "execution_count": 278,
      "outputs": [
        {
          "output_type": "stream",
          "name": "stdout",
          "text": [
            "[0.06802852 0.09423407 0.05240626 0.06497213 0.33740552 0.04179754\n",
            " 0.27174852 0.06940746]\n"
          ]
        },
        {
          "output_type": "display_data",
          "data": {
            "image/png": "[encoded data removed]",
            "text/plain": [
              "<Figure size 432x288 with 1 Axes>"
            ]
          },
          "metadata": {}
        }
      ]
    },
    {
      "cell_type": "markdown",
      "metadata": {
        "id": "AoBvSeVBNU7Q"
      },
      "source": [
        "## **Balancing the classes by undersampling improved the performance. However, the F1 score average is still only 0.53. Not good enough.**"
      ]
    },
    {
      "cell_type": "markdown",
      "metadata": {
        "id": "cfWlJA1hqXEL"
      },
      "source": [
        "# **Random Oversampling**"
      ]
    },
    {
      "cell_type": "code",
      "metadata": {
        "colab": {
          "base_uri": "https://localhost:8080/"
        },
        "id": "s5rus6VcqUzn",
        "outputId": "c60bcabe-ca0e-429e-bccb-9b77028bbd51"
      },
      "source": [
        "from imblearn.over_sampling import RandomOverSampler\n",
        "from collections import Counter\n",
        "\n",
        "# Imbalanced data\n",
        "\n",
        "X = model_df.drop(columns = ['churn'])\n",
        "y = model_df['churn']\n",
        "\n",
        "# Class distribution\n",
        "print(Counter(y))\n",
        "\n",
        "# Oversampling strategy\n",
        "oversample = RandomOverSampler(sampling_strategy='minority')\n",
        "\n",
        "# Fitting and applying the transforms\n",
        "X_over, y_over = oversample.fit_resample(X, y)\n",
        "\n",
        "# summarize class distribution\n",
        "print(Counter(y_over))"
      ],
      "execution_count": 279,
      "outputs": [
        {
          "output_type": "stream",
          "name": "stdout",
          "text": [
            "Counter({0: 3950, 1: 234})\n",
            "Counter({0: 3950, 1: 3950})\n"
          ]
        }
      ]
    },
    {
      "cell_type": "code",
      "metadata": {
        "colab": {
          "base_uri": "https://localhost:8080/"
        },
        "id": "Hoqu4WMtrCF2",
        "outputId": "320e62b7-bda9-412a-9490-723e5661c32b"
      },
      "source": [
        "X_train, X_test, y_train, y_test = train_test_split(X_over, y_over, test_size=0.2, random_state=42)\n",
        "\n",
        "print(X_train.shape, ', ',X_test.shape)\n",
        "print(y_train.shape, ', ',y_test.shape)"
      ],
      "execution_count": 280,
      "outputs": [
        {
          "output_type": "stream",
          "name": "stdout",
          "text": [
            "(6320, 8) ,  (1580, 8)\n",
            "(6320,) ,  (1580,)\n"
          ]
        }
      ]
    },
    {
      "cell_type": "code",
      "metadata": {
        "colab": {
          "base_uri": "https://localhost:8080/",
          "height": 337
        },
        "id": "REExQR9irLEs",
        "outputId": "3ab0add8-c8cc-4380-97bd-2f64b040a005"
      },
      "source": [
        "from sklearn.ensemble import RandomForestClassifier\n",
        "\n",
        "clf = RandomForestClassifier(n_estimators=100)\n",
        "clf = clf.fit(X_train, y_train)\n",
        "\n",
        "print(\"Accuracy (in %):\",clf.score(X_test, y_test)*100)\n",
        "\n",
        "y_pred = clf.predict(X_test)\n",
        "print('F1 score', f1_score(y_test, y_pred))\n",
        "\n",
        "plot_confusion_matrix(clf, X_test, y_test)  \n",
        "\n",
        "print('AUC Score = ', roc_auc_score(y_test, clf.predict_proba(X_test)[:, 1]))\n",
        "\n",
        "plt.show()"
      ],
      "execution_count": 281,
      "outputs": [
        {
          "output_type": "stream",
          "name": "stdout",
          "text": [
            "Accuracy (in %): 97.34177215189874\n",
            "F1 score 0.9737499999999999\n",
            "AUC Score =  0.9989687152933031\n"
          ]
        },
        {
          "output_type": "display_data",
          "data": {
            "image/png": "[encoded data removed]",
            "text/plain": [
              "<Figure size 432x288 with 2 Axes>"
            ]
          },
          "metadata": {}
        }
      ]
    },
    {
      "cell_type": "markdown",
      "metadata": {
        "id": "I0vVa_JbCXsK"
      },
      "source": [
        "# SMOTE to oversample the minority classes for better prediction"
      ]
    },
    {
      "cell_type": "code",
      "metadata": {
        "colab": {
          "base_uri": "https://localhost:8080/"
        },
        "id": "C2Pwx-unAiX_",
        "outputId": "5b004c30-d99c-41ec-b42f-aee790a75923"
      },
      "source": [
        "# Oversample and plot imbalanced dataset with SMOTE\n",
        "from collections import Counter\n",
        "from sklearn.datasets import make_classification\n",
        "from imblearn.over_sampling import SMOTE\n",
        "from numpy import where\n",
        "\n",
        "# Imbalanced data reloaded for oversampling\n",
        "\n",
        "X = model_df.drop(columns = ['churn'])\n",
        "y = model_df['churn']\n",
        "\n",
        "X_train, X_test, y_train, y_test = train_test_split(X, y, test_size=0.2, random_state=42)\n",
        "print(X_train.shape)\n",
        "\n",
        "oversample = SMOTE()\n",
        "X, y = oversample.fit_resample(X, y)\n",
        "\n",
        "X_train, X_test, y_train, y_test = train_test_split(X, y, test_size=0.2, random_state=42)\n",
        "\n",
        "print(X_train.shape)\n"
      ],
      "execution_count": 282,
      "outputs": [
        {
          "output_type": "stream",
          "name": "stdout",
          "text": [
            "(3347, 8)\n",
            "(6320, 8)\n"
          ]
        }
      ]
    },
    {
      "cell_type": "code",
      "metadata": {
        "colab": {
          "base_uri": "https://localhost:8080/",
          "height": 411
        },
        "id": "W8PHsVehoU8B",
        "outputId": "bd764d28-e7cd-4ba5-99c7-2961e3c25dd1"
      },
      "source": [
        "# Chi squared feature selection for categorical data\n",
        "\n",
        "from sklearn.feature_selection import SelectKBest\n",
        "from sklearn.feature_selection import chi2\n",
        "\n",
        "# feature selection\n",
        "def select_features(X_train, y_train, X_test):\n",
        "\tfs = SelectKBest(score_func=chi2, k='all')\n",
        "\tfs.fit(X_train, y_train)\n",
        "\tX_train_fs = fs.transform(X_train)\n",
        "\tX_test_fs = fs.transform(X_test)\n",
        "\treturn X_train_fs, X_test_fs, fs\n",
        "\n",
        "# feature selection\n",
        "X_train_fs, X_test_fs, fs = select_features(X_train, y_train, X_test)\n",
        "\n",
        "# what are scores for the features\n",
        "for i in range(len(fs.scores_)):\n",
        "\tprint('Feature %d: %f' % (i, fs.scores_[i]))\n",
        " \n",
        "# plot the scores\n",
        "plt.bar([i for i in range(len(fs.scores_))], fs.scores_)\n",
        "plt.yscale('log')\n",
        "plt.show()"
      ],
      "execution_count": 283,
      "outputs": [
        {
          "output_type": "stream",
          "name": "stdout",
          "text": [
            "Feature 0: 77.083109\n",
            "Feature 1: 0.061814\n",
            "Feature 2: 0.087198\n",
            "Feature 3: 0.053253\n",
            "Feature 4: 0.322820\n",
            "Feature 5: 0.339023\n",
            "Feature 6: 21.351943\n",
            "Feature 7: 0.639660\n"
          ]
        },
        {
          "output_type": "display_data",
          "data": {
            "image/png": "[encoded data removed]",
            "text/plain": [
              "<Figure size 432x288 with 1 Axes>"
            ]
          },
          "metadata": {}
        }
      ]
    },
    {
      "cell_type": "code",
      "metadata": {
        "colab": {
          "base_uri": "https://localhost:8080/",
          "height": 337
        },
        "id": "qxYqMPzFDL6h",
        "outputId": "cad736b2-c64c-4345-ec6b-599c69d92098"
      },
      "source": [
        "from sklearn.ensemble import RandomForestClassifier\n",
        "\n",
        "clf = RandomForestClassifier(n_estimators=200)\n",
        "clf = clf.fit(X_train, y_train)\n",
        "\n",
        "print(\"Accuracy (in %):\",clf.score(X_test, y_test)*100)\n",
        "\n",
        "y_pred = clf.predict(X_test)\n",
        "print('F1 score', f1_score(y_test, y_pred))\n",
        "\n",
        "plot_confusion_matrix(clf, X_test, y_test)  \n",
        "\n",
        "print('AUC Score = ', roc_auc_score(y_test, clf.predict_proba(X_test)[:, 1]))\n",
        "\n",
        "plt.show()"
      ],
      "execution_count": 284,
      "outputs": [
        {
          "output_type": "stream",
          "name": "stdout",
          "text": [
            "Accuracy (in %): 93.29113924050633\n",
            "F1 score 0.9323979591836734\n",
            "AUC Score =  0.9814569080049168\n"
          ]
        },
        {
          "output_type": "display_data",
          "data": {
            "image/png": "[encoded data removed]",
            "text/plain": [
              "<Figure size 432x288 with 2 Axes>"
            ]
          },
          "metadata": {}
        }
      ]
    },
    {
      "cell_type": "code",
      "metadata": {
        "colab": {
          "base_uri": "https://localhost:8080/",
          "height": 302
        },
        "id": "IZOtx75-PLpc",
        "outputId": "c0d09b96-86d0-4668-ebe1-9f197ef08ace"
      },
      "source": [
        "# Let's check the feature importance\n",
        "\n",
        "importance=clf.feature_importances_\n",
        "print(importance)\n",
        "plt.bar([x for x in range(len(importance))], importance)\n",
        "plt.show()"
      ],
      "execution_count": 285,
      "outputs": [
        {
          "output_type": "stream",
          "name": "stdout",
          "text": [
            "[0.05468652 0.14706196 0.05391023 0.05025953 0.26711757 0.05051182\n",
            " 0.31207145 0.0643809 ]\n"
          ]
        },
        {
          "output_type": "display_data",
          "data": {
            "image/png": "[encoded data removed]",
            "text/plain": [
              "<Figure size 432x288 with 1 Axes>"
            ]
          },
          "metadata": {}
        }
      ]
    },
    {
      "cell_type": "code",
      "metadata": {
        "id": "4aI7wL8Kw8qj"
      },
      "source": [
        ""
      ],
      "execution_count": null,
      "outputs": []
    }
  ]
}