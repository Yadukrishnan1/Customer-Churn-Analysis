{
  "nbformat": 4,
  "nbformat_minor": 0,
  "metadata": {
    "colab": {
      "name": "customer_churn.ipynb",
      "provenance": [],
      "collapsed_sections": [],
      "mount_file_id": "1OgfdhSuDlaEBFvA6puDBya2Xwqgd2SKd",
      "authorship_tag": "ABX9TyNrbfZ8/xk8PkT9kn4NGk7h",
      "include_colab_link": true
    },
    "kernelspec": {
      "name": "python3",
      "display_name": "Python 3"
    },
    "language_info": {
      "name": "python"
    }
  },
  "cells": [
    {
      "cell_type": "markdown",
      "metadata": {
        "id": "view-in-github",
        "colab_type": "text"
      },
      "source": [
        "<a href=\"https://colab.research.google.com/github/Yadukrishnan1/Customer-Churn-Analysis/blob/main/customer_churn_updated.ipynb\" target=\"_parent\"><img src=\"https://colab.research.google.com/assets/colab-badge.svg\" alt=\"Open In Colab\"/></a>"
      ]
    },
    {
      "cell_type": "markdown",
      "metadata": {
        "id": "-8h_981lQ25m"
      },
      "source": [
        "# What is Churn?\n",
        "\n",
        "Churn rate is calculated by dividing the number of customer cancellations within a time period by the number of active customers at the start of that period. Very valuable insights can be gathered from this simple analysis — for example, the overall churn rate can provide a benchmark against which to measure the impact of a model. And knowing how churn rate varies by time of the week or month, product line, or customer cohort can help inform simple customer segments for targeting as well.\n",
        "\n",
        "The output of a predictive churn model is a measure of the immediate or future risk of a customer cancellation. This is what the term \"churn modeling\" most often refers to, and is the definition we will adhere to in this post."
      ]
    },
    {
      "cell_type": "markdown",
      "metadata": {
        "id": "Kx-kVMKougr2"
      },
      "source": [
        "**Loading packages...**\n",
        "\n",
        "\n"
      ]
    },
    {
      "cell_type": "code",
      "metadata": {
        "id": "bnFHRX90DcLt"
      },
      "source": [
        "import numpy as np\n",
        "import math\n",
        "import pandas as pd\n",
        "import matplotlib.pyplot as plt\n",
        "import seaborn as sns\n",
        "\n",
        "# Scikit-learn for ML prediction and modelling\n",
        "\n",
        "from sklearn.preprocessing import StandardScaler\n",
        "import sklearn\n",
        "from sklearn.metrics import mean_squared_error, f1_score, roc_curve, auc, roc_auc_score, confusion_matrix\n",
        "from sklearn.model_selection import train_test_split\n",
        "from sklearn import tree\n",
        "from mpl_toolkits import mplot3d\n",
        "from sklearn.preprocessing import OneHotEncoder, OrdinalEncoder, LabelEncoder\n",
        "from sklearn.linear_model import LinearRegression, LogisticRegression, LogisticRegressionCV\n",
        "from sklearn.tree import DecisionTreeClassifier\n",
        "from sklearn.ensemble import RandomForestClassifier\n",
        "from sklearn.model_selection import cross_val_score, GridSearchCV, train_test_split, KFold, RandomizedSearchCV\n",
        "\n",
        "from xgboost.sklearn import XGBRegressor, XGBClassifier\n",
        "import xgboost as xgb\n",
        "\n",
        "from os import path\n",
        "\n",
        "import warnings\n",
        "warnings.filterwarnings(\"ignore\")\n",
        "\n",
        "%matplotlib inline"
      ],
      "execution_count": 118,
      "outputs": []
    },
    {
      "cell_type": "code",
      "metadata": {
        "id": "m79Zmh-7EC20"
      },
      "source": [
        "feat_df=pd.read_csv(\"/content/drive/MyDrive/Colab Notebooks/Robinhood/features_data.csv\")\n",
        "eq_df=pd.read_csv(\"/content/drive/MyDrive/Colab Notebooks/Robinhood/equity_value_data.csv\")"
      ],
      "execution_count": 3,
      "outputs": []
    },
    {
      "cell_type": "markdown",
      "metadata": {
        "id": "fvrwp0Btvms_"
      },
      "source": [
        "# **Part 1**: Determine the user classes and find out the percentage of both."
      ]
    },
    {
      "cell_type": "markdown",
      "metadata": {
        "id": "xe0I6Zc2uuOf"
      },
      "source": [
        "## Exploratory Data Analysis (**EDA**) to determine the users who have churned."
      ]
    },
    {
      "cell_type": "code",
      "metadata": {
        "colab": {
          "base_uri": "https://localhost:8080/",
          "height": 241
        },
        "id": "IG96rGfFF1Ay",
        "outputId": "198067b6-712f-4614-dd66-1ea93e5638c6"
      },
      "source": [
        "print(eq_df.shape, '\\n')\n",
        "eq_df.head()"
      ],
      "execution_count": 4,
      "outputs": [
        {
          "output_type": "stream",
          "name": "stdout",
          "text": [
            "(1119158, 3) \n",
            "\n"
          ]
        },
        {
          "output_type": "execute_result",
          "data": {
            "text/html": [
              "<div>\n",
              "<style scoped>\n",
              "    .dataframe tbody tr th:only-of-type {\n",
              "        vertical-align: middle;\n",
              "    }\n",
              "\n",
              "    .dataframe tbody tr th {\n",
              "        vertical-align: top;\n",
              "    }\n",
              "\n",
              "    .dataframe thead th {\n",
              "        text-align: right;\n",
              "    }\n",
              "</style>\n",
              "<table border=\"1\" class=\"dataframe\">\n",
              "  <thead>\n",
              "    <tr style=\"text-align: right;\">\n",
              "      <th></th>\n",
              "      <th>timestamp</th>\n",
              "      <th>close_equity</th>\n",
              "      <th>user_id</th>\n",
              "    </tr>\n",
              "  </thead>\n",
              "  <tbody>\n",
              "    <tr>\n",
              "      <th>0</th>\n",
              "      <td>2016-11-16T00:00:00Z</td>\n",
              "      <td>48.16</td>\n",
              "      <td>bcef4fa9b0bdf22bcf7deae708decf03</td>\n",
              "    </tr>\n",
              "    <tr>\n",
              "      <th>1</th>\n",
              "      <td>2016-11-17T00:00:00Z</td>\n",
              "      <td>48.16</td>\n",
              "      <td>bcef4fa9b0bdf22bcf7deae708decf03</td>\n",
              "    </tr>\n",
              "    <tr>\n",
              "      <th>2</th>\n",
              "      <td>2016-11-18T00:00:00Z</td>\n",
              "      <td>48.16</td>\n",
              "      <td>bcef4fa9b0bdf22bcf7deae708decf03</td>\n",
              "    </tr>\n",
              "    <tr>\n",
              "      <th>3</th>\n",
              "      <td>2016-11-21T00:00:00Z</td>\n",
              "      <td>48.16</td>\n",
              "      <td>bcef4fa9b0bdf22bcf7deae708decf03</td>\n",
              "    </tr>\n",
              "    <tr>\n",
              "      <th>4</th>\n",
              "      <td>2016-11-22T00:00:00Z</td>\n",
              "      <td>48.16</td>\n",
              "      <td>bcef4fa9b0bdf22bcf7deae708decf03</td>\n",
              "    </tr>\n",
              "  </tbody>\n",
              "</table>\n",
              "</div>"
            ],
            "text/plain": [
              "              timestamp  close_equity                           user_id\n",
              "0  2016-11-16T00:00:00Z         48.16  bcef4fa9b0bdf22bcf7deae708decf03\n",
              "1  2016-11-17T00:00:00Z         48.16  bcef4fa9b0bdf22bcf7deae708decf03\n",
              "2  2016-11-18T00:00:00Z         48.16  bcef4fa9b0bdf22bcf7deae708decf03\n",
              "3  2016-11-21T00:00:00Z         48.16  bcef4fa9b0bdf22bcf7deae708decf03\n",
              "4  2016-11-22T00:00:00Z         48.16  bcef4fa9b0bdf22bcf7deae708decf03"
            ]
          },
          "metadata": {},
          "execution_count": 4
        }
      ]
    },
    {
      "cell_type": "code",
      "metadata": {
        "colab": {
          "base_uri": "https://localhost:8080/"
        },
        "id": "QCqG_YpEwCEA",
        "outputId": "94dadb5a-fc53-4ea7-e315-c1d5c782a792"
      },
      "source": [
        "eq_df.info()"
      ],
      "execution_count": 5,
      "outputs": [
        {
          "output_type": "stream",
          "name": "stdout",
          "text": [
            "<class 'pandas.core.frame.DataFrame'>\n",
            "RangeIndex: 1119158 entries, 0 to 1119157\n",
            "Data columns (total 3 columns):\n",
            " #   Column        Non-Null Count    Dtype  \n",
            "---  ------        --------------    -----  \n",
            " 0   timestamp     1119158 non-null  object \n",
            " 1   close_equity  1119158 non-null  float64\n",
            " 2   user_id       1119158 non-null  object \n",
            "dtypes: float64(1), object(2)\n",
            "memory usage: 25.6+ MB\n"
          ]
        }
      ]
    },
    {
      "cell_type": "code",
      "metadata": {
        "colab": {
          "base_uri": "https://localhost:8080/"
        },
        "id": "zd8t-G6EGF1m",
        "outputId": "f95ea959-e892-4282-fc2a-7e5482a1a604"
      },
      "source": [
        "eq_df.isna().sum()"
      ],
      "execution_count": 6,
      "outputs": [
        {
          "output_type": "execute_result",
          "data": {
            "text/plain": [
              "timestamp       0\n",
              "close_equity    0\n",
              "user_id         0\n",
              "dtype: int64"
            ]
          },
          "metadata": {},
          "execution_count": 6
        }
      ]
    },
    {
      "cell_type": "code",
      "metadata": {
        "colab": {
          "base_uri": "https://localhost:8080/"
        },
        "id": "_H9c897wHlBk",
        "outputId": "f1432643-8b0a-4413-940d-0ef906b24051"
      },
      "source": [
        "eq_df.timestamp=pd.to_datetime(eq_df.timestamp, errors='coerce')\n",
        "eq_df.nunique()"
      ],
      "execution_count": 7,
      "outputs": [
        {
          "output_type": "execute_result",
          "data": {
            "text/plain": [
              "timestamp          255\n",
              "close_equity    531483\n",
              "user_id           5584\n",
              "dtype: int64"
            ]
          },
          "metadata": {},
          "execution_count": 7
        }
      ]
    },
    {
      "cell_type": "markdown",
      "metadata": {
        "id": "8ZrLgZcnu82h"
      },
      "source": [
        "# Visualizing Equity Vs Days for a few users"
      ]
    },
    {
      "cell_type": "code",
      "metadata": {
        "colab": {
          "base_uri": "https://localhost:8080/",
          "height": 651
        },
        "id": "M0O6JOl0KV6X",
        "outputId": "b1031a0e-917f-4694-96e4-62a21903ed44"
      },
      "source": [
        "for i in range(2):\n",
        "    user_eq_df=eq_df[eq_df['user_id']==eq_df[eq_df.columns[2]].unique()[i]]\n",
        "    \n",
        "    plt.figure(figsize=(10,5))\n",
        "    \n",
        "    ts=user_eq_df[\"close_equity\"]\n",
        "    time=user_eq_df[\"timestamp\"]\n",
        "    \n",
        "    plt.xlabel('Date')\n",
        "    plt.ylabel('Equity (Dollars)')\n",
        "    plt.plot(ts, '-', label='User {0}'.format(i));\n",
        "    plt.legend()\n",
        "plt.show()"
      ],
      "execution_count": 8,
      "outputs": [
        {
          "output_type": "display_data",
          "data": {
            "image/png": "[encoded data removed]",
            "text/plain": [
              "<Figure size 720x360 with 1 Axes>"
            ]
          },
          "metadata": {
            "needs_background": "light"
          }
        },
        {
          "output_type": "display_data",
          "data": {
            "image/png": "[encoded data removed]",
            "text/plain": [
              "<Figure size 720x360 with 1 Axes>"
            ]
          },
          "metadata": {
            "needs_background": "light"
          }
        }
      ]
    },
    {
      "cell_type": "markdown",
      "metadata": {
        "id": "tU2zdppTvJE1"
      },
      "source": [
        "# We determine the two classes of the users - **Churned** or **Not Churned**. \n",
        "---\n",
        "### To determine that, we make use of the condition that if the equity of a user is lower than $10 for 28 consecutive calendar days or longer.\n",
        "\n",
        "From preliminary analysis of the equity value time-series of each user, we find that the minimum recorded equity value across users is \\$10 and the maximum is ~\\$4,50,000. This means that whenever the equity vaue goes below $10, those data are excluded from the table. This gives us an oppotunity to simplify the detection of churned users by simply determining the length of the missing time-series data for each user. If the length is over 28+2 (considering the weekend), that user is churned.\n",
        "\n",
        "---\n",
        "\n",
        "## The missing days (gap_days) from the dataset can be determined as shown below."
      ]
    },
    {
      "cell_type": "code",
      "metadata": {
        "colab": {
          "base_uri": "https://localhost:8080/",
          "height": 362
        },
        "id": "MxxRX5htSCDD",
        "outputId": "c095a079-b98f-446e-b1a9-52b57f624ccf"
      },
      "source": [
        "eq_df['gap_days'] = eq_df.timestamp.diff()\n",
        "eq_df.head(10)"
      ],
      "execution_count": 9,
      "outputs": [
        {
          "output_type": "execute_result",
          "data": {
            "text/html": [
              "<div>\n",
              "<style scoped>\n",
              "    .dataframe tbody tr th:only-of-type {\n",
              "        vertical-align: middle;\n",
              "    }\n",
              "\n",
              "    .dataframe tbody tr th {\n",
              "        vertical-align: top;\n",
              "    }\n",
              "\n",
              "    .dataframe thead th {\n",
              "        text-align: right;\n",
              "    }\n",
              "</style>\n",
              "<table border=\"1\" class=\"dataframe\">\n",
              "  <thead>\n",
              "    <tr style=\"text-align: right;\">\n",
              "      <th></th>\n",
              "      <th>timestamp</th>\n",
              "      <th>close_equity</th>\n",
              "      <th>user_id</th>\n",
              "      <th>gap_days</th>\n",
              "    </tr>\n",
              "  </thead>\n",
              "  <tbody>\n",
              "    <tr>\n",
              "      <th>0</th>\n",
              "      <td>2016-11-16 00:00:00+00:00</td>\n",
              "      <td>48.16</td>\n",
              "      <td>bcef4fa9b0bdf22bcf7deae708decf03</td>\n",
              "      <td>NaT</td>\n",
              "    </tr>\n",
              "    <tr>\n",
              "      <th>1</th>\n",
              "      <td>2016-11-17 00:00:00+00:00</td>\n",
              "      <td>48.16</td>\n",
              "      <td>bcef4fa9b0bdf22bcf7deae708decf03</td>\n",
              "      <td>1 days</td>\n",
              "    </tr>\n",
              "    <tr>\n",
              "      <th>2</th>\n",
              "      <td>2016-11-18 00:00:00+00:00</td>\n",
              "      <td>48.16</td>\n",
              "      <td>bcef4fa9b0bdf22bcf7deae708decf03</td>\n",
              "      <td>1 days</td>\n",
              "    </tr>\n",
              "    <tr>\n",
              "      <th>3</th>\n",
              "      <td>2016-11-21 00:00:00+00:00</td>\n",
              "      <td>48.16</td>\n",
              "      <td>bcef4fa9b0bdf22bcf7deae708decf03</td>\n",
              "      <td>3 days</td>\n",
              "    </tr>\n",
              "    <tr>\n",
              "      <th>4</th>\n",
              "      <td>2016-11-22 00:00:00+00:00</td>\n",
              "      <td>48.16</td>\n",
              "      <td>bcef4fa9b0bdf22bcf7deae708decf03</td>\n",
              "      <td>1 days</td>\n",
              "    </tr>\n",
              "    <tr>\n",
              "      <th>5</th>\n",
              "      <td>2016-11-23 00:00:00+00:00</td>\n",
              "      <td>48.16</td>\n",
              "      <td>bcef4fa9b0bdf22bcf7deae708decf03</td>\n",
              "      <td>1 days</td>\n",
              "    </tr>\n",
              "    <tr>\n",
              "      <th>6</th>\n",
              "      <td>2016-11-25 00:00:00+00:00</td>\n",
              "      <td>48.16</td>\n",
              "      <td>bcef4fa9b0bdf22bcf7deae708decf03</td>\n",
              "      <td>2 days</td>\n",
              "    </tr>\n",
              "    <tr>\n",
              "      <th>7</th>\n",
              "      <td>2016-11-28 00:00:00+00:00</td>\n",
              "      <td>48.16</td>\n",
              "      <td>bcef4fa9b0bdf22bcf7deae708decf03</td>\n",
              "      <td>3 days</td>\n",
              "    </tr>\n",
              "    <tr>\n",
              "      <th>8</th>\n",
              "      <td>2016-11-29 00:00:00+00:00</td>\n",
              "      <td>48.16</td>\n",
              "      <td>bcef4fa9b0bdf22bcf7deae708decf03</td>\n",
              "      <td>1 days</td>\n",
              "    </tr>\n",
              "    <tr>\n",
              "      <th>9</th>\n",
              "      <td>2016-11-30 00:00:00+00:00</td>\n",
              "      <td>48.16</td>\n",
              "      <td>bcef4fa9b0bdf22bcf7deae708decf03</td>\n",
              "      <td>1 days</td>\n",
              "    </tr>\n",
              "  </tbody>\n",
              "</table>\n",
              "</div>"
            ],
            "text/plain": [
              "                  timestamp  ...  gap_days\n",
              "0 2016-11-16 00:00:00+00:00  ...       NaT\n",
              "1 2016-11-17 00:00:00+00:00  ...    1 days\n",
              "2 2016-11-18 00:00:00+00:00  ...    1 days\n",
              "3 2016-11-21 00:00:00+00:00  ...    3 days\n",
              "4 2016-11-22 00:00:00+00:00  ...    1 days\n",
              "5 2016-11-23 00:00:00+00:00  ...    1 days\n",
              "6 2016-11-25 00:00:00+00:00  ...    2 days\n",
              "7 2016-11-28 00:00:00+00:00  ...    3 days\n",
              "8 2016-11-29 00:00:00+00:00  ...    1 days\n",
              "9 2016-11-30 00:00:00+00:00  ...    1 days\n",
              "\n",
              "[10 rows x 4 columns]"
            ]
          },
          "metadata": {},
          "execution_count": 9
        }
      ]
    },
    {
      "cell_type": "code",
      "metadata": {
        "colab": {
          "base_uri": "https://localhost:8080/"
        },
        "id": "uORdjFLnUOXT",
        "outputId": "1cbf229c-4e87-48ba-a8fe-4caa3ac0862d"
      },
      "source": [
        "# The number of churned users is obtained by comparing the gap-days with a time-delta of 30 days.\n",
        "\n",
        "churned_user_count=eq_df[eq_df['gap_days']>=pd.Timedelta(\"30 days\")]['user_id'].nunique()\n",
        "churned_user_ids=eq_df[eq_df['gap_days']>=pd.Timedelta(\"30 days\")]['user_id'].unique()\n",
        "print(len(churned_user_ids))\n",
        "\n",
        "# Total users\n",
        "\n",
        "total_users=eq_df['user_id'].nunique()\n",
        "total_user_ids=eq_df['user_id'].unique()\n",
        "print(len(total_user_ids))\n"
      ],
      "execution_count": 10,
      "outputs": [
        {
          "output_type": "stream",
          "name": "stdout",
          "text": [
            "279\n",
            "5584\n"
          ]
        }
      ]
    },
    {
      "cell_type": "markdown",
      "metadata": {
        "id": "ynR1ClptPZUk"
      },
      "source": [
        "# **1. What fraction of the users have churned?**"
      ]
    },
    {
      "cell_type": "code",
      "metadata": {
        "colab": {
          "base_uri": "https://localhost:8080/"
        },
        "id": "uOBUMvISXCf0",
        "outputId": "815b5fc8-073a-48f1-9abf-b20539f9bddb"
      },
      "source": [
        "frac=np.round(100.0*(churned_user_count/total_users), decimals=2)\n",
        "print('Fraction of churned users is {0}%'.format(frac))"
      ],
      "execution_count": 11,
      "outputs": [
        {
          "output_type": "stream",
          "name": "stdout",
          "text": [
            "Fraction of churned users is 5.0%\n"
          ]
        }
      ]
    },
    {
      "cell_type": "markdown",
      "metadata": {
        "id": "72GxWqR-vf-9"
      },
      "source": [
        "# **Part 2: EDA and ML Model bulding to predict customer churn**\n",
        "\n",
        "\n"
      ]
    },
    {
      "cell_type": "code",
      "metadata": {
        "colab": {
          "base_uri": "https://localhost:8080/",
          "height": 226
        },
        "id": "KyA8USz8Iodd",
        "outputId": "f1a7031c-fa59-448f-ca72-3a1fdf5ae4ec"
      },
      "source": [
        "# The feature dataset\n",
        "\n",
        "feat_df.head()"
      ],
      "execution_count": 12,
      "outputs": [
        {
          "output_type": "execute_result",
          "data": {
            "text/html": [
              "<div>\n",
              "<style scoped>\n",
              "    .dataframe tbody tr th:only-of-type {\n",
              "        vertical-align: middle;\n",
              "    }\n",
              "\n",
              "    .dataframe tbody tr th {\n",
              "        vertical-align: top;\n",
              "    }\n",
              "\n",
              "    .dataframe thead th {\n",
              "        text-align: right;\n",
              "    }\n",
              "</style>\n",
              "<table border=\"1\" class=\"dataframe\">\n",
              "  <thead>\n",
              "    <tr style=\"text-align: right;\">\n",
              "      <th></th>\n",
              "      <th>risk_tolerance</th>\n",
              "      <th>investment_experience</th>\n",
              "      <th>liquidity_needs</th>\n",
              "      <th>platform</th>\n",
              "      <th>time_spent</th>\n",
              "      <th>instrument_type_first_traded</th>\n",
              "      <th>first_deposit_amount</th>\n",
              "      <th>time_horizon</th>\n",
              "      <th>user_id</th>\n",
              "    </tr>\n",
              "  </thead>\n",
              "  <tbody>\n",
              "    <tr>\n",
              "      <th>0</th>\n",
              "      <td>high_risk_tolerance</td>\n",
              "      <td>limited_investment_exp</td>\n",
              "      <td>very_important_liq_need</td>\n",
              "      <td>Android</td>\n",
              "      <td>33.129417</td>\n",
              "      <td>stock</td>\n",
              "      <td>40.0</td>\n",
              "      <td>med_time_horizon</td>\n",
              "      <td>895044c23edc821881e87da749c01034</td>\n",
              "    </tr>\n",
              "    <tr>\n",
              "      <th>1</th>\n",
              "      <td>med_risk_tolerance</td>\n",
              "      <td>limited_investment_exp</td>\n",
              "      <td>very_important_liq_need</td>\n",
              "      <td>Android</td>\n",
              "      <td>16.573517</td>\n",
              "      <td>stock</td>\n",
              "      <td>200.0</td>\n",
              "      <td>short_time_horizon</td>\n",
              "      <td>458b1d95441ced242949deefe8e4b638</td>\n",
              "    </tr>\n",
              "    <tr>\n",
              "      <th>2</th>\n",
              "      <td>med_risk_tolerance</td>\n",
              "      <td>limited_investment_exp</td>\n",
              "      <td>very_important_liq_need</td>\n",
              "      <td>iOS</td>\n",
              "      <td>10.008367</td>\n",
              "      <td>stock</td>\n",
              "      <td>25.0</td>\n",
              "      <td>long_time_horizon</td>\n",
              "      <td>c7936f653d293479e034865db9bb932f</td>\n",
              "    </tr>\n",
              "    <tr>\n",
              "      <th>3</th>\n",
              "      <td>med_risk_tolerance</td>\n",
              "      <td>limited_investment_exp</td>\n",
              "      <td>very_important_liq_need</td>\n",
              "      <td>Android</td>\n",
              "      <td>1.031633</td>\n",
              "      <td>stock</td>\n",
              "      <td>100.0</td>\n",
              "      <td>short_time_horizon</td>\n",
              "      <td>b255d4bd6c9ba194d3a350b3e76c6393</td>\n",
              "    </tr>\n",
              "    <tr>\n",
              "      <th>4</th>\n",
              "      <td>high_risk_tolerance</td>\n",
              "      <td>limited_investment_exp</td>\n",
              "      <td>very_important_liq_need</td>\n",
              "      <td>Android</td>\n",
              "      <td>8.187250</td>\n",
              "      <td>stock</td>\n",
              "      <td>20.0</td>\n",
              "      <td>long_time_horizon</td>\n",
              "      <td>4a168225e89375b8de605cbc0977ae91</td>\n",
              "    </tr>\n",
              "  </tbody>\n",
              "</table>\n",
              "</div>"
            ],
            "text/plain": [
              "        risk_tolerance  ...                           user_id\n",
              "0  high_risk_tolerance  ...  895044c23edc821881e87da749c01034\n",
              "1   med_risk_tolerance  ...  458b1d95441ced242949deefe8e4b638\n",
              "2   med_risk_tolerance  ...  c7936f653d293479e034865db9bb932f\n",
              "3   med_risk_tolerance  ...  b255d4bd6c9ba194d3a350b3e76c6393\n",
              "4  high_risk_tolerance  ...  4a168225e89375b8de605cbc0977ae91\n",
              "\n",
              "[5 rows x 9 columns]"
            ]
          },
          "metadata": {},
          "execution_count": 12
        }
      ]
    },
    {
      "cell_type": "code",
      "metadata": {
        "colab": {
          "base_uri": "https://localhost:8080/"
        },
        "id": "67HkUL0nKDjX",
        "outputId": "0441a4e5-899e-4561-9903-cd8ecf0a136c"
      },
      "source": [
        "feat_df.info()"
      ],
      "execution_count": 13,
      "outputs": [
        {
          "output_type": "stream",
          "name": "stdout",
          "text": [
            "<class 'pandas.core.frame.DataFrame'>\n",
            "RangeIndex: 5584 entries, 0 to 5583\n",
            "Data columns (total 9 columns):\n",
            " #   Column                        Non-Null Count  Dtype  \n",
            "---  ------                        --------------  -----  \n",
            " 0   risk_tolerance                5584 non-null   object \n",
            " 1   investment_experience         5584 non-null   object \n",
            " 2   liquidity_needs               5584 non-null   object \n",
            " 3   platform                      5584 non-null   object \n",
            " 4   time_spent                    5584 non-null   float64\n",
            " 5   instrument_type_first_traded  5584 non-null   object \n",
            " 6   first_deposit_amount          5584 non-null   float64\n",
            " 7   time_horizon                  5584 non-null   object \n",
            " 8   user_id                       5584 non-null   object \n",
            "dtypes: float64(2), object(7)\n",
            "memory usage: 392.8+ KB\n"
          ]
        }
      ]
    },
    {
      "cell_type": "code",
      "metadata": {
        "colab": {
          "base_uri": "https://localhost:8080/",
          "height": 206
        },
        "id": "TqfpajTIbT-K",
        "outputId": "6cca2295-9fe0-40cb-869b-39e358daae43"
      },
      "source": [
        "# Create a datset containing the class label(churn=1, no churn=0) by merging the churned user data with the 'feat_df'\n",
        "\n",
        "churned_df=pd.DataFrame(churned_user_ids, columns=['user_id'])\n",
        "churned_df['churn']=1\n",
        "churned_df.head()"
      ],
      "execution_count": 15,
      "outputs": [
        {
          "output_type": "execute_result",
          "data": {
            "text/html": [
              "<div>\n",
              "<style scoped>\n",
              "    .dataframe tbody tr th:only-of-type {\n",
              "        vertical-align: middle;\n",
              "    }\n",
              "\n",
              "    .dataframe tbody tr th {\n",
              "        vertical-align: top;\n",
              "    }\n",
              "\n",
              "    .dataframe thead th {\n",
              "        text-align: right;\n",
              "    }\n",
              "</style>\n",
              "<table border=\"1\" class=\"dataframe\">\n",
              "  <thead>\n",
              "    <tr style=\"text-align: right;\">\n",
              "      <th></th>\n",
              "      <th>user_id</th>\n",
              "      <th>churn</th>\n",
              "    </tr>\n",
              "  </thead>\n",
              "  <tbody>\n",
              "    <tr>\n",
              "      <th>0</th>\n",
              "      <td>270cda53a026bcf6c2b98492b23c1b99</td>\n",
              "      <td>1</td>\n",
              "    </tr>\n",
              "    <tr>\n",
              "      <th>1</th>\n",
              "      <td>319c069e77187c7e7e7c027eb00fd941</td>\n",
              "      <td>1</td>\n",
              "    </tr>\n",
              "    <tr>\n",
              "      <th>2</th>\n",
              "      <td>ec84f134c5b27c4f5702803e98eb3f40</td>\n",
              "      <td>1</td>\n",
              "    </tr>\n",
              "    <tr>\n",
              "      <th>3</th>\n",
              "      <td>6dbedf7f2972b4f6ea60a15d48cb292c</td>\n",
              "      <td>1</td>\n",
              "    </tr>\n",
              "    <tr>\n",
              "      <th>4</th>\n",
              "      <td>91837d41270b81b267fc205c3e03ee9b</td>\n",
              "      <td>1</td>\n",
              "    </tr>\n",
              "  </tbody>\n",
              "</table>\n",
              "</div>"
            ],
            "text/plain": [
              "                            user_id  churn\n",
              "0  270cda53a026bcf6c2b98492b23c1b99      1\n",
              "1  319c069e77187c7e7e7c027eb00fd941      1\n",
              "2  ec84f134c5b27c4f5702803e98eb3f40      1\n",
              "3  6dbedf7f2972b4f6ea60a15d48cb292c      1\n",
              "4  91837d41270b81b267fc205c3e03ee9b      1"
            ]
          },
          "metadata": {},
          "execution_count": 15
        }
      ]
    },
    {
      "cell_type": "code",
      "metadata": {
        "colab": {
          "base_uri": "https://localhost:8080/"
        },
        "id": "Htu7mKKVKJ92",
        "outputId": "1d9b0fdf-0dfa-48ca-d784-5c5cfc4f1832"
      },
      "source": [
        "churned_df.info()"
      ],
      "execution_count": 16,
      "outputs": [
        {
          "output_type": "stream",
          "name": "stdout",
          "text": [
            "<class 'pandas.core.frame.DataFrame'>\n",
            "RangeIndex: 279 entries, 0 to 278\n",
            "Data columns (total 2 columns):\n",
            " #   Column   Non-Null Count  Dtype \n",
            "---  ------   --------------  ----- \n",
            " 0   user_id  279 non-null    object\n",
            " 1   churn    279 non-null    int64 \n",
            "dtypes: int64(1), object(1)\n",
            "memory usage: 4.5+ KB\n"
          ]
        }
      ]
    },
    {
      "cell_type": "code",
      "metadata": {
        "colab": {
          "base_uri": "https://localhost:8080/",
          "height": 206
        },
        "id": "xBBparZrbomM",
        "outputId": "5bbd3398-7497-441b-f7b5-23a8d7c27b0f"
      },
      "source": [
        "model_df=feat_df.merge(churned_df, how='left', on='user_id').fillna(0)\n",
        "model_df['churn']=model_df['churn'].astype(int)\n",
        "model_df=model_df.drop(['user_id'], axis=1)\n",
        "model_df.head()"
      ],
      "execution_count": 234,
      "outputs": [
        {
          "output_type": "execute_result",
          "data": {
            "text/html": [
              "<div>\n",
              "<style scoped>\n",
              "    .dataframe tbody tr th:only-of-type {\n",
              "        vertical-align: middle;\n",
              "    }\n",
              "\n",
              "    .dataframe tbody tr th {\n",
              "        vertical-align: top;\n",
              "    }\n",
              "\n",
              "    .dataframe thead th {\n",
              "        text-align: right;\n",
              "    }\n",
              "</style>\n",
              "<table border=\"1\" class=\"dataframe\">\n",
              "  <thead>\n",
              "    <tr style=\"text-align: right;\">\n",
              "      <th></th>\n",
              "      <th>risk_tolerance</th>\n",
              "      <th>investment_experience</th>\n",
              "      <th>liquidity_needs</th>\n",
              "      <th>platform</th>\n",
              "      <th>time_spent</th>\n",
              "      <th>instrument_type_first_traded</th>\n",
              "      <th>first_deposit_amount</th>\n",
              "      <th>time_horizon</th>\n",
              "      <th>churn</th>\n",
              "    </tr>\n",
              "  </thead>\n",
              "  <tbody>\n",
              "    <tr>\n",
              "      <th>0</th>\n",
              "      <td>high_risk_tolerance</td>\n",
              "      <td>limited_investment_exp</td>\n",
              "      <td>very_important_liq_need</td>\n",
              "      <td>Android</td>\n",
              "      <td>33.129417</td>\n",
              "      <td>stock</td>\n",
              "      <td>40.0</td>\n",
              "      <td>med_time_horizon</td>\n",
              "      <td>0</td>\n",
              "    </tr>\n",
              "    <tr>\n",
              "      <th>1</th>\n",
              "      <td>med_risk_tolerance</td>\n",
              "      <td>limited_investment_exp</td>\n",
              "      <td>very_important_liq_need</td>\n",
              "      <td>Android</td>\n",
              "      <td>16.573517</td>\n",
              "      <td>stock</td>\n",
              "      <td>200.0</td>\n",
              "      <td>short_time_horizon</td>\n",
              "      <td>0</td>\n",
              "    </tr>\n",
              "    <tr>\n",
              "      <th>2</th>\n",
              "      <td>med_risk_tolerance</td>\n",
              "      <td>limited_investment_exp</td>\n",
              "      <td>very_important_liq_need</td>\n",
              "      <td>iOS</td>\n",
              "      <td>10.008367</td>\n",
              "      <td>stock</td>\n",
              "      <td>25.0</td>\n",
              "      <td>long_time_horizon</td>\n",
              "      <td>0</td>\n",
              "    </tr>\n",
              "    <tr>\n",
              "      <th>3</th>\n",
              "      <td>med_risk_tolerance</td>\n",
              "      <td>limited_investment_exp</td>\n",
              "      <td>very_important_liq_need</td>\n",
              "      <td>Android</td>\n",
              "      <td>1.031633</td>\n",
              "      <td>stock</td>\n",
              "      <td>100.0</td>\n",
              "      <td>short_time_horizon</td>\n",
              "      <td>0</td>\n",
              "    </tr>\n",
              "    <tr>\n",
              "      <th>4</th>\n",
              "      <td>high_risk_tolerance</td>\n",
              "      <td>limited_investment_exp</td>\n",
              "      <td>very_important_liq_need</td>\n",
              "      <td>Android</td>\n",
              "      <td>8.187250</td>\n",
              "      <td>stock</td>\n",
              "      <td>20.0</td>\n",
              "      <td>long_time_horizon</td>\n",
              "      <td>0</td>\n",
              "    </tr>\n",
              "  </tbody>\n",
              "</table>\n",
              "</div>"
            ],
            "text/plain": [
              "        risk_tolerance   investment_experience  ...        time_horizon churn\n",
              "0  high_risk_tolerance  limited_investment_exp  ...    med_time_horizon     0\n",
              "1   med_risk_tolerance  limited_investment_exp  ...  short_time_horizon     0\n",
              "2   med_risk_tolerance  limited_investment_exp  ...   long_time_horizon     0\n",
              "3   med_risk_tolerance  limited_investment_exp  ...  short_time_horizon     0\n",
              "4  high_risk_tolerance  limited_investment_exp  ...   long_time_horizon     0\n",
              "\n",
              "[5 rows x 9 columns]"
            ]
          },
          "metadata": {},
          "execution_count": 234
        }
      ]
    },
    {
      "cell_type": "code",
      "metadata": {
        "colab": {
          "base_uri": "https://localhost:8080/"
        },
        "id": "0_Mk02cVc_da",
        "outputId": "f1d2601b-1c0f-43cf-f423-afa3b481f58d"
      },
      "source": [
        "model_df.info()"
      ],
      "execution_count": 235,
      "outputs": [
        {
          "output_type": "stream",
          "name": "stdout",
          "text": [
            "<class 'pandas.core.frame.DataFrame'>\n",
            "Int64Index: 5584 entries, 0 to 5583\n",
            "Data columns (total 9 columns):\n",
            " #   Column                        Non-Null Count  Dtype  \n",
            "---  ------                        --------------  -----  \n",
            " 0   risk_tolerance                5584 non-null   object \n",
            " 1   investment_experience         5584 non-null   object \n",
            " 2   liquidity_needs               5584 non-null   object \n",
            " 3   platform                      5584 non-null   object \n",
            " 4   time_spent                    5584 non-null   float64\n",
            " 5   instrument_type_first_traded  5584 non-null   object \n",
            " 6   first_deposit_amount          5584 non-null   float64\n",
            " 7   time_horizon                  5584 non-null   object \n",
            " 8   churn                         5584 non-null   int64  \n",
            "dtypes: float64(2), int64(1), object(6)\n",
            "memory usage: 436.2+ KB\n"
          ]
        }
      ]
    },
    {
      "cell_type": "code",
      "metadata": {
        "colab": {
          "base_uri": "https://localhost:8080/"
        },
        "id": "SH2FeZbTdOcL",
        "outputId": "a200313d-33c8-4e3f-ed60-ac222f8c41a6"
      },
      "source": [
        "model_df.nunique()"
      ],
      "execution_count": 236,
      "outputs": [
        {
          "output_type": "execute_result",
          "data": {
            "text/plain": [
              "risk_tolerance                     3\n",
              "investment_experience              4\n",
              "liquidity_needs                    3\n",
              "platform                           3\n",
              "time_spent                      4502\n",
              "instrument_type_first_traded      11\n",
              "first_deposit_amount             317\n",
              "time_horizon                       3\n",
              "churn                              2\n",
              "dtype: int64"
            ]
          },
          "metadata": {},
          "execution_count": 236
        }
      ]
    },
    {
      "cell_type": "code",
      "metadata": {
        "colab": {
          "base_uri": "https://localhost:8080/",
          "height": 206
        },
        "id": "9M68sRLLfaqv",
        "outputId": "69b285a8-e162-48ee-d07b-b19fa099d03b"
      },
      "source": [
        "cat_df = model_df.select_dtypes(include=['object']).copy()\n",
        "\n",
        "# Encoding the columns\n",
        "\n",
        "enc_make = OrdinalEncoder()\n",
        "\n",
        "cat_df_transformed = enc_make.fit_transform(cat_df)\n",
        "\n",
        "for i,j in enumerate(cat_df.columns):\n",
        "  cat_df[j] = cat_df_transformed.transpose()[i]\n",
        "\n",
        "# Adding converted labels to df\n",
        "for i in model_df.columns:\n",
        "  if i in cat_df.columns:\n",
        "    model_df[i] = cat_df[i]\n",
        "\n",
        "model_df.head()"
      ],
      "execution_count": 237,
      "outputs": [
        {
          "output_type": "execute_result",
          "data": {
            "text/html": [
              "<div>\n",
              "<style scoped>\n",
              "    .dataframe tbody tr th:only-of-type {\n",
              "        vertical-align: middle;\n",
              "    }\n",
              "\n",
              "    .dataframe tbody tr th {\n",
              "        vertical-align: top;\n",
              "    }\n",
              "\n",
              "    .dataframe thead th {\n",
              "        text-align: right;\n",
              "    }\n",
              "</style>\n",
              "<table border=\"1\" class=\"dataframe\">\n",
              "  <thead>\n",
              "    <tr style=\"text-align: right;\">\n",
              "      <th></th>\n",
              "      <th>risk_tolerance</th>\n",
              "      <th>investment_experience</th>\n",
              "      <th>liquidity_needs</th>\n",
              "      <th>platform</th>\n",
              "      <th>time_spent</th>\n",
              "      <th>instrument_type_first_traded</th>\n",
              "      <th>first_deposit_amount</th>\n",
              "      <th>time_horizon</th>\n",
              "      <th>churn</th>\n",
              "    </tr>\n",
              "  </thead>\n",
              "  <tbody>\n",
              "    <tr>\n",
              "      <th>0</th>\n",
              "      <td>0.0</td>\n",
              "      <td>2.0</td>\n",
              "      <td>2.0</td>\n",
              "      <td>0.0</td>\n",
              "      <td>33.129417</td>\n",
              "      <td>8.0</td>\n",
              "      <td>40.0</td>\n",
              "      <td>1.0</td>\n",
              "      <td>0</td>\n",
              "    </tr>\n",
              "    <tr>\n",
              "      <th>1</th>\n",
              "      <td>2.0</td>\n",
              "      <td>2.0</td>\n",
              "      <td>2.0</td>\n",
              "      <td>0.0</td>\n",
              "      <td>16.573517</td>\n",
              "      <td>8.0</td>\n",
              "      <td>200.0</td>\n",
              "      <td>2.0</td>\n",
              "      <td>0</td>\n",
              "    </tr>\n",
              "    <tr>\n",
              "      <th>2</th>\n",
              "      <td>2.0</td>\n",
              "      <td>2.0</td>\n",
              "      <td>2.0</td>\n",
              "      <td>2.0</td>\n",
              "      <td>10.008367</td>\n",
              "      <td>8.0</td>\n",
              "      <td>25.0</td>\n",
              "      <td>0.0</td>\n",
              "      <td>0</td>\n",
              "    </tr>\n",
              "    <tr>\n",
              "      <th>3</th>\n",
              "      <td>2.0</td>\n",
              "      <td>2.0</td>\n",
              "      <td>2.0</td>\n",
              "      <td>0.0</td>\n",
              "      <td>1.031633</td>\n",
              "      <td>8.0</td>\n",
              "      <td>100.0</td>\n",
              "      <td>2.0</td>\n",
              "      <td>0</td>\n",
              "    </tr>\n",
              "    <tr>\n",
              "      <th>4</th>\n",
              "      <td>0.0</td>\n",
              "      <td>2.0</td>\n",
              "      <td>2.0</td>\n",
              "      <td>0.0</td>\n",
              "      <td>8.187250</td>\n",
              "      <td>8.0</td>\n",
              "      <td>20.0</td>\n",
              "      <td>0.0</td>\n",
              "      <td>0</td>\n",
              "    </tr>\n",
              "  </tbody>\n",
              "</table>\n",
              "</div>"
            ],
            "text/plain": [
              "   risk_tolerance  investment_experience  ...  time_horizon  churn\n",
              "0             0.0                    2.0  ...           1.0      0\n",
              "1             2.0                    2.0  ...           2.0      0\n",
              "2             2.0                    2.0  ...           0.0      0\n",
              "3             2.0                    2.0  ...           2.0      0\n",
              "4             0.0                    2.0  ...           0.0      0\n",
              "\n",
              "[5 rows x 9 columns]"
            ]
          },
          "metadata": {},
          "execution_count": 237
        }
      ]
    },
    {
      "cell_type": "code",
      "metadata": {
        "colab": {
          "base_uri": "https://localhost:8080/",
          "height": 300
        },
        "id": "BsJQcFyH05X7",
        "outputId": "8b35ad85-4fbd-4edd-ce5d-828809364c33"
      },
      "source": [
        "model_df.describe()"
      ],
      "execution_count": 238,
      "outputs": [
        {
          "output_type": "execute_result",
          "data": {
            "text/html": [
              "<div>\n",
              "<style scoped>\n",
              "    .dataframe tbody tr th:only-of-type {\n",
              "        vertical-align: middle;\n",
              "    }\n",
              "\n",
              "    .dataframe tbody tr th {\n",
              "        vertical-align: top;\n",
              "    }\n",
              "\n",
              "    .dataframe thead th {\n",
              "        text-align: right;\n",
              "    }\n",
              "</style>\n",
              "<table border=\"1\" class=\"dataframe\">\n",
              "  <thead>\n",
              "    <tr style=\"text-align: right;\">\n",
              "      <th></th>\n",
              "      <th>risk_tolerance</th>\n",
              "      <th>investment_experience</th>\n",
              "      <th>liquidity_needs</th>\n",
              "      <th>platform</th>\n",
              "      <th>time_spent</th>\n",
              "      <th>instrument_type_first_traded</th>\n",
              "      <th>first_deposit_amount</th>\n",
              "      <th>time_horizon</th>\n",
              "      <th>churn</th>\n",
              "    </tr>\n",
              "  </thead>\n",
              "  <tbody>\n",
              "    <tr>\n",
              "      <th>count</th>\n",
              "      <td>5584.000000</td>\n",
              "      <td>5584.000000</td>\n",
              "      <td>5584.000000</td>\n",
              "      <td>5584.000000</td>\n",
              "      <td>5584.000000</td>\n",
              "      <td>5584.000000</td>\n",
              "      <td>5584.000000</td>\n",
              "      <td>5584.000000</td>\n",
              "      <td>5584.000000</td>\n",
              "    </tr>\n",
              "    <tr>\n",
              "      <th>mean</th>\n",
              "      <td>0.679979</td>\n",
              "      <td>2.091332</td>\n",
              "      <td>1.708990</td>\n",
              "      <td>1.361927</td>\n",
              "      <td>34.509706</td>\n",
              "      <td>7.319305</td>\n",
              "      <td>633.566805</td>\n",
              "      <td>1.179083</td>\n",
              "      <td>0.049964</td>\n",
              "    </tr>\n",
              "    <tr>\n",
              "      <th>std</th>\n",
              "      <td>0.924629</td>\n",
              "      <td>0.755589</td>\n",
              "      <td>0.546611</td>\n",
              "      <td>0.882446</td>\n",
              "      <td>155.080551</td>\n",
              "      <td>1.850090</td>\n",
              "      <td>2118.323263</td>\n",
              "      <td>0.896479</td>\n",
              "      <td>0.217890</td>\n",
              "    </tr>\n",
              "    <tr>\n",
              "      <th>min</th>\n",
              "      <td>0.000000</td>\n",
              "      <td>0.000000</td>\n",
              "      <td>0.000000</td>\n",
              "      <td>0.000000</td>\n",
              "      <td>0.000000</td>\n",
              "      <td>0.000000</td>\n",
              "      <td>0.000000</td>\n",
              "      <td>0.000000</td>\n",
              "      <td>0.000000</td>\n",
              "    </tr>\n",
              "    <tr>\n",
              "      <th>25%</th>\n",
              "      <td>0.000000</td>\n",
              "      <td>2.000000</td>\n",
              "      <td>2.000000</td>\n",
              "      <td>0.000000</td>\n",
              "      <td>2.848908</td>\n",
              "      <td>8.000000</td>\n",
              "      <td>50.000000</td>\n",
              "      <td>0.000000</td>\n",
              "      <td>0.000000</td>\n",
              "    </tr>\n",
              "    <tr>\n",
              "      <th>50%</th>\n",
              "      <td>0.000000</td>\n",
              "      <td>2.000000</td>\n",
              "      <td>2.000000</td>\n",
              "      <td>2.000000</td>\n",
              "      <td>13.474708</td>\n",
              "      <td>8.000000</td>\n",
              "      <td>100.000000</td>\n",
              "      <td>2.000000</td>\n",
              "      <td>0.000000</td>\n",
              "    </tr>\n",
              "    <tr>\n",
              "      <th>75%</th>\n",
              "      <td>2.000000</td>\n",
              "      <td>3.000000</td>\n",
              "      <td>2.000000</td>\n",
              "      <td>2.000000</td>\n",
              "      <td>33.823829</td>\n",
              "      <td>8.000000</td>\n",
              "      <td>500.000000</td>\n",
              "      <td>2.000000</td>\n",
              "      <td>0.000000</td>\n",
              "    </tr>\n",
              "    <tr>\n",
              "      <th>max</th>\n",
              "      <td>2.000000</td>\n",
              "      <td>3.000000</td>\n",
              "      <td>2.000000</td>\n",
              "      <td>2.000000</td>\n",
              "      <td>8788.329450</td>\n",
              "      <td>10.000000</td>\n",
              "      <td>50000.000000</td>\n",
              "      <td>2.000000</td>\n",
              "      <td>1.000000</td>\n",
              "    </tr>\n",
              "  </tbody>\n",
              "</table>\n",
              "</div>"
            ],
            "text/plain": [
              "       risk_tolerance  investment_experience  ...  time_horizon        churn\n",
              "count     5584.000000            5584.000000  ...   5584.000000  5584.000000\n",
              "mean         0.679979               2.091332  ...      1.179083     0.049964\n",
              "std          0.924629               0.755589  ...      0.896479     0.217890\n",
              "min          0.000000               0.000000  ...      0.000000     0.000000\n",
              "25%          0.000000               2.000000  ...      0.000000     0.000000\n",
              "50%          0.000000               2.000000  ...      2.000000     0.000000\n",
              "75%          2.000000               3.000000  ...      2.000000     0.000000\n",
              "max          2.000000               3.000000  ...      2.000000     1.000000\n",
              "\n",
              "[8 rows x 9 columns]"
            ]
          },
          "metadata": {},
          "execution_count": 238
        }
      ]
    },
    {
      "cell_type": "code",
      "metadata": {
        "colab": {
          "base_uri": "https://localhost:8080/",
          "height": 736
        },
        "id": "c6cr-ukjq6y5",
        "outputId": "408a693e-94b7-4ebf-bb11-c5e48d2e89a0"
      },
      "source": [
        "# Outlier detection using seaborn boxplot\n",
        "\n",
        "model_df=model_df[(model_df['time_spent']<80) & (model_df['first_deposit_amount']<1000)] # Setting realistic outlier bounds\n",
        "\n",
        "sns.set_theme(style=\"whitegrid\")\n",
        "fig, axes = plt.subplots(2, 4, figsize=(20, 12))\n",
        "\n",
        "count=0\n",
        "for i in range(2):\n",
        "    for j in range(4):\n",
        "        sns.boxplot(ax=axes[i, j],data=model_df, x='churn', y=model_df.columns[count])\n",
        "        axes[i,j].set_title(model_df.columns[count])\n",
        "        count+=1"
      ],
      "execution_count": 239,
      "outputs": [
        {
          "output_type": "display_data",
          "data": {
            "image/png": "[encoded data removed]",
            "text/plain": [
              "<Figure size 1440x864 with 8 Axes>"
            ]
          },
          "metadata": {}
        }
      ]
    },
    {
      "cell_type": "markdown",
      "metadata": {
        "id": "MoictvLOgB5t"
      },
      "source": [
        "# **Scaling of Data**"
      ]
    },
    {
      "cell_type": "code",
      "metadata": {
        "colab": {
          "base_uri": "https://localhost:8080/",
          "height": 300
        },
        "id": "wL6BIw59vl6T",
        "outputId": "9f4110b5-bdc1-4af1-9da8-d5bc43f52fb9"
      },
      "source": [
        "# Scaling of the non-objects\n",
        "\n",
        "from sklearn.preprocessing import StandardScaler, RobustScaler,MinMaxScaler\n",
        "\n",
        "mm_scaler = MinMaxScaler()\n",
        "std_scaler = StandardScaler()\n",
        "rob_scaler = RobustScaler()\n",
        "\n",
        "# We will use Robust scaler because it's ideal if there are outliers\n",
        "for i in model_df.columns:\n",
        "  model_df[i] = mm_scaler.fit_transform(model_df[i].values.reshape(-1,1))\n",
        "  # model_df[\"first_deposit_amount\"] = mm_scaler.fit_transform(model_df[\"first_deposit_amount\"].values.reshape(-1,1))\n",
        "\n",
        "model_df.describe()"
      ],
      "execution_count": 240,
      "outputs": [
        {
          "output_type": "execute_result",
          "data": {
            "text/html": [
              "<div>\n",
              "<style scoped>\n",
              "    .dataframe tbody tr th:only-of-type {\n",
              "        vertical-align: middle;\n",
              "    }\n",
              "\n",
              "    .dataframe tbody tr th {\n",
              "        vertical-align: top;\n",
              "    }\n",
              "\n",
              "    .dataframe thead th {\n",
              "        text-align: right;\n",
              "    }\n",
              "</style>\n",
              "<table border=\"1\" class=\"dataframe\">\n",
              "  <thead>\n",
              "    <tr style=\"text-align: right;\">\n",
              "      <th></th>\n",
              "      <th>risk_tolerance</th>\n",
              "      <th>investment_experience</th>\n",
              "      <th>liquidity_needs</th>\n",
              "      <th>platform</th>\n",
              "      <th>time_spent</th>\n",
              "      <th>instrument_type_first_traded</th>\n",
              "      <th>first_deposit_amount</th>\n",
              "      <th>time_horizon</th>\n",
              "      <th>churn</th>\n",
              "    </tr>\n",
              "  </thead>\n",
              "  <tbody>\n",
              "    <tr>\n",
              "      <th>count</th>\n",
              "      <td>4184.000000</td>\n",
              "      <td>4184.000000</td>\n",
              "      <td>4184.00000</td>\n",
              "      <td>4184.000000</td>\n",
              "      <td>4184.000000</td>\n",
              "      <td>4184.000000</td>\n",
              "      <td>4184.000000</td>\n",
              "      <td>4184.000000</td>\n",
              "      <td>4184.000000</td>\n",
              "    </tr>\n",
              "    <tr>\n",
              "      <th>mean</th>\n",
              "      <td>0.350502</td>\n",
              "      <td>0.719885</td>\n",
              "      <td>0.85086</td>\n",
              "      <td>0.696343</td>\n",
              "      <td>0.220835</td>\n",
              "      <td>0.735803</td>\n",
              "      <td>0.155298</td>\n",
              "      <td>0.596319</td>\n",
              "      <td>0.055927</td>\n",
              "    </tr>\n",
              "    <tr>\n",
              "      <th>std</th>\n",
              "      <td>0.466096</td>\n",
              "      <td>0.246491</td>\n",
              "      <td>0.27591</td>\n",
              "      <td>0.437036</td>\n",
              "      <td>0.236346</td>\n",
              "      <td>0.180390</td>\n",
              "      <td>0.175764</td>\n",
              "      <td>0.450564</td>\n",
              "      <td>0.229809</td>\n",
              "    </tr>\n",
              "    <tr>\n",
              "      <th>min</th>\n",
              "      <td>0.000000</td>\n",
              "      <td>0.000000</td>\n",
              "      <td>0.00000</td>\n",
              "      <td>0.000000</td>\n",
              "      <td>0.000000</td>\n",
              "      <td>0.000000</td>\n",
              "      <td>0.000000</td>\n",
              "      <td>0.000000</td>\n",
              "      <td>0.000000</td>\n",
              "    </tr>\n",
              "    <tr>\n",
              "      <th>25%</th>\n",
              "      <td>0.000000</td>\n",
              "      <td>0.666667</td>\n",
              "      <td>0.50000</td>\n",
              "      <td>0.000000</td>\n",
              "      <td>0.029613</td>\n",
              "      <td>0.800000</td>\n",
              "      <td>0.025073</td>\n",
              "      <td>0.000000</td>\n",
              "      <td>0.000000</td>\n",
              "    </tr>\n",
              "    <tr>\n",
              "      <th>50%</th>\n",
              "      <td>0.000000</td>\n",
              "      <td>0.666667</td>\n",
              "      <td>1.00000</td>\n",
              "      <td>1.000000</td>\n",
              "      <td>0.144586</td>\n",
              "      <td>0.800000</td>\n",
              "      <td>0.100291</td>\n",
              "      <td>1.000000</td>\n",
              "      <td>0.000000</td>\n",
              "    </tr>\n",
              "    <tr>\n",
              "      <th>75%</th>\n",
              "      <td>1.000000</td>\n",
              "      <td>1.000000</td>\n",
              "      <td>1.00000</td>\n",
              "      <td>1.000000</td>\n",
              "      <td>0.328299</td>\n",
              "      <td>0.800000</td>\n",
              "      <td>0.200582</td>\n",
              "      <td>1.000000</td>\n",
              "      <td>0.000000</td>\n",
              "    </tr>\n",
              "    <tr>\n",
              "      <th>max</th>\n",
              "      <td>1.000000</td>\n",
              "      <td>1.000000</td>\n",
              "      <td>1.00000</td>\n",
              "      <td>1.000000</td>\n",
              "      <td>1.000000</td>\n",
              "      <td>1.000000</td>\n",
              "      <td>1.000000</td>\n",
              "      <td>1.000000</td>\n",
              "      <td>1.000000</td>\n",
              "    </tr>\n",
              "  </tbody>\n",
              "</table>\n",
              "</div>"
            ],
            "text/plain": [
              "       risk_tolerance  investment_experience  ...  time_horizon        churn\n",
              "count     4184.000000            4184.000000  ...   4184.000000  4184.000000\n",
              "mean         0.350502               0.719885  ...      0.596319     0.055927\n",
              "std          0.466096               0.246491  ...      0.450564     0.229809\n",
              "min          0.000000               0.000000  ...      0.000000     0.000000\n",
              "25%          0.000000               0.666667  ...      0.000000     0.000000\n",
              "50%          0.000000               0.666667  ...      1.000000     0.000000\n",
              "75%          1.000000               1.000000  ...      1.000000     0.000000\n",
              "max          1.000000               1.000000  ...      1.000000     1.000000\n",
              "\n",
              "[8 rows x 9 columns]"
            ]
          },
          "metadata": {},
          "execution_count": 240
        }
      ]
    },
    {
      "cell_type": "code",
      "metadata": {
        "colab": {
          "base_uri": "https://localhost:8080/",
          "height": 712
        },
        "id": "JanfulM1r7U7",
        "outputId": "5af18962-2e0f-4b4f-b4c8-8dddac75b604"
      },
      "source": [
        "sns.displot(data=model_df, x=\"time_spent\")\n",
        "# plt.xlim(0,250)\n",
        "\n",
        "sns.displot(data=model_df, x=\"first_deposit_amount\")\n",
        "# plt.xlim(0,2500)\n",
        "\n",
        "plt.show()\n"
      ],
      "execution_count": 241,
      "outputs": [
        {
          "output_type": "display_data",
          "data": {
            "image/png": "[encoded data removed]",
            "text/plain": [
              "<Figure size 360x360 with 1 Axes>"
            ]
          },
          "metadata": {}
        },
        {
          "output_type": "display_data",
          "data": {
            "image/png": "[encoded data removed]",
            "text/plain": [
              "<Figure size 360x360 with 1 Axes>"
            ]
          },
          "metadata": {}
        }
      ]
    },
    {
      "cell_type": "markdown",
      "metadata": {
        "id": "ZAYHMgrDhC2_"
      },
      "source": [
        "## **Without removing the imbalance of the classes**"
      ]
    },
    {
      "cell_type": "code",
      "metadata": {
        "colab": {
          "base_uri": "https://localhost:8080/",
          "height": 352
        },
        "id": "AjZUIMJZehXz",
        "outputId": "e1139d3d-c7e5-45db-f1e4-5a89c33248aa"
      },
      "source": [
        "# Class balance\n",
        "\n",
        "print('Churn events fraction in the data :',len(model_df[model_df['churn']==1])/len(model_df)*100)\n",
        "print('Non-churn events fraction in the data :',len(model_df[model_df['churn']==0])/len(model_df)*100)\n",
        "\n",
        "sns.set_theme(style=\"darkgrid\")\n",
        "g=sns.countplot(data=model_df, x='churn')\n",
        "\n",
        "plt.title('Class Distributions \\n (0: No Churn | 1: Churn)', fontsize=14)\n",
        "plt.show()\n",
        "\n",
        "# Class imbalance needs to be taken care before applying model"
      ],
      "execution_count": 242,
      "outputs": [
        {
          "output_type": "stream",
          "name": "stdout",
          "text": [
            "Churn events fraction in the data : 5.592734225621415\n",
            "Non-churn events fraction in the data : 94.40726577437859\n"
          ]
        },
        {
          "output_type": "display_data",
          "data": {
            "image/png": "[encoded data removed]",
            "text/plain": [
              "<Figure size 432x288 with 1 Axes>"
            ]
          },
          "metadata": {}
        }
      ]
    },
    {
      "cell_type": "code",
      "metadata": {
        "colab": {
          "base_uri": "https://localhost:8080/"
        },
        "id": "rQMlwkHihIF8",
        "outputId": "177bdb4b-2a32-4042-b3c7-8e3a3cba2ed3"
      },
      "source": [
        "# Splitting the data\n",
        "\n",
        "X = model_df.drop(columns = ['churn']) # 'user_id'\n",
        "y = model_df['churn']\n",
        "\n",
        "X_train, X_test, y_train, y_test = train_test_split(X, y, test_size=0.2, random_state=42)\n",
        "\n",
        "print('X shape -', X_train.shape)\n",
        "print('y shape -', y_train.shape)"
      ],
      "execution_count": 243,
      "outputs": [
        {
          "output_type": "stream",
          "name": "stdout",
          "text": [
            "X shape - (3347, 8)\n",
            "y shape - (3347,)\n"
          ]
        }
      ]
    },
    {
      "cell_type": "markdown",
      "metadata": {
        "id": "TCxqU6Ztmibm"
      },
      "source": [
        "# Feature selection using Chi-square for original, imbalanced data"
      ]
    },
    {
      "cell_type": "code",
      "metadata": {
        "colab": {
          "base_uri": "https://localhost:8080/",
          "height": 407
        },
        "id": "ppgy0pRJmOhw",
        "outputId": "2b24f6c0-874b-4659-8aef-b07eb362f3cb"
      },
      "source": [
        "# Chi squared feature selection for categorical data\n",
        "from sklearn.feature_selection import SelectKBest\n",
        "from sklearn.feature_selection import chi2\n",
        "\n",
        "# feature selection\n",
        "def select_features(X_train, y_train, X_test):\n",
        "\tfs = SelectKBest(score_func=chi2, k='all')\n",
        "\tfs.fit(X_train, y_train)\n",
        "\tX_train_fs = fs.transform(X_train)\n",
        "\tX_test_fs = fs.transform(X_test)\n",
        "\treturn X_train_fs, X_test_fs, fs\n",
        "\n",
        "# feature selection\n",
        "X_train_fs, X_test_fs, fs = select_features(X_train, y_train, X_test)\n",
        "\n",
        "# what are scores for the features\n",
        "for i in range(len(fs.scores_)):\n",
        "\tprint('Feature %d: %f' % (i, fs.scores_[i]))\n",
        " \n",
        "# plot the scores\n",
        "plt.bar([i for i in range(len(fs.scores_))], fs.scores_)\n",
        "plt.yscale('log')\n",
        "plt.show()"
      ],
      "execution_count": 244,
      "outputs": [
        {
          "output_type": "stream",
          "name": "stdout",
          "text": [
            "Feature 0: 9.503448\n",
            "Feature 1: 0.000200\n",
            "Feature 2: 0.047427\n",
            "Feature 3: 0.005039\n",
            "Feature 4: 0.005776\n",
            "Feature 5: 0.000598\n",
            "Feature 6: 1.218599\n",
            "Feature 7: 0.902191\n"
          ]
        },
        {
          "output_type": "display_data",
          "data": {
            "image/png": "[encoded data removed]",
            "text/plain": [
              "<Figure size 432x288 with 1 Axes>"
            ]
          },
          "metadata": {}
        }
      ]
    },
    {
      "cell_type": "markdown",
      "metadata": {
        "id": "eF7n2IQh5Pfu"
      },
      "source": [
        "### Random Forest with a single validation data"
      ]
    },
    {
      "cell_type": "code",
      "metadata": {
        "colab": {
          "base_uri": "https://localhost:8080/"
        },
        "id": "VxpA7XRlkXWX",
        "outputId": "ecb482a0-2df6-47a8-a448-bec49d2955c3"
      },
      "source": [
        "from sklearn import tree\n",
        "from sklearn.metrics import f1_score\n",
        "from sklearn.metrics import confusion_matrix\n",
        "from sklearn.metrics import plot_confusion_matrix\n",
        "from sklearn.metrics import precision_recall_fscore_support\n",
        "from sklearn.metrics import r2_score\n",
        "from sklearn.ensemble import RandomForestClassifier\n",
        "\n",
        "clf = RandomForestClassifier(n_estimators=200)\n",
        "clf = clf.fit(X_train, y_train)\n",
        "\n",
        "print(\"Accuracy (in %):\", clf.score(X_test, y_test)*100)\n",
        "\n",
        "# y_pred = clf.predict(X_test)\n",
        "y_pred = (clf.predict_proba(X_test)[:,1] >= 0.1).astype(bool)\n",
        "print('F1 score', f1_score(y_test, y_pred))\n",
        "\n",
        "print('AUC Score = ', roc_auc_score(y_test, clf.predict_proba(X_test)[:, 1]))\n",
        "\n",
        "plt.show()"
      ],
      "execution_count": 245,
      "outputs": [
        {
          "output_type": "stream",
          "name": "stdout",
          "text": [
            "Accuracy (in %): 93.6678614097969\n",
            "F1 score 0.07253886010362695\n",
            "AUC Score =  0.5565899069083783\n"
          ]
        }
      ]
    },
    {
      "cell_type": "markdown",
      "metadata": {
        "id": "VW8il8C5LTnE"
      },
      "source": [
        "\n",
        "\n",
        "## Poor performance from imbalanced data. No surprises here.\n",
        "Let's check the feature importance for the classifier\n",
        "\n",
        "\n",
        "\n"
      ]
    },
    {
      "cell_type": "code",
      "metadata": {
        "colab": {
          "base_uri": "https://localhost:8080/",
          "height": 267
        },
        "id": "Huw8sMbB5DjW",
        "outputId": "6961cc10-e7f8-4081-e56d-87bad847fc36"
      },
      "source": [
        "importance=clf.feature_importances_\n",
        "plt.bar([x for x in range(len(importance))], importance)\n",
        "plt.show()"
      ],
      "execution_count": 246,
      "outputs": [
        {
          "output_type": "display_data",
          "data": {
            "image/png": "[encoded data removed]",
            "text/plain": [
              "<Figure size 432x288 with 1 Axes>"
            ]
          },
          "metadata": {}
        }
      ]
    },
    {
      "cell_type": "markdown",
      "metadata": {
        "id": "P-PJKnyIhIln"
      },
      "source": [
        "# Balancing the classes by **undersampling**"
      ]
    },
    {
      "cell_type": "code",
      "metadata": {
        "colab": {
          "base_uri": "https://localhost:8080/",
          "height": 206
        },
        "id": "vgNFdf8SnYO3",
        "outputId": "86b6e16f-5b3c-42f5-bb27-5a3e53d3ebf0"
      },
      "source": [
        "from sklearn.model_selection import train_test_split\n",
        "from sklearn.model_selection import StratifiedKFold\n",
        "\n",
        "# Number of fraud classes are fraud_len\n",
        "\n",
        "churn_df = model_df[model_df['churn'] == 1]\n",
        "churn_len=len(churn_df)\n",
        "non_churn_df = model_df[model_df['churn'] == 0][:churn_len]\n",
        "\n",
        "balanced_df = pd.concat([churn_df, non_churn_df])\n",
        "\n",
        "# Shuffle \n",
        "new_df = balanced_df.sample(frac=1, random_state=None)\n",
        "\n",
        "new_df.head()"
      ],
      "execution_count": 247,
      "outputs": [
        {
          "output_type": "execute_result",
          "data": {
            "text/html": [
              "<div>\n",
              "<style scoped>\n",
              "    .dataframe tbody tr th:only-of-type {\n",
              "        vertical-align: middle;\n",
              "    }\n",
              "\n",
              "    .dataframe tbody tr th {\n",
              "        vertical-align: top;\n",
              "    }\n",
              "\n",
              "    .dataframe thead th {\n",
              "        text-align: right;\n",
              "    }\n",
              "</style>\n",
              "<table border=\"1\" class=\"dataframe\">\n",
              "  <thead>\n",
              "    <tr style=\"text-align: right;\">\n",
              "      <th></th>\n",
              "      <th>risk_tolerance</th>\n",
              "      <th>investment_experience</th>\n",
              "      <th>liquidity_needs</th>\n",
              "      <th>platform</th>\n",
              "      <th>time_spent</th>\n",
              "      <th>instrument_type_first_traded</th>\n",
              "      <th>first_deposit_amount</th>\n",
              "      <th>time_horizon</th>\n",
              "      <th>churn</th>\n",
              "    </tr>\n",
              "  </thead>\n",
              "  <tbody>\n",
              "    <tr>\n",
              "      <th>4390</th>\n",
              "      <td>1.0</td>\n",
              "      <td>0.666667</td>\n",
              "      <td>1.0</td>\n",
              "      <td>1.0</td>\n",
              "      <td>0.025174</td>\n",
              "      <td>0.8</td>\n",
              "      <td>0.005015</td>\n",
              "      <td>0.0</td>\n",
              "      <td>1.0</td>\n",
              "    </tr>\n",
              "    <tr>\n",
              "      <th>3401</th>\n",
              "      <td>0.0</td>\n",
              "      <td>1.000000</td>\n",
              "      <td>1.0</td>\n",
              "      <td>1.0</td>\n",
              "      <td>0.311866</td>\n",
              "      <td>0.8</td>\n",
              "      <td>0.005015</td>\n",
              "      <td>1.0</td>\n",
              "      <td>1.0</td>\n",
              "    </tr>\n",
              "    <tr>\n",
              "      <th>1516</th>\n",
              "      <td>0.0</td>\n",
              "      <td>0.666667</td>\n",
              "      <td>1.0</td>\n",
              "      <td>0.0</td>\n",
              "      <td>0.076125</td>\n",
              "      <td>0.8</td>\n",
              "      <td>0.200582</td>\n",
              "      <td>0.0</td>\n",
              "      <td>1.0</td>\n",
              "    </tr>\n",
              "    <tr>\n",
              "      <th>2590</th>\n",
              "      <td>1.0</td>\n",
              "      <td>1.000000</td>\n",
              "      <td>1.0</td>\n",
              "      <td>0.5</td>\n",
              "      <td>0.174566</td>\n",
              "      <td>0.3</td>\n",
              "      <td>0.501454</td>\n",
              "      <td>0.5</td>\n",
              "      <td>1.0</td>\n",
              "    </tr>\n",
              "    <tr>\n",
              "      <th>2685</th>\n",
              "      <td>1.0</td>\n",
              "      <td>1.000000</td>\n",
              "      <td>1.0</td>\n",
              "      <td>1.0</td>\n",
              "      <td>0.210328</td>\n",
              "      <td>0.8</td>\n",
              "      <td>0.015044</td>\n",
              "      <td>0.0</td>\n",
              "      <td>1.0</td>\n",
              "    </tr>\n",
              "  </tbody>\n",
              "</table>\n",
              "</div>"
            ],
            "text/plain": [
              "      risk_tolerance  investment_experience  ...  time_horizon  churn\n",
              "4390             1.0               0.666667  ...           0.0    1.0\n",
              "3401             0.0               1.000000  ...           1.0    1.0\n",
              "1516             0.0               0.666667  ...           0.0    1.0\n",
              "2590             1.0               1.000000  ...           0.5    1.0\n",
              "2685             1.0               1.000000  ...           0.0    1.0\n",
              "\n",
              "[5 rows x 9 columns]"
            ]
          },
          "metadata": {},
          "execution_count": 247
        }
      ]
    },
    {
      "cell_type": "code",
      "metadata": {
        "colab": {
          "base_uri": "https://localhost:8080/",
          "height": 317
        },
        "id": "4bebBrovnvzU",
        "outputId": "58d8628f-cb33-442e-b384-9d9bbf2de199"
      },
      "source": [
        "# Classes balanced\n",
        "\n",
        "sns.set_theme(style=\"darkgrid\")\n",
        "sns.countplot(data=new_df, x='churn')\n",
        "plt.title('Class Distributions \\n (0: No Churn | 1: Churn)', fontsize=14)\n",
        "plt.show()"
      ],
      "execution_count": 248,
      "outputs": [
        {
          "output_type": "display_data",
          "data": {
            "image/png": "[encoded data removed]",
            "text/plain": [
              "<Figure size 432x288 with 1 Axes>"
            ]
          },
          "metadata": {}
        }
      ]
    },
    {
      "cell_type": "code",
      "metadata": {
        "colab": {
          "base_uri": "https://localhost:8080/"
        },
        "id": "bWqkfjjnn6QJ",
        "outputId": "32cf7a11-0ad9-4288-e89c-c7a78cfa9419"
      },
      "source": [
        "X=new_df.drop(columns = ['churn'], axis=1)\n",
        "y=new_df['churn']\n",
        "\n",
        "X_train, X_test, y_train, y_test = train_test_split(X, y, test_size=0.2, random_state=0)\n",
        "\n",
        "print(X_train.shape)\n",
        "print(X_test.shape)"
      ],
      "execution_count": 249,
      "outputs": [
        {
          "output_type": "stream",
          "name": "stdout",
          "text": [
            "(374, 8)\n",
            "(94, 8)\n"
          ]
        }
      ]
    },
    {
      "cell_type": "code",
      "metadata": {
        "colab": {
          "base_uri": "https://localhost:8080/",
          "height": 407
        },
        "id": "CxRwAEnnm52D",
        "outputId": "2cb7e391-d382-4556-8867-4eab7b00632c"
      },
      "source": [
        "# Chi squared feature selection for categorical data\n",
        "\n",
        "from sklearn.feature_selection import SelectKBest\n",
        "from sklearn.feature_selection import chi2\n",
        "\n",
        "# feature selection\n",
        "def select_features(X_train, y_train, X_test):\n",
        "\tfs = SelectKBest(score_func=chi2, k='all')\n",
        "\tfs.fit(X_train, y_train)\n",
        "\tX_train_fs = fs.transform(X_train)\n",
        "\tX_test_fs = fs.transform(X_test)\n",
        "\treturn X_train_fs, X_test_fs, fs\n",
        "\n",
        "# feature selection\n",
        "X_train_fs, X_test_fs, fs = select_features(X_train, y_train, X_test)\n",
        "\n",
        "# what are scores for the features\n",
        "for i in range(len(fs.scores_)):\n",
        "\tprint('Feature %d: %f' % (i, fs.scores_[i]))\n",
        " \n",
        "# plot the scores\n",
        "plt.bar([i for i in range(len(fs.scores_))], fs.scores_)\n",
        "plt.yscale('log')\n",
        "plt.show()"
      ],
      "execution_count": 250,
      "outputs": [
        {
          "output_type": "stream",
          "name": "stdout",
          "text": [
            "Feature 0: 4.763168\n",
            "Feature 1: 0.011563\n",
            "Feature 2: 0.032180\n",
            "Feature 3: 0.050803\n",
            "Feature 4: 0.026899\n",
            "Feature 5: 0.054231\n",
            "Feature 6: 0.003873\n",
            "Feature 7: 0.013000\n"
          ]
        },
        {
          "output_type": "display_data",
          "data": {
            "image/png": "[encoded data removed]",
            "text/plain": [
              "<Figure size 432x288 with 1 Axes>"
            ]
          },
          "metadata": {}
        }
      ]
    },
    {
      "cell_type": "code",
      "metadata": {
        "colab": {
          "base_uri": "https://localhost:8080/",
          "height": 341
        },
        "id": "_UMFReD39XVS",
        "outputId": "956530dd-944a-46c6-e971-379bda4ac663"
      },
      "source": [
        "from sklearn.ensemble import RandomForestClassifier\n",
        "\n",
        "clf = RandomForestClassifier(n_estimators=200)\n",
        "clf = clf.fit(X_train, y_train)\n",
        "\n",
        "print(\"Accuracy (in %):\",clf.score(X_test, y_test)*100)\n",
        "\n",
        "y_pred = clf.predict(X_test)\n",
        "print('F1 score', f1_score(y_test, y_pred))\n",
        "\n",
        "plot_confusion_matrix(clf, X_test, y_test)  \n",
        "\n",
        "print('AUC Score = ', roc_auc_score(y_test, clf.predict_proba(X_test)[:, 1]))\n",
        "\n",
        "plt.show()"
      ],
      "execution_count": 251,
      "outputs": [
        {
          "output_type": "stream",
          "name": "stdout",
          "text": [
            "Accuracy (in %): 50.0\n",
            "F1 score 0.5523809523809524\n",
            "AUC Score =  0.5412137681159419\n"
          ]
        },
        {
          "output_type": "display_data",
          "data": {
            "image/png": "[encoded data removed]",
            "text/plain": [
              "<Figure size 432x288 with 2 Axes>"
            ]
          },
          "metadata": {}
        }
      ]
    },
    {
      "cell_type": "code",
      "metadata": {
        "colab": {
          "base_uri": "https://localhost:8080/",
          "height": 302
        },
        "id": "skSctytiQuk4",
        "outputId": "b5025ddb-6299-4ee1-de05-1301aea96d40"
      },
      "source": [
        "# Let's check the feature importance\n",
        "\n",
        "importance=clf.feature_importances_\n",
        "print(importance)\n",
        "plt.bar([x for x in range(len(importance))], importance)\n",
        "plt.show()"
      ],
      "execution_count": 252,
      "outputs": [
        {
          "output_type": "stream",
          "name": "stdout",
          "text": [
            "[0.05924868 0.09788615 0.04800316 0.06976578 0.34477873 0.04537816\n",
            " 0.26301125 0.07192809]\n"
          ]
        },
        {
          "output_type": "display_data",
          "data": {
            "image/png": "[encoded data removed]",
            "text/plain": [
              "<Figure size 432x288 with 1 Axes>"
            ]
          },
          "metadata": {}
        }
      ]
    },
    {
      "cell_type": "markdown",
      "metadata": {
        "id": "AoBvSeVBNU7Q"
      },
      "source": [
        "## **Balancing the classes by undersampling improved the performance. However, the F1 score average is still only 0.53. Not good enough.**"
      ]
    },
    {
      "cell_type": "markdown",
      "metadata": {
        "id": "cfWlJA1hqXEL"
      },
      "source": [
        "# **Random Oversampling**"
      ]
    },
    {
      "cell_type": "code",
      "metadata": {
        "colab": {
          "base_uri": "https://localhost:8080/"
        },
        "id": "s5rus6VcqUzn",
        "outputId": "9f292a2f-ccf7-4613-a403-71f17edd5774"
      },
      "source": [
        "from imblearn.over_sampling import RandomOverSampler\n",
        "from collections import Counter\n",
        "\n",
        "# Imbalanced data\n",
        "\n",
        "X = model_df.drop(columns = ['churn'])\n",
        "y = model_df['churn']\n",
        "\n",
        "# Class distribution\n",
        "print(Counter(y))\n",
        "\n",
        "# Oversampling strategy\n",
        "oversample = RandomOverSampler(sampling_strategy='minority')\n",
        "\n",
        "# Fitting and applying the transforms\n",
        "X_over, y_over = oversample.fit_resample(X, y)\n",
        "\n",
        "# summarize class distribution\n",
        "print(Counter(y_over))"
      ],
      "execution_count": 253,
      "outputs": [
        {
          "output_type": "stream",
          "name": "stdout",
          "text": [
            "Counter({0.0: 3950, 1.0: 234})\n",
            "Counter({0.0: 3950, 1.0: 3950})\n"
          ]
        }
      ]
    },
    {
      "cell_type": "code",
      "metadata": {
        "colab": {
          "base_uri": "https://localhost:8080/"
        },
        "id": "Hoqu4WMtrCF2",
        "outputId": "64041824-4582-413d-bd28-a0dff276fbd9"
      },
      "source": [
        "X_train, X_test, y_train, y_test = train_test_split(X_over, y_over, test_size=0.2, random_state=42)\n",
        "\n",
        "print(X_train.shape, ', ',X_test.shape)\n",
        "print(y_train.shape, ', ',y_test.shape)"
      ],
      "execution_count": 254,
      "outputs": [
        {
          "output_type": "stream",
          "name": "stdout",
          "text": [
            "(6320, 8) ,  (1580, 8)\n",
            "(6320,) ,  (1580,)\n"
          ]
        }
      ]
    },
    {
      "cell_type": "code",
      "metadata": {
        "colab": {
          "base_uri": "https://localhost:8080/",
          "height": 337
        },
        "id": "REExQR9irLEs",
        "outputId": "f9a5fb3b-3d57-4bbd-f166-15cfce43d18e"
      },
      "source": [
        "from sklearn.ensemble import RandomForestClassifier\n",
        "\n",
        "clf = RandomForestClassifier(n_estimators=100)\n",
        "clf = clf.fit(X_train, y_train)\n",
        "\n",
        "print(\"Accuracy (in %):\",clf.score(X_test, y_test)*100)\n",
        "\n",
        "y_pred = clf.predict(X_test)\n",
        "print('F1 score', f1_score(y_test, y_pred))\n",
        "\n",
        "plot_confusion_matrix(clf, X_test, y_test)  \n",
        "\n",
        "print('AUC Score = ', roc_auc_score(y_test, clf.predict_proba(X_test)[:, 1]))\n",
        "\n",
        "plt.show()"
      ],
      "execution_count": 255,
      "outputs": [
        {
          "output_type": "stream",
          "name": "stdout",
          "text": [
            "Accuracy (in %): 97.27848101265822\n",
            "F1 score 0.9731417863835103\n",
            "AUC Score =  0.9991890752733665\n"
          ]
        },
        {
          "output_type": "display_data",
          "data": {
            "image/png": "[encoded data removed]",
            "text/plain": [
              "<Figure size 432x288 with 2 Axes>"
            ]
          },
          "metadata": {}
        }
      ]
    },
    {
      "cell_type": "markdown",
      "metadata": {
        "id": "I0vVa_JbCXsK"
      },
      "source": [
        "# SMOTE to oversample the minority classes for better prediction"
      ]
    },
    {
      "cell_type": "code",
      "metadata": {
        "colab": {
          "base_uri": "https://localhost:8080/"
        },
        "id": "C2Pwx-unAiX_",
        "outputId": "078f2653-3d11-40ac-947c-1fe3bfe6ac01"
      },
      "source": [
        "# Oversample and plot imbalanced dataset with SMOTE\n",
        "from collections import Counter\n",
        "from sklearn.datasets import make_classification\n",
        "from imblearn.over_sampling import SMOTE\n",
        "from numpy import where\n",
        "\n",
        "# Imbalanced data reloaded for oversampling\n",
        "\n",
        "X = model_df.drop(columns = ['churn'])\n",
        "y = model_df['churn']\n",
        "\n",
        "X_train, X_test, y_train, y_test = train_test_split(X, y, test_size=0.2, random_state=42)\n",
        "print(X_train.shape)\n",
        "\n",
        "oversample = SMOTE()\n",
        "X, y = oversample.fit_resample(X, y)\n",
        "\n",
        "X_train, X_test, y_train, y_test = train_test_split(X, y, test_size=0.2, random_state=42)\n",
        "\n",
        "print(X_train.shape)\n"
      ],
      "execution_count": 256,
      "outputs": [
        {
          "output_type": "stream",
          "name": "stdout",
          "text": [
            "(3347, 8)\n",
            "(6320, 8)\n"
          ]
        }
      ]
    },
    {
      "cell_type": "code",
      "metadata": {
        "colab": {
          "base_uri": "https://localhost:8080/",
          "height": 407
        },
        "id": "W8PHsVehoU8B",
        "outputId": "d59f24c7-31e6-42e9-81ee-62ddfd3c6828"
      },
      "source": [
        "# Chi squared feature selection for categorical data\n",
        "\n",
        "from sklearn.feature_selection import SelectKBest\n",
        "from sklearn.feature_selection import chi2\n",
        "\n",
        "# feature selection\n",
        "def select_features(X_train, y_train, X_test):\n",
        "\tfs = SelectKBest(score_func=chi2, k='all')\n",
        "\tfs.fit(X_train, y_train)\n",
        "\tX_train_fs = fs.transform(X_train)\n",
        "\tX_test_fs = fs.transform(X_test)\n",
        "\treturn X_train_fs, X_test_fs, fs\n",
        "\n",
        "# feature selection\n",
        "X_train_fs, X_test_fs, fs = select_features(X_train, y_train, X_test)\n",
        "\n",
        "# what are scores for the features\n",
        "for i in range(len(fs.scores_)):\n",
        "\tprint('Feature %d: %f' % (i, fs.scores_[i]))\n",
        " \n",
        "# plot the scores\n",
        "plt.bar([i for i in range(len(fs.scores_))], fs.scores_)\n",
        "plt.yscale('log')\n",
        "plt.show()"
      ],
      "execution_count": 257,
      "outputs": [
        {
          "output_type": "stream",
          "name": "stdout",
          "text": [
            "Feature 0: 85.242719\n",
            "Feature 1: 0.069257\n",
            "Feature 2: 0.181255\n",
            "Feature 3: 0.001417\n",
            "Feature 4: 0.043509\n",
            "Feature 5: 0.864876\n",
            "Feature 6: 22.288801\n",
            "Feature 7: 1.260003\n"
          ]
        },
        {
          "output_type": "display_data",
          "data": {
            "image/png": "[encoded data removed]",
            "text/plain": [
              "<Figure size 432x288 with 1 Axes>"
            ]
          },
          "metadata": {}
        }
      ]
    },
    {
      "cell_type": "code",
      "metadata": {
        "colab": {
          "base_uri": "https://localhost:8080/",
          "height": 337
        },
        "id": "qxYqMPzFDL6h",
        "outputId": "efbd19eb-dde4-4a07-8231-f2a452b5843f"
      },
      "source": [
        "from sklearn.ensemble import RandomForestClassifier\n",
        "\n",
        "clf = RandomForestClassifier(n_estimators=200)\n",
        "clf = clf.fit(X_train, y_train)\n",
        "\n",
        "print(\"Accuracy (in %):\",clf.score(X_test, y_test)*100)\n",
        "\n",
        "y_pred = clf.predict(X_test)\n",
        "print('F1 score', f1_score(y_test, y_pred))\n",
        "\n",
        "plot_confusion_matrix(clf, X_test, y_test)  \n",
        "\n",
        "print('AUC Score = ', roc_auc_score(y_test, clf.predict_proba(X_test)[:, 1]))\n",
        "\n",
        "plt.show()"
      ],
      "execution_count": 258,
      "outputs": [
        {
          "output_type": "stream",
          "name": "stdout",
          "text": [
            "Accuracy (in %): 92.91139240506328\n",
            "F1 score 0.9282051282051281\n",
            "AUC Score =  0.9799087789813439\n"
          ]
        },
        {
          "output_type": "display_data",
          "data": {
            "image/png": "[encoded data removed]",
            "text/plain": [
              "<Figure size 432x288 with 2 Axes>"
            ]
          },
          "metadata": {}
        }
      ]
    },
    {
      "cell_type": "code",
      "metadata": {
        "colab": {
          "base_uri": "https://localhost:8080/",
          "height": 302
        },
        "id": "IZOtx75-PLpc",
        "outputId": "9b58799c-1dc0-4ee6-cdf5-1bbd34203687"
      },
      "source": [
        "# Let's check the feature importance\n",
        "\n",
        "importance=clf.feature_importances_\n",
        "print(importance)\n",
        "plt.bar([x for x in range(len(importance))], importance)\n",
        "plt.show()"
      ],
      "execution_count": 259,
      "outputs": [
        {
          "output_type": "stream",
          "name": "stdout",
          "text": [
            "[0.05769636 0.146733   0.0521191  0.05012682 0.26580087 0.04697171\n",
            " 0.31947184 0.06108029]\n"
          ]
        },
        {
          "output_type": "display_data",
          "data": {
            "image/png": "[encoded data removed]",
            "text/plain": [
              "<Figure size 432x288 with 1 Axes>"
            ]
          },
          "metadata": {}
        }
      ]
    },
    {
      "cell_type": "code",
      "metadata": {
        "id": "4aI7wL8Kw8qj"
      },
      "source": [
        ""
      ],
      "execution_count": null,
      "outputs": []
    }
  ]
}